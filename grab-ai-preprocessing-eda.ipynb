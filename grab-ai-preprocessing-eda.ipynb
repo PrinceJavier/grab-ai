{
 "cells": [
  {
   "cell_type": "markdown",
   "metadata": {},
   "source": [
    "# Safety Dataset Preprocessing and EDA\n",
    "by Prince Joseph Erneszer Javier"
   ]
  },
  {
   "cell_type": "markdown",
   "metadata": {},
   "source": [
    "## Executive Summary"
   ]
  },
  {
   "cell_type": "markdown",
   "metadata": {},
   "source": [
    "In this notebook, we load and process data for Grab AI for SEA challenge under the Safety category. We were provided Telematics data and from these data we would develop models that can predict if a driver is driving safely or not. The raw features dataset contains 16 million samples and 11 columns including the `bookingID`. There are 20,000 unique `bookingID`'s each with either 0 or 1 corresponding to safe or unsafe driving. In this notebook, we loaded the data, engineered features, sampled the data, and saved the processed data to be used to train the machine learning classifiers in the notebook `grab-ai-training`. `grab-ai-testing` contains the trained models predicting on test data. Finally, `grab-ai-predicting` contains the pipeline for predicting on a new dataset.\n",
    "\n",
    "The following preprocessing were performed in this notebook: the features data saved in multiple CSVs were concatenated into one dataframe, a 5% test data from the features dataset was separated from the 95% training data, features were engineered and samples were aggregated per `bookingID`, the class labels of 0 or 1 per `bookingID` was concatenated to the aggregated and engineered feature set. Finally, since the classes were imbalanced, the number of classes were equalized to be 50-50 for the machine learning models. The final processed datasets were saved as CSV files."
   ]
  },
  {
   "cell_type": "markdown",
   "metadata": {},
   "source": [
    "## Introduction"
   ]
  },
  {
   "cell_type": "markdown",
   "metadata": {},
   "source": [
    "Grab AI for SEA challenge is a hackathon organized by Grab. Grab offers three challenges that can be solved using AI: Traffic Management, Computer Vision, and Safety. We tackle the Safety Challenge. The `Ride Safety` dataset was provided by Grab, which contains Telematics data (acceleration, gyroscope data, speed, etc.), `bookingID`, and labels (0 or 1 for safe or unsafe driving). The raw dataset was prepared for the machine learning models in `grab-ai-training` notebook."
   ]
  },
  {
   "cell_type": "markdown",
   "metadata": {},
   "source": [
    "## About the Data"
   ]
  },
  {
   "cell_type": "markdown",
   "metadata": {},
   "source": [
    "The `Ride Safety` dataset contains two folders: `features` and `labels`. `features` contains 10 CSV files which contain a total of 16 million telematics data samples. The columns in the `features` dataset as described in `data_dictionary.xlsx` are:\n",
    "\n",
    "|Column Name|Description|\n",
    "|:--|:--|\n",
    "|`bookingID`|trip id|\n",
    "|`Accuracy`|accuracy inferred by GPS in meters|\n",
    "|`Bearing`|GPS bearing|\n",
    "|`acceleration_x`|accelerometer reading in x axis (m/s2)|\n",
    "|`acceleration_y`|accelerometer reading in y axis (m/s2)|\n",
    "|`acceleration_z`|accelerometer reading in z axis (m/s2)|\n",
    "|`gyro_x`|gyroscope reading in x axis (rad/s)|\n",
    "|`gyro_y`|gyroscope reading in y axis (rad/s)|\n",
    "|`gyro_z`|gyroscope reading in z axis (rad/s)|\n",
    "|`second`|time of the record by number of seconds|\n",
    "|`Speed`|speed measured by GPS in m/s|"
   ]
  },
  {
   "cell_type": "markdown",
   "metadata": {},
   "source": [
    "## Preprocessing"
   ]
  },
  {
   "cell_type": "code",
   "execution_count": 1,
   "metadata": {},
   "outputs": [],
   "source": [
    "# loading packages\n",
    "\n",
    "import pandas as pd\n",
    "import numpy as np\n",
    "import matplotlib.pyplot as plt\n",
    "import seaborn as sns\n",
    "import glob\n",
    "\n",
    "from collections import Counter\n",
    "from scipy.stats import kurtosis, skew\n",
    "from scipy.signal import periodogram\n",
    "import multiprocessing\n",
    "from sklearn.utils import shuffle\n",
    "\n",
    "import warnings\n",
    "warnings.simplefilter('ignore')\n",
    "\n",
    "n_jobs = multiprocessing.cpu_count()"
   ]
  },
  {
   "cell_type": "markdown",
   "metadata": {},
   "source": [
    "### Loading the Data"
   ]
  },
  {
   "cell_type": "markdown",
   "metadata": {},
   "source": [
    "There are two folders `features` and `labels` and one excel file `data_dictionary.xlsx`."
   ]
  },
  {
   "cell_type": "code",
   "execution_count": 2,
   "metadata": {},
   "outputs": [
    {
     "name": "stdout",
     "output_type": "stream",
     "text": [
      "data_dictionary.xlsx  features\tlabels\r\n"
     ]
    }
   ],
   "source": [
    "# check the dataset folders\n",
    "!ls data/safety/"
   ]
  },
  {
   "cell_type": "markdown",
   "metadata": {},
   "source": [
    "We read `data_dictionary.xlsx` and check the contents."
   ]
  },
  {
   "cell_type": "code",
   "execution_count": 3,
   "metadata": {},
   "outputs": [],
   "source": [
    "# read the data dictionary\n",
    "xl = pd.ExcelFile(\"data/safety/data_dictionary.xlsx\")"
   ]
  },
  {
   "cell_type": "code",
   "execution_count": 4,
   "metadata": {},
   "outputs": [
    {
     "data": {
      "text/plain": [
       "['telematics data', 'labels']"
      ]
     },
     "execution_count": 4,
     "metadata": {},
     "output_type": "execute_result"
    }
   ],
   "source": [
    "# sheet names\n",
    "xl.sheet_names"
   ]
  },
  {
   "cell_type": "code",
   "execution_count": 5,
   "metadata": {},
   "outputs": [
    {
     "data": {
      "text/html": [
       "<div>\n",
       "<style scoped>\n",
       "    .dataframe tbody tr th:only-of-type {\n",
       "        vertical-align: middle;\n",
       "    }\n",
       "\n",
       "    .dataframe tbody tr th {\n",
       "        vertical-align: top;\n",
       "    }\n",
       "\n",
       "    .dataframe thead th {\n",
       "        text-align: right;\n",
       "    }\n",
       "</style>\n",
       "<table border=\"1\" class=\"dataframe\">\n",
       "  <thead>\n",
       "    <tr style=\"text-align: right;\">\n",
       "      <th></th>\n",
       "      <th>Unnamed: 0</th>\n",
       "      <th>bookingID</th>\n",
       "      <th>Accuracy</th>\n",
       "      <th>Bearing</th>\n",
       "      <th>acceleration_x</th>\n",
       "      <th>acceleration_y</th>\n",
       "      <th>acceleration_z</th>\n",
       "      <th>gyro_x</th>\n",
       "      <th>gyro_y</th>\n",
       "      <th>gyro_z</th>\n",
       "      <th>second</th>\n",
       "      <th>Speed</th>\n",
       "    </tr>\n",
       "  </thead>\n",
       "  <tbody>\n",
       "    <tr>\n",
       "      <th>0</th>\n",
       "      <td>description</td>\n",
       "      <td>trip id</td>\n",
       "      <td>accuracy inferred by GPS in meters</td>\n",
       "      <td>GPS bearing</td>\n",
       "      <td>accelerometer reading in x axis (m/s2)</td>\n",
       "      <td>accelerometer reading in y axis (m/s2)</td>\n",
       "      <td>accelerometer reading in z axis (m/s2)</td>\n",
       "      <td>gyroscope reading in x axis (rad/s)</td>\n",
       "      <td>gyroscope reading in y axis (rad/s)</td>\n",
       "      <td>gyroscope reading in z axis (rad/s)</td>\n",
       "      <td>time of the record by number of seconds</td>\n",
       "      <td>speed measured by GPS in m/s</td>\n",
       "    </tr>\n",
       "    <tr>\n",
       "      <th>1</th>\n",
       "      <td>samples</td>\n",
       "      <td>1</td>\n",
       "      <td>5</td>\n",
       "      <td>303.695</td>\n",
       "      <td>-0.00636292</td>\n",
       "      <td>-0.393829</td>\n",
       "      <td>-0.922379</td>\n",
       "      <td>-0.020000606102604086,0.03205247529964867,-0.0...</td>\n",
       "      <td>NaN</td>\n",
       "      <td>NaN</td>\n",
       "      <td>0</td>\n",
       "      <td>0.57</td>\n",
       "    </tr>\n",
       "    <tr>\n",
       "      <th>2</th>\n",
       "      <td>NaN</td>\n",
       "      <td>1</td>\n",
       "      <td>10</td>\n",
       "      <td>325.39</td>\n",
       "      <td>0.183914</td>\n",
       "      <td>-0.355026</td>\n",
       "      <td>-0.92041</td>\n",
       "      <td>-0.028598887998033916,0.025720543491876274,-0....</td>\n",
       "      <td>NaN</td>\n",
       "      <td>NaN</td>\n",
       "      <td>1</td>\n",
       "      <td>0.28</td>\n",
       "    </tr>\n",
       "    <tr>\n",
       "      <th>3</th>\n",
       "      <td>NaN</td>\n",
       "      <td>1</td>\n",
       "      <td>5</td>\n",
       "      <td>303.695</td>\n",
       "      <td>-0.00636292</td>\n",
       "      <td>-0.392944</td>\n",
       "      <td>-0.922226</td>\n",
       "      <td>-0.01894040167264354,0.030980020328673762,-0.0...</td>\n",
       "      <td>NaN</td>\n",
       "      <td>NaN</td>\n",
       "      <td>2</td>\n",
       "      <td>0.57</td>\n",
       "    </tr>\n",
       "    <tr>\n",
       "      <th>4</th>\n",
       "      <td>NaN</td>\n",
       "      <td>1</td>\n",
       "      <td>10</td>\n",
       "      <td>324.23</td>\n",
       "      <td>0.165924</td>\n",
       "      <td>-0.332092</td>\n",
       "      <td>-0.920578</td>\n",
       "      <td>-0.0577245492596855,0.002558232543130116,0.014...</td>\n",
       "      <td>NaN</td>\n",
       "      <td>NaN</td>\n",
       "      <td>3</td>\n",
       "      <td>0.28</td>\n",
       "    </tr>\n",
       "    <tr>\n",
       "      <th>5</th>\n",
       "      <td>NaN</td>\n",
       "      <td>1</td>\n",
       "      <td>5</td>\n",
       "      <td>303.695</td>\n",
       "      <td>-0.00642395</td>\n",
       "      <td>-0.392166</td>\n",
       "      <td>-0.924164</td>\n",
       "      <td>-0.017865283540578553,0.03203915949419828,-0.0...</td>\n",
       "      <td>NaN</td>\n",
       "      <td>NaN</td>\n",
       "      <td>4</td>\n",
       "      <td>0.57</td>\n",
       "    </tr>\n",
       "    <tr>\n",
       "      <th>6</th>\n",
       "      <td>NaN</td>\n",
       "      <td>1</td>\n",
       "      <td>10</td>\n",
       "      <td>324.23</td>\n",
       "      <td>0.169724</td>\n",
       "      <td>-0.333694</td>\n",
       "      <td>-0.939575</td>\n",
       "      <td>-0.04030587783391324,0.03112276576310201,-0.00...</td>\n",
       "      <td>NaN</td>\n",
       "      <td>NaN</td>\n",
       "      <td>5</td>\n",
       "      <td>0.28</td>\n",
       "    </tr>\n",
       "    <tr>\n",
       "      <th>7</th>\n",
       "      <td>NaN</td>\n",
       "      <td>1</td>\n",
       "      <td>5</td>\n",
       "      <td>303.695</td>\n",
       "      <td>-0.00480652</td>\n",
       "      <td>-0.391861</td>\n",
       "      <td>-0.923065</td>\n",
       "      <td>-0.020006731373111267,0.03205726898961082,-0.0...</td>\n",
       "      <td>NaN</td>\n",
       "      <td>NaN</td>\n",
       "      <td>6</td>\n",
       "      <td>0.57</td>\n",
       "    </tr>\n",
       "    <tr>\n",
       "      <th>8</th>\n",
       "      <td>NaN</td>\n",
       "      <td>2</td>\n",
       "      <td>10</td>\n",
       "      <td>322.99</td>\n",
       "      <td>0.174759</td>\n",
       "      <td>-0.344498</td>\n",
       "      <td>-0.918839</td>\n",
       "      <td>-0.00411618178082647,0.02562493600874243,0.004...</td>\n",
       "      <td>NaN</td>\n",
       "      <td>NaN</td>\n",
       "      <td>0</td>\n",
       "      <td>0.28</td>\n",
       "    </tr>\n",
       "    <tr>\n",
       "      <th>9</th>\n",
       "      <td>NaN</td>\n",
       "      <td>2</td>\n",
       "      <td>5</td>\n",
       "      <td>303.695</td>\n",
       "      <td>-0.00646973</td>\n",
       "      <td>-0.391953</td>\n",
       "      <td>-0.923889</td>\n",
       "      <td>-0.0189390700920985,0.032050611086885616,-0.00...</td>\n",
       "      <td>NaN</td>\n",
       "      <td>NaN</td>\n",
       "      <td>1</td>\n",
       "      <td>0.57</td>\n",
       "    </tr>\n",
       "    <tr>\n",
       "      <th>10</th>\n",
       "      <td>NaN</td>\n",
       "      <td>2</td>\n",
       "      <td>10</td>\n",
       "      <td>322.99</td>\n",
       "      <td>0.171738</td>\n",
       "      <td>-0.342865</td>\n",
       "      <td>-0.9151</td>\n",
       "      <td>-0.006188387425017126,0.032018653153804665,0.0...</td>\n",
       "      <td>NaN</td>\n",
       "      <td>NaN</td>\n",
       "      <td>2</td>\n",
       "      <td>0.28</td>\n",
       "    </tr>\n",
       "  </tbody>\n",
       "</table>\n",
       "</div>"
      ],
      "text/plain": [
       "     Unnamed: 0 bookingID                            Accuracy      Bearing  \\\n",
       "0   description   trip id  accuracy inferred by GPS in meters  GPS bearing   \n",
       "1       samples         1                                   5      303.695   \n",
       "2           NaN         1                                  10       325.39   \n",
       "3           NaN         1                                   5      303.695   \n",
       "4           NaN         1                                  10       324.23   \n",
       "5           NaN         1                                   5      303.695   \n",
       "6           NaN         1                                  10       324.23   \n",
       "7           NaN         1                                   5      303.695   \n",
       "8           NaN         2                                  10       322.99   \n",
       "9           NaN         2                                   5      303.695   \n",
       "10          NaN         2                                  10       322.99   \n",
       "\n",
       "                            acceleration_x  \\\n",
       "0   accelerometer reading in x axis (m/s2)   \n",
       "1                              -0.00636292   \n",
       "2                                 0.183914   \n",
       "3                              -0.00636292   \n",
       "4                                 0.165924   \n",
       "5                              -0.00642395   \n",
       "6                                 0.169724   \n",
       "7                              -0.00480652   \n",
       "8                                 0.174759   \n",
       "9                              -0.00646973   \n",
       "10                                0.171738   \n",
       "\n",
       "                            acceleration_y  \\\n",
       "0   accelerometer reading in y axis (m/s2)   \n",
       "1                                -0.393829   \n",
       "2                                -0.355026   \n",
       "3                                -0.392944   \n",
       "4                                -0.332092   \n",
       "5                                -0.392166   \n",
       "6                                -0.333694   \n",
       "7                                -0.391861   \n",
       "8                                -0.344498   \n",
       "9                                -0.391953   \n",
       "10                               -0.342865   \n",
       "\n",
       "                            acceleration_z  \\\n",
       "0   accelerometer reading in z axis (m/s2)   \n",
       "1                                -0.922379   \n",
       "2                                 -0.92041   \n",
       "3                                -0.922226   \n",
       "4                                -0.920578   \n",
       "5                                -0.924164   \n",
       "6                                -0.939575   \n",
       "7                                -0.923065   \n",
       "8                                -0.918839   \n",
       "9                                -0.923889   \n",
       "10                                 -0.9151   \n",
       "\n",
       "                                               gyro_x  \\\n",
       "0                 gyroscope reading in x axis (rad/s)   \n",
       "1   -0.020000606102604086,0.03205247529964867,-0.0...   \n",
       "2   -0.028598887998033916,0.025720543491876274,-0....   \n",
       "3   -0.01894040167264354,0.030980020328673762,-0.0...   \n",
       "4   -0.0577245492596855,0.002558232543130116,0.014...   \n",
       "5   -0.017865283540578553,0.03203915949419828,-0.0...   \n",
       "6   -0.04030587783391324,0.03112276576310201,-0.00...   \n",
       "7   -0.020006731373111267,0.03205726898961082,-0.0...   \n",
       "8   -0.00411618178082647,0.02562493600874243,0.004...   \n",
       "9   -0.0189390700920985,0.032050611086885616,-0.00...   \n",
       "10  -0.006188387425017126,0.032018653153804665,0.0...   \n",
       "\n",
       "                                 gyro_y                               gyro_z  \\\n",
       "0   gyroscope reading in y axis (rad/s)  gyroscope reading in z axis (rad/s)   \n",
       "1                                   NaN                                  NaN   \n",
       "2                                   NaN                                  NaN   \n",
       "3                                   NaN                                  NaN   \n",
       "4                                   NaN                                  NaN   \n",
       "5                                   NaN                                  NaN   \n",
       "6                                   NaN                                  NaN   \n",
       "7                                   NaN                                  NaN   \n",
       "8                                   NaN                                  NaN   \n",
       "9                                   NaN                                  NaN   \n",
       "10                                  NaN                                  NaN   \n",
       "\n",
       "                                     second                         Speed  \n",
       "0   time of the record by number of seconds  speed measured by GPS in m/s  \n",
       "1                                         0                          0.57  \n",
       "2                                         1                          0.28  \n",
       "3                                         2                          0.57  \n",
       "4                                         3                          0.28  \n",
       "5                                         4                          0.57  \n",
       "6                                         5                          0.28  \n",
       "7                                         6                          0.57  \n",
       "8                                         0                          0.28  \n",
       "9                                         1                          0.57  \n",
       "10                                        2                          0.28  "
      ]
     },
     "execution_count": 5,
     "metadata": {},
     "output_type": "execute_result"
    }
   ],
   "source": [
    "# let's see the first sheet\n",
    "xl.parse('telematics data')"
   ]
  },
  {
   "cell_type": "code",
   "execution_count": 6,
   "metadata": {},
   "outputs": [
    {
     "data": {
      "text/html": [
       "<div>\n",
       "<style scoped>\n",
       "    .dataframe tbody tr th:only-of-type {\n",
       "        vertical-align: middle;\n",
       "    }\n",
       "\n",
       "    .dataframe tbody tr th {\n",
       "        vertical-align: top;\n",
       "    }\n",
       "\n",
       "    .dataframe thead th {\n",
       "        text-align: right;\n",
       "    }\n",
       "</style>\n",
       "<table border=\"1\" class=\"dataframe\">\n",
       "  <thead>\n",
       "    <tr style=\"text-align: right;\">\n",
       "      <th></th>\n",
       "      <th>bookingID</th>\n",
       "      <th>label</th>\n",
       "    </tr>\n",
       "  </thead>\n",
       "  <tbody>\n",
       "    <tr>\n",
       "      <th>0</th>\n",
       "      <td>1</td>\n",
       "      <td>1</td>\n",
       "    </tr>\n",
       "    <tr>\n",
       "      <th>1</th>\n",
       "      <td>2</td>\n",
       "      <td>0</td>\n",
       "    </tr>\n",
       "    <tr>\n",
       "      <th>2</th>\n",
       "      <td>3</td>\n",
       "      <td>0</td>\n",
       "    </tr>\n",
       "    <tr>\n",
       "      <th>3</th>\n",
       "      <td>4</td>\n",
       "      <td>0</td>\n",
       "    </tr>\n",
       "    <tr>\n",
       "      <th>4</th>\n",
       "      <td>5</td>\n",
       "      <td>1</td>\n",
       "    </tr>\n",
       "    <tr>\n",
       "      <th>5</th>\n",
       "      <td>6</td>\n",
       "      <td>1</td>\n",
       "    </tr>\n",
       "    <tr>\n",
       "      <th>6</th>\n",
       "      <td>7</td>\n",
       "      <td>1</td>\n",
       "    </tr>\n",
       "    <tr>\n",
       "      <th>7</th>\n",
       "      <td>8</td>\n",
       "      <td>1</td>\n",
       "    </tr>\n",
       "    <tr>\n",
       "      <th>8</th>\n",
       "      <td>9</td>\n",
       "      <td>0</td>\n",
       "    </tr>\n",
       "    <tr>\n",
       "      <th>9</th>\n",
       "      <td>10</td>\n",
       "      <td>0</td>\n",
       "    </tr>\n",
       "  </tbody>\n",
       "</table>\n",
       "</div>"
      ],
      "text/plain": [
       "   bookingID  label\n",
       "0          1      1\n",
       "1          2      0\n",
       "2          3      0\n",
       "3          4      0\n",
       "4          5      1\n",
       "5          6      1\n",
       "6          7      1\n",
       "7          8      1\n",
       "8          9      0\n",
       "9         10      0"
      ]
     },
     "execution_count": 6,
     "metadata": {},
     "output_type": "execute_result"
    }
   ],
   "source": [
    "# let's see the second sheet\n",
    "xl.parse('labels')"
   ]
  },
  {
   "cell_type": "markdown",
   "metadata": {},
   "source": [
    "We then checked the contents of `features`. There are 10 CSV files."
   ]
  },
  {
   "cell_type": "code",
   "execution_count": 7,
   "metadata": {},
   "outputs": [
    {
     "name": "stdout",
     "output_type": "stream",
     "text": [
      "part-00000-e6120af0-10c2-4248-97c4-81baf4304e5c-c000.csv\r\n",
      "part-00001-e6120af0-10c2-4248-97c4-81baf4304e5c-c000.csv\r\n",
      "part-00002-e6120af0-10c2-4248-97c4-81baf4304e5c-c000.csv\r\n",
      "part-00003-e6120af0-10c2-4248-97c4-81baf4304e5c-c000.csv\r\n",
      "part-00004-e6120af0-10c2-4248-97c4-81baf4304e5c-c000.csv\r\n",
      "part-00005-e6120af0-10c2-4248-97c4-81baf4304e5c-c000.csv\r\n",
      "part-00006-e6120af0-10c2-4248-97c4-81baf4304e5c-c000.csv\r\n",
      "part-00007-e6120af0-10c2-4248-97c4-81baf4304e5c-c000.csv\r\n",
      "part-00008-e6120af0-10c2-4248-97c4-81baf4304e5c-c000.csv\r\n",
      "part-00009-e6120af0-10c2-4248-97c4-81baf4304e5c-c000.csv\r\n"
     ]
    }
   ],
   "source": [
    "# let's see the contents of features and labels folder\n",
    "!ls data/safety/features\n",
    "\n",
    "# there are many csvs, we either want to run this in Pyspark \n",
    "# or we can combine them into just one Pandas dataset"
   ]
  },
  {
   "cell_type": "markdown",
   "metadata": {},
   "source": [
    "`labels` contains only one CSV file."
   ]
  },
  {
   "cell_type": "code",
   "execution_count": 8,
   "metadata": {},
   "outputs": [
    {
     "name": "stdout",
     "output_type": "stream",
     "text": [
      "part-00000-e9445087-aa0a-433b-a7f6-7f4c19d78ad6-c000.csv\r\n"
     ]
    }
   ],
   "source": [
    "!ls data/safety/labels"
   ]
  },
  {
   "cell_type": "markdown",
   "metadata": {},
   "source": [
    "Below shows some contents of one CSV file in `features`."
   ]
  },
  {
   "cell_type": "code",
   "execution_count": 9,
   "metadata": {},
   "outputs": [
    {
     "data": {
      "text/html": [
       "<div>\n",
       "<style scoped>\n",
       "    .dataframe tbody tr th:only-of-type {\n",
       "        vertical-align: middle;\n",
       "    }\n",
       "\n",
       "    .dataframe tbody tr th {\n",
       "        vertical-align: top;\n",
       "    }\n",
       "\n",
       "    .dataframe thead th {\n",
       "        text-align: right;\n",
       "    }\n",
       "</style>\n",
       "<table border=\"1\" class=\"dataframe\">\n",
       "  <thead>\n",
       "    <tr style=\"text-align: right;\">\n",
       "      <th></th>\n",
       "      <th>bookingID</th>\n",
       "      <th>Accuracy</th>\n",
       "      <th>Bearing</th>\n",
       "      <th>acceleration_x</th>\n",
       "      <th>acceleration_y</th>\n",
       "      <th>acceleration_z</th>\n",
       "      <th>gyro_x</th>\n",
       "      <th>gyro_y</th>\n",
       "      <th>gyro_z</th>\n",
       "      <th>second</th>\n",
       "      <th>Speed</th>\n",
       "    </tr>\n",
       "  </thead>\n",
       "  <tbody>\n",
       "    <tr>\n",
       "      <th>0</th>\n",
       "      <td>1202590843006</td>\n",
       "      <td>3.000</td>\n",
       "      <td>353.0</td>\n",
       "      <td>1.228867</td>\n",
       "      <td>8.900100</td>\n",
       "      <td>3.986968</td>\n",
       "      <td>0.008221</td>\n",
       "      <td>0.002269</td>\n",
       "      <td>-0.009966</td>\n",
       "      <td>1362.0</td>\n",
       "      <td>0.000000</td>\n",
       "    </tr>\n",
       "    <tr>\n",
       "      <th>1</th>\n",
       "      <td>274877907034</td>\n",
       "      <td>9.293</td>\n",
       "      <td>17.0</td>\n",
       "      <td>0.032775</td>\n",
       "      <td>8.659933</td>\n",
       "      <td>4.737300</td>\n",
       "      <td>0.024629</td>\n",
       "      <td>0.004028</td>\n",
       "      <td>-0.010858</td>\n",
       "      <td>257.0</td>\n",
       "      <td>0.190000</td>\n",
       "    </tr>\n",
       "    <tr>\n",
       "      <th>2</th>\n",
       "      <td>884763263056</td>\n",
       "      <td>3.000</td>\n",
       "      <td>189.0</td>\n",
       "      <td>1.139675</td>\n",
       "      <td>9.545974</td>\n",
       "      <td>1.951334</td>\n",
       "      <td>-0.006899</td>\n",
       "      <td>-0.015080</td>\n",
       "      <td>0.001122</td>\n",
       "      <td>973.0</td>\n",
       "      <td>0.667059</td>\n",
       "    </tr>\n",
       "    <tr>\n",
       "      <th>3</th>\n",
       "      <td>1073741824054</td>\n",
       "      <td>3.900</td>\n",
       "      <td>126.0</td>\n",
       "      <td>3.871543</td>\n",
       "      <td>10.386364</td>\n",
       "      <td>-0.136474</td>\n",
       "      <td>0.001344</td>\n",
       "      <td>-0.339601</td>\n",
       "      <td>-0.017956</td>\n",
       "      <td>902.0</td>\n",
       "      <td>7.913285</td>\n",
       "    </tr>\n",
       "    <tr>\n",
       "      <th>4</th>\n",
       "      <td>1056561954943</td>\n",
       "      <td>3.900</td>\n",
       "      <td>50.0</td>\n",
       "      <td>-0.112882</td>\n",
       "      <td>10.550960</td>\n",
       "      <td>-1.560110</td>\n",
       "      <td>0.130568</td>\n",
       "      <td>-0.061697</td>\n",
       "      <td>0.161530</td>\n",
       "      <td>820.0</td>\n",
       "      <td>20.419409</td>\n",
       "    </tr>\n",
       "  </tbody>\n",
       "</table>\n",
       "</div>"
      ],
      "text/plain": [
       "       bookingID  Accuracy  Bearing  acceleration_x  acceleration_y  \\\n",
       "0  1202590843006     3.000    353.0        1.228867        8.900100   \n",
       "1   274877907034     9.293     17.0        0.032775        8.659933   \n",
       "2   884763263056     3.000    189.0        1.139675        9.545974   \n",
       "3  1073741824054     3.900    126.0        3.871543       10.386364   \n",
       "4  1056561954943     3.900     50.0       -0.112882       10.550960   \n",
       "\n",
       "   acceleration_z    gyro_x    gyro_y    gyro_z  second      Speed  \n",
       "0        3.986968  0.008221  0.002269 -0.009966  1362.0   0.000000  \n",
       "1        4.737300  0.024629  0.004028 -0.010858   257.0   0.190000  \n",
       "2        1.951334 -0.006899 -0.015080  0.001122   973.0   0.667059  \n",
       "3       -0.136474  0.001344 -0.339601 -0.017956   902.0   7.913285  \n",
       "4       -1.560110  0.130568 -0.061697  0.161530   820.0  20.419409  "
      ]
     },
     "execution_count": 9,
     "metadata": {},
     "output_type": "execute_result"
    }
   ],
   "source": [
    "# let's load one features csv, there are many csvs we either\n",
    "_ = pd.read_csv(\"data/safety/features/part-00000-e6120af0-10c2-4248-97c4-81baf4304e5c-c000.csv\")\n",
    "_.head()"
   ]
  },
  {
   "cell_type": "markdown",
   "metadata": {},
   "source": [
    "Below are some of the contents in the CSV file inside `labels`."
   ]
  },
  {
   "cell_type": "code",
   "execution_count": 10,
   "metadata": {},
   "outputs": [
    {
     "data": {
      "text/html": [
       "<div>\n",
       "<style scoped>\n",
       "    .dataframe tbody tr th:only-of-type {\n",
       "        vertical-align: middle;\n",
       "    }\n",
       "\n",
       "    .dataframe tbody tr th {\n",
       "        vertical-align: top;\n",
       "    }\n",
       "\n",
       "    .dataframe thead th {\n",
       "        text-align: right;\n",
       "    }\n",
       "</style>\n",
       "<table border=\"1\" class=\"dataframe\">\n",
       "  <thead>\n",
       "    <tr style=\"text-align: right;\">\n",
       "      <th></th>\n",
       "      <th>bookingID</th>\n",
       "      <th>label</th>\n",
       "    </tr>\n",
       "  </thead>\n",
       "  <tbody>\n",
       "    <tr>\n",
       "      <th>0</th>\n",
       "      <td>0</td>\n",
       "      <td>0</td>\n",
       "    </tr>\n",
       "    <tr>\n",
       "      <th>1</th>\n",
       "      <td>1</td>\n",
       "      <td>1</td>\n",
       "    </tr>\n",
       "    <tr>\n",
       "      <th>2</th>\n",
       "      <td>2</td>\n",
       "      <td>1</td>\n",
       "    </tr>\n",
       "    <tr>\n",
       "      <th>3</th>\n",
       "      <td>4</td>\n",
       "      <td>1</td>\n",
       "    </tr>\n",
       "    <tr>\n",
       "      <th>4</th>\n",
       "      <td>6</td>\n",
       "      <td>0</td>\n",
       "    </tr>\n",
       "  </tbody>\n",
       "</table>\n",
       "</div>"
      ],
      "text/plain": [
       "   bookingID  label\n",
       "0          0      0\n",
       "1          1      1\n",
       "2          2      1\n",
       "3          4      1\n",
       "4          6      0"
      ]
     },
     "execution_count": 10,
     "metadata": {},
     "output_type": "execute_result"
    }
   ],
   "source": [
    "# let's load the labels csv\n",
    "labels = pd.read_csv(\"data/safety/labels/part-00000-e9445087-aa0a-433b-a7f6-7f4c19d78ad6-c000.csv\")\n",
    "\n",
    "# drop duplicates\n",
    "labels = labels.dropna()\n",
    "\n",
    "# sort\n",
    "labels.sort_values(by=\"bookingID\", inplace=True)\n",
    "labels.reset_index(drop=True, inplace=True)\n",
    "\n",
    "labels.head()"
   ]
  },
  {
   "cell_type": "markdown",
   "metadata": {},
   "source": [
    "There are no null values in the `labels` dataset."
   ]
  },
  {
   "cell_type": "code",
   "execution_count": 11,
   "metadata": {},
   "outputs": [
    {
     "data": {
      "text/plain": [
       "bookingID    0\n",
       "label        0\n",
       "dtype: int64"
      ]
     },
     "execution_count": 11,
     "metadata": {},
     "output_type": "execute_result"
    }
   ],
   "source": [
    "# how many null\n",
    "labels.isnull().sum()"
   ]
  },
  {
   "cell_type": "markdown",
   "metadata": {},
   "source": [
    "There are 20,018 rows in the `labels` dataset but there are only 20,000 unique `bookingID`. We will remove the duplicates later."
   ]
  },
  {
   "cell_type": "code",
   "execution_count": 12,
   "metadata": {},
   "outputs": [
    {
     "data": {
      "text/plain": [
       "20018"
      ]
     },
     "execution_count": 12,
     "metadata": {},
     "output_type": "execute_result"
    }
   ],
   "source": [
    "# how many labels are there?\n",
    "len(labels)"
   ]
  },
  {
   "cell_type": "code",
   "execution_count": 13,
   "metadata": {},
   "outputs": [
    {
     "data": {
      "text/plain": [
       "20000"
      ]
     },
     "execution_count": 13,
     "metadata": {},
     "output_type": "execute_result"
    }
   ],
   "source": [
    "# how many unique bookings are there?\n",
    "len(labels.bookingID.unique())"
   ]
  },
  {
   "cell_type": "markdown",
   "metadata": {},
   "source": [
    "We then combined the 10 CSV files under `features` into one Pandas dataframe."
   ]
  },
  {
   "cell_type": "code",
   "execution_count": null,
   "metadata": {},
   "outputs": [],
   "source": [
    "# load all paths into list\n",
    "paths = glob.glob(\"data/safety/features/*.csv\")\n",
    "\n",
    "# let's combine all feature into one pandas dataframe\n",
    "df_feats0 = pd.DataFrame()\n",
    "\n",
    "for path in paths:\n",
    "    _ = pd.read_csv(path, header=\"infer\")\n",
    "    df_feats0 = pd.concat([df_feats0, _])"
   ]
  },
  {
   "cell_type": "code",
   "execution_count": null,
   "metadata": {},
   "outputs": [],
   "source": [
    "df_feats0.head()"
   ]
  },
  {
   "cell_type": "code",
   "execution_count": null,
   "metadata": {},
   "outputs": [],
   "source": [
    "df_feats0.shape"
   ]
  },
  {
   "cell_type": "markdown",
   "metadata": {},
   "source": [
    "We dropped any duplicates in the combined `features` dataset."
   ]
  },
  {
   "cell_type": "code",
   "execution_count": null,
   "metadata": {},
   "outputs": [],
   "source": [
    "# drop duplicates\n",
    "df_feats0 = df_feats0.drop_duplicates()"
   ]
  },
  {
   "cell_type": "code",
   "execution_count": null,
   "metadata": {},
   "outputs": [],
   "source": [
    "# count null values\n",
    "df_feats0.isnull().sum()"
   ]
  },
  {
   "cell_type": "code",
   "execution_count": null,
   "metadata": {},
   "outputs": [],
   "source": [
    "# since there is only one label per bookingID, we engineer features per booking trip\n",
    "# min, max, mean, std, skewness, kurtosis, length_of_trip, \n",
    "\n",
    "# sorting by booking number and seconds\n",
    "df_feats0 = df_feats0.sort_values(by=[\"bookingID\", \"second\"]).reset_index(drop=True)\n",
    "df_feats0.head()\n",
    "\n",
    "# # save to csv df_feats0\n",
    "# df_feats0.to_csv(\"data/processed/df_feats0.csv\", index=False)"
   ]
  },
  {
   "cell_type": "code",
   "execution_count": null,
   "metadata": {},
   "outputs": [],
   "source": [
    "# # load csv\n",
    "# df_feats0 = pd.read_csv(\"data/processed/df_feats0.csv\")\n",
    "# df_feats0.head()"
   ]
  },
  {
   "cell_type": "code",
   "execution_count": null,
   "metadata": {},
   "outputs": [],
   "source": [
    "# setting aside test data 5% of all booking IDs\n",
    "num_test = int(len(df_feats0.bookingID.unique()) * 0.05)\n",
    "print(num_test)\n",
    "\n",
    "# select random booking IDs\n",
    "test_bookingIDs = np.random.choice(df_feats0.bookingID.unique(), num_test, replace=False)\n",
    "train_bookingIDs = [i for i in df_feats0.bookingID.unique() if i not in test_bookingIDs]\n",
    "df_test = df_feats0[df_feats0.bookingID.isin(test_bookingIDs)]\n",
    "df_train = df_feats0[df_feats0.bookingID.isin(train_bookingIDs)]"
   ]
  },
  {
   "cell_type": "code",
   "execution_count": null,
   "metadata": {},
   "outputs": [],
   "source": [
    "# save to csv df_test\n",
    "df_test.to_csv(\"data/processed/df_test.csv\", index=False)\n",
    "df_train.to_csv(\"data/processed/df_train.csv\", index=False)"
   ]
  },
  {
   "cell_type": "code",
   "execution_count": null,
   "metadata": {},
   "outputs": [],
   "source": [
    "# load csv\n",
    "df_test = pd.read_csv(\"data/processed/df_test.csv\")\n",
    "df_train = pd.read_csv(\"data/processed/df_train.csv\")"
   ]
  },
  {
   "cell_type": "code",
   "execution_count": null,
   "metadata": {},
   "outputs": [],
   "source": [
    "df_train.head()"
   ]
  },
  {
   "cell_type": "code",
   "execution_count": null,
   "metadata": {},
   "outputs": [],
   "source": [
    "df_test.head()"
   ]
  },
  {
   "cell_type": "code",
   "execution_count": null,
   "metadata": {},
   "outputs": [],
   "source": [
    "def dominant_f(y):\n",
    "    \"\"\"Given time series y, get frequency of maximum power\n",
    "    from periodogram\"\"\"\n",
    "    f, p = periodogram(y, scaling='spectrum')\n",
    "    ind = np.argsort(p)\n",
    "    f_max = f[ind[-1]]\n",
    "    return f_max\n",
    "\n",
    "def max_power(y):\n",
    "    \"\"\"Given time series y, get maximum power\"\"\"\n",
    "    f, p = periodogram(y, scaling='spectrum')\n",
    "    return p.max()"
   ]
  },
  {
   "cell_type": "code",
   "execution_count": null,
   "metadata": {},
   "outputs": [],
   "source": [
    "# we engineer feature, aggregating feature values per bookingID\n",
    "# getting min, max, range, mean, std, skewness, and kurtosis, dominant fft freq, and max fft power\n",
    "\n",
    "df_engg_feats = df_train.drop(\"second\", axis=1)\n",
    "df_engg_feats = df_engg_feats.groupby(by=\"bookingID\", as_index=True).agg([np.min, np.max, np.ptp, np.mean, np.std, skew, kurtosis, dominant_f, max_power])\n",
    "df_engg_feats.head()\n"
   ]
  },
  {
   "cell_type": "code",
   "execution_count": null,
   "metadata": {
    "scrolled": true
   },
   "outputs": [],
   "source": [
    "# flatten column names\n",
    "cols = [df_engg_feats.columns[i][0]+\"_\"+df_engg_feats.columns[i][1] for i in range(len(df_engg_feats.columns))]\n",
    "cols[:5]"
   ]
  },
  {
   "cell_type": "code",
   "execution_count": null,
   "metadata": {
    "scrolled": true
   },
   "outputs": [],
   "source": [
    "df_engg_feats.columns = cols\n",
    "df_engg_feats.reset_index(inplace=True)\n",
    "df_engg_feats.head()"
   ]
  },
  {
   "cell_type": "code",
   "execution_count": null,
   "metadata": {},
   "outputs": [],
   "source": [
    "# add length of each trip\n",
    "df_len = df_train.groupby(by=\"bookingID\", as_index=True).agg(len).iloc[:, 0:1]\n",
    "df_len.columns = ['trip_len']\n",
    "df_len.reset_index(inplace=True)\n",
    "df_len.head()"
   ]
  },
  {
   "cell_type": "code",
   "execution_count": null,
   "metadata": {},
   "outputs": [],
   "source": [
    "# merge along bookingID\n",
    "df_engg_feats_2 = pd.merge(df_engg_feats, df_len, how=\"inner\", on=\"bookingID\")\n",
    "df_engg_feats_2.head()"
   ]
  },
  {
   "cell_type": "code",
   "execution_count": null,
   "metadata": {},
   "outputs": [],
   "source": [
    "# left join with labels (aggregating and feature engineering)\n",
    "df_engg_feats_labels = pd.merge(df_engg_feats_2, labels, how=\"inner\", on=\"bookingID\")\n",
    "\n",
    "# save to CSV\n",
    "save_path = \"data/processed/engg_feats_labels.csv\"\n",
    "df_engg_feats_labels.to_csv(save_path, index=False)"
   ]
  },
  {
   "cell_type": "code",
   "execution_count": null,
   "metadata": {},
   "outputs": [],
   "source": [
    "df_engg_feats_labels.shape"
   ]
  },
  {
   "cell_type": "code",
   "execution_count": null,
   "metadata": {},
   "outputs": [],
   "source": [
    "df_engg_feats_labels.head()"
   ]
  },
  {
   "cell_type": "code",
   "execution_count": null,
   "metadata": {
    "scrolled": true
   },
   "outputs": [],
   "source": [
    "df_engg_feats_labels.info()"
   ]
  },
  {
   "cell_type": "code",
   "execution_count": null,
   "metadata": {},
   "outputs": [],
   "source": [
    "# load saved combined dataset\n",
    "save_path = \"data/processed/engg_feats_labels.csv\"\n",
    "df_engg_feats_labels0 = pd.read_csv(save_path)\n",
    "df_engg_feats_labels0.drop(\"bookingID\", axis=1, inplace=True)\n",
    "df_engg_feats_labels0.head()"
   ]
  },
  {
   "cell_type": "code",
   "execution_count": null,
   "metadata": {},
   "outputs": [],
   "source": [
    "df_feats = df_engg_feats_labels0.drop(\"label\", axis=1)\n",
    "df_feats.head()"
   ]
  },
  {
   "cell_type": "markdown",
   "metadata": {},
   "source": [
    "## EDA"
   ]
  },
  {
   "cell_type": "code",
   "execution_count": null,
   "metadata": {},
   "outputs": [],
   "source": [
    "# we look at the correlations between the features using a covariance matrix\n",
    "plt.figure(figsize=(20, 18))\n",
    "\n",
    "df_corr_matrix = pd.DataFrame(np.corrcoef(df_engg_feats_labels0.values.T), \n",
    "                              index=df_engg_feats_labels0.columns, columns=df_engg_feats_labels0.columns)\n",
    "# heatmap\n",
    "sns.heatmap(df_corr_matrix, annot=True, fmt='0.1f', cmap=\"viridis\")"
   ]
  },
  {
   "cell_type": "code",
   "execution_count": null,
   "metadata": {},
   "outputs": [],
   "source": [
    "plt.figure(figsize=(7, 15))\n",
    "\n",
    "# barplot\n",
    "y = df_corr_matrix.iloc[:, -1].drop(\"label\").values\n",
    "x = df_corr_matrix.iloc[:, [-1]].drop(\"label\").index\n",
    "inds = np.argsort(y)\n",
    "y = y[inds]\n",
    "x = x[inds]\n",
    "plt.barh(x, y)\n",
    "plt.title(\"Correlations of features with label\")\n",
    "plt.xlabel(\"correlation with label\")\n",
    "plt.ylabel(\"feature\")\n",
    "plt.margins(0.02)"
   ]
  },
  {
   "cell_type": "code",
   "execution_count": null,
   "metadata": {},
   "outputs": [],
   "source": [
    "# number of samples per class\n",
    "print(Counter(df_engg_feats_labels0.label))\n",
    "y = Counter(df_engg_feats_labels0.label).values()\n",
    "x = Counter(df_engg_feats_labels0.label).keys()\n",
    "\n",
    "plt.bar(x, y)\n",
    "plt.xlabel(\"class\")\n",
    "plt.ylabel(\"counts\")"
   ]
  },
  {
   "cell_type": "markdown",
   "metadata": {},
   "source": [
    "## Preprocessing for Models"
   ]
  },
  {
   "cell_type": "code",
   "execution_count": null,
   "metadata": {},
   "outputs": [],
   "source": [
    "# equalizing the number of classes\n",
    "# getting number of samples for class 1 (lower)\n",
    "num_per_class = len(df_engg_feats_labels0[df_engg_feats_labels0.label == 1])\n",
    "print(num_per_class)\n",
    "\n",
    "# getting a sample for class 1\n",
    "df_labels_1 = df_engg_feats_labels0[df_engg_feats_labels0.label == 1].sample(n=num_per_class, replace=False, random_state=42)\n",
    "\n",
    "# getting a sample for class 0\n",
    "df_labels_0 = df_engg_feats_labels0[df_engg_feats_labels0.label == 0].sample(n=num_per_class, replace=False, random_state=42)\n",
    "print(len(df_labels_0))"
   ]
  },
  {
   "cell_type": "code",
   "execution_count": null,
   "metadata": {},
   "outputs": [],
   "source": [
    "# concatenate and shuffle\n",
    "df_for_ml = shuffle(pd.concat([df_labels_1, df_labels_0]), random_state=42).reset_index(drop=True)\n",
    "\n",
    "# shape\n",
    "df_for_ml.shape"
   ]
  },
  {
   "cell_type": "code",
   "execution_count": null,
   "metadata": {},
   "outputs": [],
   "source": [
    "# save\n",
    "df_for_ml.to_csv(\"data/processed/df_for_ml.csv\", index=False)"
   ]
  }
 ],
 "metadata": {
  "kernelspec": {
   "display_name": "Python 3",
   "language": "python",
   "name": "python3"
  },
  "language_info": {
   "codemirror_mode": {
    "name": "ipython",
    "version": 3
   },
   "file_extension": ".py",
   "mimetype": "text/x-python",
   "name": "python",
   "nbconvert_exporter": "python",
   "pygments_lexer": "ipython3",
   "version": "3.6.5"
  }
 },
 "nbformat": 4,
 "nbformat_minor": 2
}
