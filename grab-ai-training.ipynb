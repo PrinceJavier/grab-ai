{
 "cells": [
  {
   "cell_type": "markdown",
   "metadata": {},
   "source": [
    "# Safety Dataset Machine Learning Modeling\n",
    "by Prince Joseph Erneszer Javier"
   ]
  },
  {
   "cell_type": "markdown",
   "metadata": {},
   "source": [
    "## Executive Summary"
   ]
  },
  {
   "cell_type": "markdown",
   "metadata": {},
   "source": [
    "## Introduction"
   ]
  },
  {
   "cell_type": "markdown",
   "metadata": {},
   "source": [
    "## About the Data"
   ]
  },
  {
   "cell_type": "markdown",
   "metadata": {},
   "source": [
    "## Preprocessing for Models"
   ]
  },
  {
   "cell_type": "code",
   "execution_count": 3,
   "metadata": {},
   "outputs": [],
   "source": [
    "# loading packages\n",
    "\n",
    "import pandas as pd\n",
    "import numpy as np\n",
    "import matplotlib.pyplot as plt\n",
    "import seaborn as sns\n",
    "from mpl_toolkits import mplot3d\n",
    "import glob\n",
    "import pickle\n",
    "import ast\n",
    "\n",
    "from collections import Counter\n",
    "import multiprocessing\n",
    "\n",
    "from sklearn.model_selection import GridSearchCV\n",
    "from sklearn.neighbors import KNeighborsClassifier\n",
    "from sklearn.linear_model import LogisticRegression\n",
    "from sklearn.svm import SVC, LinearSVC\n",
    "from sklearn.tree import DecisionTreeClassifier\n",
    "from sklearn.ensemble import GradientBoostingClassifier, RandomForestClassifier\n",
    "from sklearn.naive_bayes import GaussianNB\n",
    "from sklearn.metrics import confusion_matrix\n",
    "from sklearn.metrics import roc_curve, accuracy_score\n",
    "from sklearn.decomposition import PCA\n",
    "from sklearn.preprocessing import MinMaxScaler, StandardScaler\n",
    "\n",
    "import warnings\n",
    "warnings.simplefilter('ignore')\n",
    "\n",
    "n_jobs = multiprocessing.cpu_count()"
   ]
  },
  {
   "cell_type": "code",
   "execution_count": 4,
   "metadata": {},
   "outputs": [],
   "source": [
    "# load dataset for machine learning\n",
    "df_for_ml = pd.read_csv(\"data/processed/df_for_ml.csv\")"
   ]
  },
  {
   "cell_type": "code",
   "execution_count": 5,
   "metadata": {},
   "outputs": [
    {
     "name": "stdout",
     "output_type": "stream",
     "text": [
      "Counter({1: 4737, 0: 4737})\n"
     ]
    },
    {
     "data": {
      "text/plain": [
       "Text(0, 0.5, 'counts')"
      ]
     },
     "execution_count": 5,
     "metadata": {},
     "output_type": "execute_result"
    },
    {
     "data": {
      "image/png": "[encoded data removed]",
      "text/plain": [
       "<Figure size 432x288 with 1 Axes>"
      ]
     },
     "metadata": {},
     "output_type": "display_data"
    }
   ],
   "source": [
    "# number of samples per class\n",
    "print(Counter(df_for_ml.label))\n",
    "y = Counter(df_for_ml.label).values()\n",
    "x = Counter(df_for_ml.label).keys()\n",
    "\n",
    "plt.bar(x, y)\n",
    "plt.xlabel(\"class\")\n",
    "plt.ylabel(\"counts\")"
   ]
  },
  {
   "cell_type": "code",
   "execution_count": 5,
   "metadata": {},
   "outputs": [],
   "source": [
    "# no need for train test splitting since we will be using kfold validation\n",
    "# we have already set aside a 5% test set above"
   ]
  },
  {
   "cell_type": "code",
   "execution_count": 6,
   "metadata": {},
   "outputs": [],
   "source": [
    "X_train = df_for_ml.drop(\"label\", axis=1)\n",
    "y_train = df_for_ml[\"label\"]"
   ]
  },
  {
   "cell_type": "code",
   "execution_count": 7,
   "metadata": {},
   "outputs": [
    {
     "data": {
      "text/html": [
       "<div>\n",
       "<style scoped>\n",
       "    .dataframe tbody tr th:only-of-type {\n",
       "        vertical-align: middle;\n",
       "    }\n",
       "\n",
       "    .dataframe tbody tr th {\n",
       "        vertical-align: top;\n",
       "    }\n",
       "\n",
       "    .dataframe thead th {\n",
       "        text-align: right;\n",
       "    }\n",
       "</style>\n",
       "<table border=\"1\" class=\"dataframe\">\n",
       "  <thead>\n",
       "    <tr style=\"text-align: right;\">\n",
       "      <th></th>\n",
       "      <th>Accuracy_amin</th>\n",
       "      <th>Accuracy_amax</th>\n",
       "      <th>Accuracy_ptp</th>\n",
       "      <th>Accuracy_mean</th>\n",
       "      <th>Accuracy_std</th>\n",
       "      <th>Accuracy_skew</th>\n",
       "      <th>Accuracy_kurtosis</th>\n",
       "      <th>Accuracy_dominant_f</th>\n",
       "      <th>Accuracy_max_power</th>\n",
       "      <th>Bearing_amin</th>\n",
       "      <th>...</th>\n",
       "      <th>Speed_amin</th>\n",
       "      <th>Speed_amax</th>\n",
       "      <th>Speed_ptp</th>\n",
       "      <th>Speed_mean</th>\n",
       "      <th>Speed_std</th>\n",
       "      <th>Speed_skew</th>\n",
       "      <th>Speed_kurtosis</th>\n",
       "      <th>Speed_dominant_f</th>\n",
       "      <th>Speed_max_power</th>\n",
       "      <th>trip_len</th>\n",
       "    </tr>\n",
       "  </thead>\n",
       "  <tbody>\n",
       "    <tr>\n",
       "      <th>0</th>\n",
       "      <td>3.198</td>\n",
       "      <td>5.5</td>\n",
       "      <td>2.302</td>\n",
       "      <td>3.894792</td>\n",
       "      <td>0.893479</td>\n",
       "      <td>0.814521</td>\n",
       "      <td>-1.091455</td>\n",
       "      <td>0.007937</td>\n",
       "      <td>0.192704</td>\n",
       "      <td>68.000000</td>\n",
       "      <td>...</td>\n",
       "      <td>0.0</td>\n",
       "      <td>17.351286</td>\n",
       "      <td>17.351286</td>\n",
       "      <td>2.504549</td>\n",
       "      <td>4.266055</td>\n",
       "      <td>1.843148</td>\n",
       "      <td>2.462901</td>\n",
       "      <td>0.007937</td>\n",
       "      <td>3.809542</td>\n",
       "      <td>630.0</td>\n",
       "    </tr>\n",
       "    <tr>\n",
       "      <th>1</th>\n",
       "      <td>10.000</td>\n",
       "      <td>10.0</td>\n",
       "      <td>0.000</td>\n",
       "      <td>10.000000</td>\n",
       "      <td>0.000000</td>\n",
       "      <td>0.000000</td>\n",
       "      <td>-3.000000</td>\n",
       "      <td>0.500000</td>\n",
       "      <td>0.000000</td>\n",
       "      <td>0.111948</td>\n",
       "      <td>...</td>\n",
       "      <td>0.0</td>\n",
       "      <td>26.559999</td>\n",
       "      <td>26.559999</td>\n",
       "      <td>11.350061</td>\n",
       "      <td>9.052287</td>\n",
       "      <td>0.157259</td>\n",
       "      <td>-1.598451</td>\n",
       "      <td>0.001214</td>\n",
       "      <td>37.976315</td>\n",
       "      <td>824.0</td>\n",
       "    </tr>\n",
       "    <tr>\n",
       "      <th>2</th>\n",
       "      <td>3.000</td>\n",
       "      <td>4.6</td>\n",
       "      <td>1.600</td>\n",
       "      <td>3.744292</td>\n",
       "      <td>0.337499</td>\n",
       "      <td>-1.529162</td>\n",
       "      <td>0.906031</td>\n",
       "      <td>0.004167</td>\n",
       "      <td>0.035798</td>\n",
       "      <td>1.000000</td>\n",
       "      <td>...</td>\n",
       "      <td>0.0</td>\n",
       "      <td>16.400080</td>\n",
       "      <td>16.400080</td>\n",
       "      <td>9.447364</td>\n",
       "      <td>4.975110</td>\n",
       "      <td>-0.563249</td>\n",
       "      <td>-0.972619</td>\n",
       "      <td>0.004167</td>\n",
       "      <td>12.533629</td>\n",
       "      <td>240.0</td>\n",
       "    </tr>\n",
       "    <tr>\n",
       "      <th>3</th>\n",
       "      <td>3.000</td>\n",
       "      <td>24.0</td>\n",
       "      <td>21.000</td>\n",
       "      <td>4.262047</td>\n",
       "      <td>1.120936</td>\n",
       "      <td>5.060578</td>\n",
       "      <td>54.870297</td>\n",
       "      <td>0.000394</td>\n",
       "      <td>0.100700</td>\n",
       "      <td>0.000000</td>\n",
       "      <td>...</td>\n",
       "      <td>0.0</td>\n",
       "      <td>26.564178</td>\n",
       "      <td>26.564178</td>\n",
       "      <td>15.719868</td>\n",
       "      <td>7.639410</td>\n",
       "      <td>-0.636798</td>\n",
       "      <td>-0.791403</td>\n",
       "      <td>0.000394</td>\n",
       "      <td>38.914546</td>\n",
       "      <td>2535.0</td>\n",
       "    </tr>\n",
       "    <tr>\n",
       "      <th>4</th>\n",
       "      <td>3.000</td>\n",
       "      <td>1476.0</td>\n",
       "      <td>1473.000</td>\n",
       "      <td>15.819278</td>\n",
       "      <td>114.035648</td>\n",
       "      <td>10.749030</td>\n",
       "      <td>118.580033</td>\n",
       "      <td>0.002484</td>\n",
       "      <td>261.083307</td>\n",
       "      <td>0.000000</td>\n",
       "      <td>...</td>\n",
       "      <td>-1.0</td>\n",
       "      <td>23.463644</td>\n",
       "      <td>24.463644</td>\n",
       "      <td>7.202245</td>\n",
       "      <td>7.820243</td>\n",
       "      <td>0.586466</td>\n",
       "      <td>-1.179417</td>\n",
       "      <td>0.001242</td>\n",
       "      <td>17.608936</td>\n",
       "      <td>805.0</td>\n",
       "    </tr>\n",
       "  </tbody>\n",
       "</table>\n",
       "<p>5 rows × 82 columns</p>\n",
       "</div>"
      ],
      "text/plain": [
       "   Accuracy_amin  Accuracy_amax  Accuracy_ptp  Accuracy_mean  Accuracy_std  \\\n",
       "0          3.198            5.5         2.302       3.894792      0.893479   \n",
       "1         10.000           10.0         0.000      10.000000      0.000000   \n",
       "2          3.000            4.6         1.600       3.744292      0.337499   \n",
       "3          3.000           24.0        21.000       4.262047      1.120936   \n",
       "4          3.000         1476.0      1473.000      15.819278    114.035648   \n",
       "\n",
       "   Accuracy_skew  Accuracy_kurtosis  Accuracy_dominant_f  Accuracy_max_power  \\\n",
       "0       0.814521          -1.091455             0.007937            0.192704   \n",
       "1       0.000000          -3.000000             0.500000            0.000000   \n",
       "2      -1.529162           0.906031             0.004167            0.035798   \n",
       "3       5.060578          54.870297             0.000394            0.100700   \n",
       "4      10.749030         118.580033             0.002484          261.083307   \n",
       "\n",
       "   Bearing_amin  ...  Speed_amin  Speed_amax  Speed_ptp  Speed_mean  \\\n",
       "0     68.000000  ...         0.0   17.351286  17.351286    2.504549   \n",
       "1      0.111948  ...         0.0   26.559999  26.559999   11.350061   \n",
       "2      1.000000  ...         0.0   16.400080  16.400080    9.447364   \n",
       "3      0.000000  ...         0.0   26.564178  26.564178   15.719868   \n",
       "4      0.000000  ...        -1.0   23.463644  24.463644    7.202245   \n",
       "\n",
       "   Speed_std  Speed_skew  Speed_kurtosis  Speed_dominant_f  Speed_max_power  \\\n",
       "0   4.266055    1.843148        2.462901          0.007937         3.809542   \n",
       "1   9.052287    0.157259       -1.598451          0.001214        37.976315   \n",
       "2   4.975110   -0.563249       -0.972619          0.004167        12.533629   \n",
       "3   7.639410   -0.636798       -0.791403          0.000394        38.914546   \n",
       "4   7.820243    0.586466       -1.179417          0.001242        17.608936   \n",
       "\n",
       "   trip_len  \n",
       "0     630.0  \n",
       "1     824.0  \n",
       "2     240.0  \n",
       "3    2535.0  \n",
       "4     805.0  \n",
       "\n",
       "[5 rows x 82 columns]"
      ]
     },
     "execution_count": 7,
     "metadata": {},
     "output_type": "execute_result"
    }
   ],
   "source": [
    "X_train.head()"
   ]
  },
  {
   "cell_type": "code",
   "execution_count": 8,
   "metadata": {},
   "outputs": [
    {
     "data": {
      "text/plain": [
       "0    1\n",
       "1    1\n",
       "2    0\n",
       "3    1\n",
       "4    0\n",
       "Name: label, dtype: int64"
      ]
     },
     "execution_count": 8,
     "metadata": {},
     "output_type": "execute_result"
    }
   ],
   "source": [
    "y_train[:5]"
   ]
  },
  {
   "cell_type": "code",
   "execution_count": 9,
   "metadata": {},
   "outputs": [],
   "source": [
    "# Scaling\n",
    "mmsc = MinMaxScaler()\n",
    "stdsc = StandardScaler()"
   ]
  },
  {
   "cell_type": "code",
   "execution_count": 10,
   "metadata": {},
   "outputs": [
    {
     "data": {
      "text/html": [
       "<div>\n",
       "<style scoped>\n",
       "    .dataframe tbody tr th:only-of-type {\n",
       "        vertical-align: middle;\n",
       "    }\n",
       "\n",
       "    .dataframe tbody tr th {\n",
       "        vertical-align: top;\n",
       "    }\n",
       "\n",
       "    .dataframe thead th {\n",
       "        text-align: right;\n",
       "    }\n",
       "</style>\n",
       "<table border=\"1\" class=\"dataframe\">\n",
       "  <thead>\n",
       "    <tr style=\"text-align: right;\">\n",
       "      <th></th>\n",
       "      <th>Accuracy_amin</th>\n",
       "      <th>Accuracy_amax</th>\n",
       "      <th>Accuracy_ptp</th>\n",
       "      <th>Accuracy_mean</th>\n",
       "      <th>Accuracy_std</th>\n",
       "      <th>Accuracy_skew</th>\n",
       "      <th>Accuracy_kurtosis</th>\n",
       "      <th>Accuracy_dominant_f</th>\n",
       "      <th>Accuracy_max_power</th>\n",
       "      <th>Bearing_amin</th>\n",
       "      <th>...</th>\n",
       "      <th>Speed_amin</th>\n",
       "      <th>Speed_amax</th>\n",
       "      <th>Speed_ptp</th>\n",
       "      <th>Speed_mean</th>\n",
       "      <th>Speed_std</th>\n",
       "      <th>Speed_skew</th>\n",
       "      <th>Speed_kurtosis</th>\n",
       "      <th>Speed_dominant_f</th>\n",
       "      <th>Speed_max_power</th>\n",
       "      <th>trip_len</th>\n",
       "    </tr>\n",
       "  </thead>\n",
       "  <tbody>\n",
       "    <tr>\n",
       "      <th>0</th>\n",
       "      <td>0.001732</td>\n",
       "      <td>0.000371</td>\n",
       "      <td>0.000380</td>\n",
       "      <td>0.001324</td>\n",
       "      <td>0.000365</td>\n",
       "      <td>0.238994</td>\n",
       "      <td>0.000728</td>\n",
       "      <td>0.015873</td>\n",
       "      <td>5.870572e-08</td>\n",
       "      <td>0.224194</td>\n",
       "      <td>...</td>\n",
       "      <td>0.080199</td>\n",
       "      <td>0.123148</td>\n",
       "      <td>0.116437</td>\n",
       "      <td>0.127702</td>\n",
       "      <td>0.323489</td>\n",
       "      <td>0.496336</td>\n",
       "      <td>0.039251</td>\n",
       "      <td>0.015415</td>\n",
       "      <td>0.027671</td>\n",
       "      <td>0.068539</td>\n",
       "    </tr>\n",
       "    <tr>\n",
       "      <th>1</th>\n",
       "      <td>0.006545</td>\n",
       "      <td>0.001114</td>\n",
       "      <td>0.000000</td>\n",
       "      <td>0.005344</td>\n",
       "      <td>0.000000</td>\n",
       "      <td>0.226189</td>\n",
       "      <td>0.000000</td>\n",
       "      <td>1.000000</td>\n",
       "      <td>0.000000e+00</td>\n",
       "      <td>0.000369</td>\n",
       "      <td>...</td>\n",
       "      <td>0.080199</td>\n",
       "      <td>0.184943</td>\n",
       "      <td>0.178233</td>\n",
       "      <td>0.450022</td>\n",
       "      <td>0.686422</td>\n",
       "      <td>0.402090</td>\n",
       "      <td>0.010070</td>\n",
       "      <td>0.001963</td>\n",
       "      <td>0.275847</td>\n",
       "      <td>0.094611</td>\n",
       "    </tr>\n",
       "    <tr>\n",
       "      <th>2</th>\n",
       "      <td>0.001592</td>\n",
       "      <td>0.000223</td>\n",
       "      <td>0.000264</td>\n",
       "      <td>0.001225</td>\n",
       "      <td>0.000138</td>\n",
       "      <td>0.202149</td>\n",
       "      <td>0.001490</td>\n",
       "      <td>0.008333</td>\n",
       "      <td>1.090549e-08</td>\n",
       "      <td>0.003297</td>\n",
       "      <td>...</td>\n",
       "      <td>0.080199</td>\n",
       "      <td>0.116764</td>\n",
       "      <td>0.110054</td>\n",
       "      <td>0.380690</td>\n",
       "      <td>0.377255</td>\n",
       "      <td>0.361812</td>\n",
       "      <td>0.014567</td>\n",
       "      <td>0.007872</td>\n",
       "      <td>0.091040</td>\n",
       "      <td>0.016127</td>\n",
       "    </tr>\n",
       "    <tr>\n",
       "      <th>3</th>\n",
       "      <td>0.001592</td>\n",
       "      <td>0.003424</td>\n",
       "      <td>0.003469</td>\n",
       "      <td>0.001566</td>\n",
       "      <td>0.000458</td>\n",
       "      <td>0.305747</td>\n",
       "      <td>0.022072</td>\n",
       "      <td>0.000789</td>\n",
       "      <td>3.067737e-08</td>\n",
       "      <td>0.000000</td>\n",
       "      <td>...</td>\n",
       "      <td>0.080199</td>\n",
       "      <td>0.184971</td>\n",
       "      <td>0.178261</td>\n",
       "      <td>0.609252</td>\n",
       "      <td>0.579285</td>\n",
       "      <td>0.357700</td>\n",
       "      <td>0.015869</td>\n",
       "      <td>0.000324</td>\n",
       "      <td>0.282662</td>\n",
       "      <td>0.324553</td>\n",
       "    </tr>\n",
       "    <tr>\n",
       "      <th>4</th>\n",
       "      <td>0.001592</td>\n",
       "      <td>0.243038</td>\n",
       "      <td>0.243350</td>\n",
       "      <td>0.009175</td>\n",
       "      <td>0.046594</td>\n",
       "      <td>0.395175</td>\n",
       "      <td>0.046372</td>\n",
       "      <td>0.004969</td>\n",
       "      <td>7.953707e-05</td>\n",
       "      <td>0.000000</td>\n",
       "      <td>...</td>\n",
       "      <td>0.040100</td>\n",
       "      <td>0.164165</td>\n",
       "      <td>0.164165</td>\n",
       "      <td>0.298880</td>\n",
       "      <td>0.592998</td>\n",
       "      <td>0.426084</td>\n",
       "      <td>0.013081</td>\n",
       "      <td>0.002021</td>\n",
       "      <td>0.127905</td>\n",
       "      <td>0.092058</td>\n",
       "    </tr>\n",
       "  </tbody>\n",
       "</table>\n",
       "<p>5 rows × 82 columns</p>\n",
       "</div>"
      ],
      "text/plain": [
       "   Accuracy_amin  Accuracy_amax  Accuracy_ptp  Accuracy_mean  Accuracy_std  \\\n",
       "0       0.001732       0.000371      0.000380       0.001324      0.000365   \n",
       "1       0.006545       0.001114      0.000000       0.005344      0.000000   \n",
       "2       0.001592       0.000223      0.000264       0.001225      0.000138   \n",
       "3       0.001592       0.003424      0.003469       0.001566      0.000458   \n",
       "4       0.001592       0.243038      0.243350       0.009175      0.046594   \n",
       "\n",
       "   Accuracy_skew  Accuracy_kurtosis  Accuracy_dominant_f  Accuracy_max_power  \\\n",
       "0       0.238994           0.000728             0.015873        5.870572e-08   \n",
       "1       0.226189           0.000000             1.000000        0.000000e+00   \n",
       "2       0.202149           0.001490             0.008333        1.090549e-08   \n",
       "3       0.305747           0.022072             0.000789        3.067737e-08   \n",
       "4       0.395175           0.046372             0.004969        7.953707e-05   \n",
       "\n",
       "   Bearing_amin  ...  Speed_amin  Speed_amax  Speed_ptp  Speed_mean  \\\n",
       "0      0.224194  ...    0.080199    0.123148   0.116437    0.127702   \n",
       "1      0.000369  ...    0.080199    0.184943   0.178233    0.450022   \n",
       "2      0.003297  ...    0.080199    0.116764   0.110054    0.380690   \n",
       "3      0.000000  ...    0.080199    0.184971   0.178261    0.609252   \n",
       "4      0.000000  ...    0.040100    0.164165   0.164165    0.298880   \n",
       "\n",
       "   Speed_std  Speed_skew  Speed_kurtosis  Speed_dominant_f  Speed_max_power  \\\n",
       "0   0.323489    0.496336        0.039251          0.015415         0.027671   \n",
       "1   0.686422    0.402090        0.010070          0.001963         0.275847   \n",
       "2   0.377255    0.361812        0.014567          0.007872         0.091040   \n",
       "3   0.579285    0.357700        0.015869          0.000324         0.282662   \n",
       "4   0.592998    0.426084        0.013081          0.002021         0.127905   \n",
       "\n",
       "   trip_len  \n",
       "0  0.068539  \n",
       "1  0.094611  \n",
       "2  0.016127  \n",
       "3  0.324553  \n",
       "4  0.092058  \n",
       "\n",
       "[5 rows x 82 columns]"
      ]
     },
     "execution_count": 10,
     "metadata": {},
     "output_type": "execute_result"
    }
   ],
   "source": [
    "# scale the training set minmax/standard\n",
    "scaler = \"minmax\"\n",
    "\n",
    "if scaler == \"std\":\n",
    "    sc = stdsc.fit(X_train)\n",
    "elif scaler== \"minmax\":\n",
    "    sc = mmsc.fit(X_train)\n",
    "    \n",
    "# save scaler\n",
    "scalerfile = f'scalers/{scaler}.sav'\n",
    "pickle.dump(sc, open(scalerfile, 'wb'))\n",
    "\n",
    "feature_cols = X_train.columns\n",
    "    \n",
    "X_train = sc.transform(X_train)\n",
    "X_train = pd.DataFrame(X_train, columns=feature_cols)\n",
    "\n",
    "X_train.head()"
   ]
  },
  {
   "cell_type": "code",
   "execution_count": 11,
   "metadata": {},
   "outputs": [],
   "source": [
    "# PCA?\n",
    "# are there visible clusters if we perform and look at it in 3d?\n",
    "\n",
    "pca = PCA(n_components=20)\n",
    "principalComponents = pca.fit_transform(X_train)\n",
    "principalDf = pd.DataFrame(data = principalComponents)"
   ]
  },
  {
   "cell_type": "code",
   "execution_count": 12,
   "metadata": {},
   "outputs": [
    {
     "data": {
      "text/plain": [
       "82"
      ]
     },
     "execution_count": 12,
     "metadata": {},
     "output_type": "execute_result"
    }
   ],
   "source": [
    "len(X_train.columns)"
   ]
  },
  {
   "cell_type": "code",
   "execution_count": 13,
   "metadata": {},
   "outputs": [
    {
     "data": {
      "image/png": "[encoded data removed]",
      "text/plain": [
       "<Figure size 432x288 with 1 Axes>"
      ]
     },
     "metadata": {},
     "output_type": "display_data"
    },
    {
     "data": {
      "text/plain": [
       "array([0.17614781, 0.30614159, 0.42539213, 0.50726339, 0.58488945,\n",
       "       0.64937846, 0.70663139, 0.74063867, 0.77175954, 0.79577307])"
      ]
     },
     "execution_count": 13,
     "metadata": {},
     "output_type": "execute_result"
    }
   ],
   "source": [
    "# explained variance ratio of first 10 principal components\n",
    "# first 10 principal components explain 80% of the variance\n",
    "plt.plot(np.cumsum(pca.explained_variance_ratio_[:10]))\n",
    "plt.show()\n",
    "np.cumsum(pca.explained_variance_ratio_[:10])"
   ]
  },
  {
   "cell_type": "code",
   "execution_count": 14,
   "metadata": {},
   "outputs": [
    {
     "data": {
      "text/html": [
       "<div>\n",
       "<style scoped>\n",
       "    .dataframe tbody tr th:only-of-type {\n",
       "        vertical-align: middle;\n",
       "    }\n",
       "\n",
       "    .dataframe tbody tr th {\n",
       "        vertical-align: top;\n",
       "    }\n",
       "\n",
       "    .dataframe thead th {\n",
       "        text-align: right;\n",
       "    }\n",
       "</style>\n",
       "<table border=\"1\" class=\"dataframe\">\n",
       "  <thead>\n",
       "    <tr style=\"text-align: right;\">\n",
       "      <th></th>\n",
       "      <th>0</th>\n",
       "      <th>1</th>\n",
       "      <th>2</th>\n",
       "    </tr>\n",
       "  </thead>\n",
       "  <tbody>\n",
       "    <tr>\n",
       "      <th>0</th>\n",
       "      <td>0.427286</td>\n",
       "      <td>-0.090782</td>\n",
       "      <td>-0.413162</td>\n",
       "    </tr>\n",
       "    <tr>\n",
       "      <th>1</th>\n",
       "      <td>0.152066</td>\n",
       "      <td>0.556672</td>\n",
       "      <td>-0.077387</td>\n",
       "    </tr>\n",
       "    <tr>\n",
       "      <th>2</th>\n",
       "      <td>-0.242597</td>\n",
       "      <td>-0.055460</td>\n",
       "      <td>-0.166297</td>\n",
       "    </tr>\n",
       "    <tr>\n",
       "      <th>3</th>\n",
       "      <td>0.243868</td>\n",
       "      <td>-0.128013</td>\n",
       "      <td>-0.182196</td>\n",
       "    </tr>\n",
       "    <tr>\n",
       "      <th>4</th>\n",
       "      <td>0.702300</td>\n",
       "      <td>-0.600646</td>\n",
       "      <td>0.419480</td>\n",
       "    </tr>\n",
       "  </tbody>\n",
       "</table>\n",
       "</div>"
      ],
      "text/plain": [
       "          0         1         2\n",
       "0  0.427286 -0.090782 -0.413162\n",
       "1  0.152066  0.556672 -0.077387\n",
       "2 -0.242597 -0.055460 -0.166297\n",
       "3  0.243868 -0.128013 -0.182196\n",
       "4  0.702300 -0.600646  0.419480"
      ]
     },
     "execution_count": 14,
     "metadata": {},
     "output_type": "execute_result"
    }
   ],
   "source": [
    "# plot in 3D with label colors\n",
    "principalDf.iloc[:, 0:3].head()"
   ]
  },
  {
   "cell_type": "code",
   "execution_count": 15,
   "metadata": {},
   "outputs": [
    {
     "data": {
      "text/plain": [
       "<mpl_toolkits.mplot3d.art3d.Path3DCollection at 0x7fc5b817b080>"
      ]
     },
     "execution_count": 15,
     "metadata": {},
     "output_type": "execute_result"
    },
    {
     "data": {
      "image/png": "[encoded data removed]",
      "text/plain": [
       "<Figure size 1008x720 with 1 Axes>"
      ]
     },
     "metadata": {},
     "output_type": "display_data"
    }
   ],
   "source": [
    "# plotting on the first 3 principal components\n",
    "fig = plt.figure(figsize=(14, 10))\n",
    "ax = plt.axes(projection='3d')\n",
    "\n",
    "c = y_train\n",
    "ax.scatter3D(principalDf.iloc[:, 0], principalDf.iloc[:, 1], principalDf.iloc[:, 2], c=c, cmap='viridis', s=2)\n"
   ]
  },
  {
   "cell_type": "markdown",
   "metadata": {},
   "source": [
    "## Accuracy to Beat - PCC"
   ]
  },
  {
   "cell_type": "code",
   "execution_count": 16,
   "metadata": {},
   "outputs": [
    {
     "data": {
      "text/plain": [
       "0.5"
      ]
     },
     "execution_count": 16,
     "metadata": {},
     "output_type": "execute_result"
    }
   ],
   "source": [
    "# proportional chance criterion\n",
    "state_counts = Counter(y_train)\n",
    "df_state = pd.DataFrame.from_dict(state_counts, orient='index')\n",
    "num = (df_state[0] / df_state[0].sum())**2\n",
    "pcc = np.round(num.sum(), 2)\n",
    "pcc"
   ]
  },
  {
   "cell_type": "markdown",
   "metadata": {},
   "source": [
    "## Machine Learning Models"
   ]
  },
  {
   "cell_type": "code",
   "execution_count": 17,
   "metadata": {},
   "outputs": [],
   "source": [
    "models_results = {'model':[], 'valid_acc':[], 'params':[]}"
   ]
  },
  {
   "cell_type": "markdown",
   "metadata": {},
   "source": [
    "### Logistic Regression"
   ]
  },
  {
   "cell_type": "code",
   "execution_count": 20,
   "metadata": {},
   "outputs": [
    {
     "data": {
      "text/plain": [
       "GridSearchCV(cv=3, error_score='raise-deprecating',\n",
       "       estimator=LogisticRegression(C=1.0, class_weight=None, dual=False, fit_intercept=True,\n",
       "          intercept_scaling=1, max_iter=100, multi_class='warn',\n",
       "          n_jobs=None, penalty='l2', random_state=None, solver='warn',\n",
       "          tol=0.0001, verbose=0, warm_start=False),\n",
       "       fit_params=None, iid='warn', n_jobs=36,\n",
       "       param_grid={'penalty': ['l1', 'l2'], 'C': [0.01, 0.1, 0.5, 0.75, 1.0, 10, 100]},\n",
       "       pre_dispatch='2*n_jobs', refit=True, return_train_score=True,\n",
       "       scoring=None, verbose=0)"
      ]
     },
     "execution_count": 20,
     "metadata": {},
     "output_type": "execute_result"
    }
   ],
   "source": [
    "param_grid = {'penalty':['l1', 'l2'], 'C':[0.01, 0.1, 0.5, 0.75, 1., 10, 100]}\n",
    "\n",
    "clf = LogisticRegression()\n",
    "\n",
    "logreg = GridSearchCV(clf, param_grid = param_grid, return_train_score=True, cv=3, n_jobs=n_jobs)\n",
    "logreg.fit(X_train, y_train)"
   ]
  },
  {
   "cell_type": "code",
   "execution_count": 21,
   "metadata": {
    "scrolled": true
   },
   "outputs": [
    {
     "name": "stdout",
     "output_type": "stream",
     "text": [
      "Best validation accuracy: 0.6293012455140384\n",
      "Best parameters: {'C': 100, 'penalty': 'l2'}\n"
     ]
    },
    {
     "data": {
      "image/png": "[encoded data removed]",
      "text/plain": [
       "<Figure size 432x288 with 1 Axes>"
      ]
     },
     "metadata": {},
     "output_type": "display_data"
    }
   ],
   "source": [
    "# calculate results\n",
    "model_name = 'log_reg'\n",
    "model = logreg\n",
    "results = pd.DataFrame(model.cv_results_)\n",
    "params = results.param_C\n",
    "train_score = results.mean_train_score\n",
    "valid_score = results.mean_test_score\n",
    "\n",
    "# plot\n",
    "plt.semilogx()\n",
    "plt.plot(params, train_score, label=\"train\")\n",
    "plt.plot(params, valid_score, label=\"validation\")\n",
    "plt.xlabel(\"Parameters\")\n",
    "plt.ylabel(\"Accuracy\")\n",
    "plt.title(\"Accuracy vs Parameters\")\n",
    "plt.legend()\n",
    "\n",
    "# saving to dictionary of models and results\n",
    "models_results[\"model\"] += [model_name]\n",
    "models_results[\"params\"] += [model.best_params_]\n",
    "models_results[\"valid_acc\"] += [model.best_score_]\n",
    "\n",
    "# print accuracies and parameters\n",
    "print(\"Best validation accuracy:\", model.best_score_)\n",
    "print(\"Best parameters:\", model.best_params_)\n",
    "\n",
    "# save the model to disk\n",
    "filename = f'models/{model_name}_{scaler}.sav'\n",
    "pickle.dump(model, open(filename, 'wb'))\n",
    "\n",
    "# save best_params\n",
    "file = model.best_params_\n",
    "filepath = f'results/{model_name}_{scaler}_best_params.sav'\n",
    "pickle.dump(file, open(filepath, 'wb'))\n",
    "\n",
    "# save feature importances\n",
    "file = model.best_estimator_.coef_\n",
    "filepath = f'results/{model_name}_{scaler}_feature_importances.sav'\n",
    "pickle.dump(file, open(filepath, 'wb'))"
   ]
  },
  {
   "cell_type": "markdown",
   "metadata": {},
   "source": [
    "### Linear SVC L1"
   ]
  },
  {
   "cell_type": "code",
   "execution_count": 22,
   "metadata": {},
   "outputs": [
    {
     "data": {
      "text/plain": [
       "GridSearchCV(cv=3, error_score='raise-deprecating',\n",
       "       estimator=LinearSVC(C=1.0, class_weight=None, dual=True, fit_intercept=True,\n",
       "     intercept_scaling=1, loss='squared_hinge', max_iter=1000,\n",
       "     multi_class='ovr', penalty='l2', random_state=None, tol=0.0001,\n",
       "     verbose=0),\n",
       "       fit_params=None, iid='warn', n_jobs=36,\n",
       "       param_grid={'penalty': ['l1'], 'dual': [False], 'C': [0.01, 0.1, 0.5, 0.75, 1.0, 10, 100, 1000]},\n",
       "       pre_dispatch='2*n_jobs', refit=True, return_train_score=True,\n",
       "       scoring=None, verbose=0)"
      ]
     },
     "execution_count": 22,
     "metadata": {},
     "output_type": "execute_result"
    }
   ],
   "source": [
    "param_grid = {'penalty':['l1'], 'dual':[False], 'C':[0.01, 0.1, 0.5, 0.75, 1., 10, 100, 1000]}\n",
    "clf = LinearSVC()\n",
    "\n",
    "lsvcl1 = GridSearchCV(clf, param_grid = param_grid, return_train_score=True, cv=3, n_jobs=n_jobs)\n",
    "lsvcl1.fit(X_train, y_train)"
   ]
  },
  {
   "cell_type": "code",
   "execution_count": 23,
   "metadata": {},
   "outputs": [
    {
     "name": "stdout",
     "output_type": "stream",
     "text": [
      "Best validation accuracy: 0.6297234536626557\n",
      "Best parameters: {'C': 10, 'dual': False, 'penalty': 'l1'}\n"
     ]
    },
    {
     "data": {
      "image/png": "[encoded data removed]",
      "text/plain": [
       "<Figure size 432x288 with 1 Axes>"
      ]
     },
     "metadata": {},
     "output_type": "display_data"
    }
   ],
   "source": [
    "# calculate results\n",
    "model_name = 'linear_svc_l1'\n",
    "model = lsvcl1\n",
    "results = pd.DataFrame(model.cv_results_)\n",
    "params = results.param_C\n",
    "train_score = results.mean_train_score\n",
    "valid_score = results.mean_test_score\n",
    "\n",
    "# plot\n",
    "plt.semilogx()\n",
    "plt.plot(params, train_score, label=\"train\")\n",
    "plt.plot(params, valid_score, label=\"validation\")\n",
    "plt.xlabel(\"Parameters\")\n",
    "plt.ylabel(\"Accuracy\")\n",
    "plt.title(\"Accuracy vs Parameters\")\n",
    "plt.legend()\n",
    "\n",
    "# saving to dictionary of models and results\n",
    "models_results[\"model\"] += [model_name]\n",
    "models_results[\"params\"] += [model.best_params_]\n",
    "models_results[\"valid_acc\"] += [model.best_score_]\n",
    "\n",
    "# print accuracies and parameters\n",
    "print(\"Best validation accuracy:\", model.best_score_)\n",
    "print(\"Best parameters:\", model.best_params_)\n",
    "\n",
    "# save the model to disk\n",
    "filename = f'models/{model_name}_{scaler}.sav'\n",
    "pickle.dump(model, open(filename, 'wb'))\n",
    "\n",
    "# save best_params\n",
    "file = model.best_params_\n",
    "filepath = f'results/{model_name}_{scaler}_best_params.sav'\n",
    "pickle.dump(file, open(filepath, 'wb'))\n",
    "\n",
    "# save feature importances\n",
    "file = model.best_estimator_.coef_\n",
    "filepath = f'results/{model_name}_{scaler}_feature_importances.sav'\n",
    "pickle.dump(file, open(filepath, 'wb'))"
   ]
  },
  {
   "cell_type": "markdown",
   "metadata": {},
   "source": [
    "### Linear SVC L2"
   ]
  },
  {
   "cell_type": "code",
   "execution_count": 24,
   "metadata": {},
   "outputs": [
    {
     "data": {
      "text/plain": [
       "GridSearchCV(cv=3, error_score='raise-deprecating',\n",
       "       estimator=LinearSVC(C=1.0, class_weight=None, dual=True, fit_intercept=True,\n",
       "     intercept_scaling=1, loss='squared_hinge', max_iter=1000,\n",
       "     multi_class='ovr', penalty='l2', random_state=None, tol=0.0001,\n",
       "     verbose=0),\n",
       "       fit_params=None, iid='warn', n_jobs=36,\n",
       "       param_grid={'penalty': ['l2'], 'loss': ['hinge'], 'C': [0.01, 0.1, 0.5, 0.75, 1.0, 10, 100, 1000]},\n",
       "       pre_dispatch='2*n_jobs', refit=True, return_train_score=True,\n",
       "       scoring=None, verbose=0)"
      ]
     },
     "execution_count": 24,
     "metadata": {},
     "output_type": "execute_result"
    }
   ],
   "source": [
    "param_grid = {'penalty':['l2'], 'loss':['hinge'], 'C':[0.01, 0.1, 0.5, 0.75, 1., 10, 100, 1000]}\n",
    "\n",
    "clf = LinearSVC()\n",
    "\n",
    "lsvcl2 = GridSearchCV(clf, param_grid = param_grid, return_train_score=True, cv=3, n_jobs=n_jobs)\n",
    "lsvcl2.fit(X_train, y_train)"
   ]
  },
  {
   "cell_type": "code",
   "execution_count": 25,
   "metadata": {},
   "outputs": [
    {
     "name": "stdout",
     "output_type": "stream",
     "text": [
      "Best validation accuracy: 0.6291956934768841\n",
      "Best parameters: {'C': 0.75, 'loss': 'hinge', 'penalty': 'l2'}\n"
     ]
    },
    {
     "data": {
      "image/png": "[encoded data removed]",
      "text/plain": [
       "<Figure size 432x288 with 1 Axes>"
      ]
     },
     "metadata": {},
     "output_type": "display_data"
    }
   ],
   "source": [
    "# calculate results\n",
    "model_name = 'linear_svc_l2'\n",
    "model = lsvcl2\n",
    "results = pd.DataFrame(model.cv_results_)\n",
    "params = results.param_C\n",
    "train_score = results.mean_train_score\n",
    "valid_score = results.mean_test_score\n",
    "\n",
    "# plot\n",
    "plt.semilogx()\n",
    "plt.plot(params, train_score, label=\"train\")\n",
    "plt.plot(params, valid_score, label=\"validation\")\n",
    "plt.xlabel(\"Parameters\")\n",
    "plt.ylabel(\"Accuracy\")\n",
    "plt.title(\"Accuracy vs Parameters\")\n",
    "plt.legend()\n",
    "\n",
    "# saving to dictionary of models and results\n",
    "models_results[\"model\"] += [model_name]\n",
    "models_results[\"params\"] += [model.best_params_]\n",
    "models_results[\"valid_acc\"] += [model.best_score_]\n",
    "\n",
    "# print accuracies and parameters\n",
    "print(\"Best validation accuracy:\", model.best_score_)\n",
    "print(\"Best parameters:\", model.best_params_)\n",
    "\n",
    "# save the model to disk\n",
    "filename = f'models/{model_name}_{scaler}.sav'\n",
    "pickle.dump(model, open(filename, 'wb'))\n",
    "\n",
    "# save best_params\n",
    "file = model.best_params_\n",
    "filepath = f'results/{model_name}_{scaler}_best_params.sav'\n",
    "pickle.dump(file, open(filepath, 'wb'))\n",
    "\n",
    "# save feature importances\n",
    "file = model.best_estimator_.coef_\n",
    "filepath = f'results/{model_name}_{scaler}_feature_importances.sav'\n",
    "pickle.dump(file, open(filepath, 'wb'))"
   ]
  },
  {
   "cell_type": "markdown",
   "metadata": {},
   "source": [
    "### Nonlinear SVC"
   ]
  },
  {
   "cell_type": "code",
   "execution_count": 26,
   "metadata": {},
   "outputs": [
    {
     "data": {
      "text/plain": [
       "GridSearchCV(cv=3, error_score='raise-deprecating',\n",
       "       estimator=SVC(C=1.0, cache_size=200, class_weight=None, coef0=0.0,\n",
       "  decision_function_shape='ovr', degree=3, gamma='auto_deprecated',\n",
       "  kernel='rbf', max_iter=-1, probability=False, random_state=None,\n",
       "  shrinking=True, tol=0.001, verbose=False),\n",
       "       fit_params=None, iid='warn', n_jobs=36,\n",
       "       param_grid={'C': [0.1, 0.5, 0.75, 1.0, 10, 100, 1000, 2000]},\n",
       "       pre_dispatch='2*n_jobs', refit=True, return_train_score=True,\n",
       "       scoring=None, verbose=0)"
      ]
     },
     "execution_count": 26,
     "metadata": {},
     "output_type": "execute_result"
    }
   ],
   "source": [
    "param_grid = {'C':[0.1, 0.5, 0.75, 1., 10, 100, 1000, 2000]}\n",
    "\n",
    "clf = SVC()\n",
    "\n",
    "svc = GridSearchCV(clf, param_grid = param_grid, return_train_score=True, cv=3, n_jobs=n_jobs)\n",
    "svc.fit(X_train, y_train)"
   ]
  },
  {
   "cell_type": "code",
   "execution_count": 27,
   "metadata": {},
   "outputs": [
    {
     "name": "stdout",
     "output_type": "stream",
     "text": [
      "Best validation accuracy: 0.632467806628668\n",
      "Best parameters: {'C': 1000}\n"
     ]
    },
    {
     "data": {
      "image/png": "[encoded data removed]",
      "text/plain": [
       "<Figure size 432x288 with 1 Axes>"
      ]
     },
     "metadata": {},
     "output_type": "display_data"
    }
   ],
   "source": [
    "# calculate results\n",
    "model_name = 'svc'\n",
    "model = svc\n",
    "results = pd.DataFrame(model.cv_results_)\n",
    "params = results.param_C\n",
    "train_score = results.mean_train_score\n",
    "valid_score = results.mean_test_score\n",
    "\n",
    "# plot\n",
    "plt.semilogx()\n",
    "plt.plot(params, train_score, label=\"train\")\n",
    "plt.plot(params, valid_score, label=\"validation\")\n",
    "plt.xlabel(\"Parameters\")\n",
    "plt.ylabel(\"Accuracy\")\n",
    "plt.title(\"Accuracy vs Parameters\")\n",
    "plt.legend()\n",
    "\n",
    "# saving to dictionary of models and results\n",
    "models_results[\"model\"] += [model_name]\n",
    "models_results[\"params\"] += [model.best_params_]\n",
    "models_results[\"valid_acc\"] += [model.best_score_]\n",
    "\n",
    "# print accuracies and parameters\n",
    "print(\"Best validation accuracy:\", model.best_score_)\n",
    "print(\"Best parameters:\", model.best_params_)\n",
    "\n",
    "# save the model to disk\n",
    "filename = f'models/{model_name}_{scaler}.sav'\n",
    "pickle.dump(model, open(filename, 'wb'))\n",
    "\n",
    "# save best_params\n",
    "file = model.best_params_\n",
    "filepath = f'results/{model_name}_{scaler}_best_params.sav'\n",
    "pickle.dump(file, open(filepath, 'wb'))"
   ]
  },
  {
   "cell_type": "markdown",
   "metadata": {},
   "source": [
    "### GBM"
   ]
  },
  {
   "cell_type": "code",
   "execution_count": 28,
   "metadata": {},
   "outputs": [
    {
     "data": {
      "text/plain": [
       "GridSearchCV(cv=3, error_score='raise-deprecating',\n",
       "       estimator=GradientBoostingClassifier(criterion='friedman_mse', init=None,\n",
       "              learning_rate=0.1, loss='deviance', max_depth=3,\n",
       "              max_features=None, max_leaf_nodes=None,\n",
       "              min_impurity_decrease=0.0, min_impurity_split=None,\n",
       "              min_samples_leaf=1, min_sampl...      subsample=1.0, tol=0.0001, validation_fraction=0.1,\n",
       "              verbose=0, warm_start=False),\n",
       "       fit_params=None, iid='warn', n_jobs=36,\n",
       "       param_grid={'learning_rate': [0.01, 0.05, 0.1], 'n_estimators': [500], 'max_depth': [2, 3, 4, 5]},\n",
       "       pre_dispatch='2*n_jobs', refit=True, return_train_score=True,\n",
       "       scoring=None, verbose=0)"
      ]
     },
     "execution_count": 28,
     "metadata": {},
     "output_type": "execute_result"
    }
   ],
   "source": [
    "param_grid = {'learning_rate':[0.01, 0.05, 0.1], \"n_estimators\":[500], \"max_depth\":[2, 3, 4, 5]}\n",
    "\n",
    "clf = GradientBoostingClassifier()\n",
    "\n",
    "gbm = GridSearchCV(clf, param_grid = param_grid, return_train_score=True, cv=3, n_jobs=n_jobs)\n",
    "gbm.fit(X_train, y_train)"
   ]
  },
  {
   "cell_type": "code",
   "execution_count": 29,
   "metadata": {},
   "outputs": [
    {
     "name": "stdout",
     "output_type": "stream",
     "text": [
      "Best validation accuracy: 0.6310956301456618\n",
      "Best parameters: {'learning_rate': 0.01, 'max_depth': 3, 'n_estimators': 500}\n"
     ]
    },
    {
     "data": {
      "image/png": "[encoded data removed]",
      "text/plain": [
       "<Figure size 432x288 with 1 Axes>"
      ]
     },
     "metadata": {},
     "output_type": "display_data"
    }
   ],
   "source": [
    "# calculate results\n",
    "model_name = 'gbm'\n",
    "model = gbm\n",
    "results = pd.DataFrame(model.cv_results_)\n",
    "params = results[results.param_learning_rate==0.01].param_max_depth\n",
    "train_score = results[results.param_learning_rate==0.01].mean_train_score\n",
    "valid_score = results[results.param_learning_rate==0.01].mean_test_score\n",
    "\n",
    "# plot\n",
    "plt.semilogx()\n",
    "plt.plot(params, train_score, label=\"train\")\n",
    "plt.plot(params, valid_score, label=\"validation\")\n",
    "plt.xlabel(\"Parameters\")\n",
    "plt.ylabel(\"Accuracy\")\n",
    "plt.title(\"Accuracy vs Parameters\")\n",
    "plt.legend()\n",
    "\n",
    "# saving to dictionary of models and results\n",
    "models_results[\"model\"] += [model_name]\n",
    "models_results[\"params\"] += [model.best_params_]\n",
    "models_results[\"valid_acc\"] += [model.best_score_]\n",
    "\n",
    "# print accuracies and parameters\n",
    "print(\"Best validation accuracy:\", model.best_score_)\n",
    "print(\"Best parameters:\", model.best_params_)\n",
    "\n",
    "# save the model to disk\n",
    "filename = f'models/{model_name}_{scaler}.sav'\n",
    "pickle.dump(model, open(filename, 'wb'))\n",
    "\n",
    "# save best_params\n",
    "file = model.best_params_\n",
    "filepath = f'results/{model_name}_{scaler}_best_params.sav'\n",
    "pickle.dump(file, open(filepath, 'wb'))\n",
    "\n",
    "# save feature importances\n",
    "file = model.best_estimator_.feature_importances_\n",
    "filepath = f'results/{model_name}_{scaler}_feature_importances.sav'\n",
    "pickle.dump(file, open(filepath, 'wb'))"
   ]
  },
  {
   "cell_type": "markdown",
   "metadata": {},
   "source": [
    "### Random Forest"
   ]
  },
  {
   "cell_type": "code",
   "execution_count": 30,
   "metadata": {},
   "outputs": [
    {
     "data": {
      "text/plain": [
       "GridSearchCV(cv=3, error_score='raise-deprecating',\n",
       "       estimator=RandomForestClassifier(bootstrap=True, class_weight=None, criterion='gini',\n",
       "            max_depth=None, max_features='auto', max_leaf_nodes=None,\n",
       "            min_impurity_decrease=0.0, min_impurity_split=None,\n",
       "            min_samples_leaf=1, min_samples_split=2,\n",
       "            min_weight_fraction_leaf=0.0, n_estimators='warn', n_jobs=None,\n",
       "            oob_score=False, random_state=None, verbose=0,\n",
       "            warm_start=False),\n",
       "       fit_params=None, iid='warn', n_jobs=36,\n",
       "       param_grid={'min_samples_split': [2, 3, 4], 'max_depth': [2, 3, 4, 5]},\n",
       "       pre_dispatch='2*n_jobs', refit=True, return_train_score=True,\n",
       "       scoring=None, verbose=0)"
      ]
     },
     "execution_count": 30,
     "metadata": {},
     "output_type": "execute_result"
    }
   ],
   "source": [
    "param_grid = {'min_samples_split':[2, 3, 4], \"max_depth\":[2, 3, 4, 5]}\n",
    "\n",
    "clf = RandomForestClassifier()\n",
    "\n",
    "rf = GridSearchCV(clf, param_grid = param_grid, return_train_score=True, cv=3, n_jobs=n_jobs)\n",
    "rf.fit(X_train, y_train)"
   ]
  },
  {
   "cell_type": "code",
   "execution_count": 31,
   "metadata": {},
   "outputs": [
    {
     "name": "stdout",
     "output_type": "stream",
     "text": [
      "Best validation accuracy: 0.621490394764619\n",
      "Best parameters: {'max_depth': 5, 'min_samples_split': 2}\n"
     ]
    },
    {
     "data": {
      "image/png": "[encoded data removed]",
      "text/plain": [
       "<Figure size 432x288 with 1 Axes>"
      ]
     },
     "metadata": {},
     "output_type": "display_data"
    }
   ],
   "source": [
    "# calculate results\n",
    "model_name = 'rf'\n",
    "model = rf\n",
    "results = pd.DataFrame(model.cv_results_)\n",
    "params = results.param_max_depth\n",
    "train_score = results.mean_train_score\n",
    "valid_score = results.mean_test_score\n",
    "\n",
    "# plot\n",
    "plt.semilogx()\n",
    "plt.plot(params, train_score, label=\"train\")\n",
    "plt.plot(params, valid_score, label=\"validation\")\n",
    "plt.xlabel(\"Parameters\")\n",
    "plt.ylabel(\"Accuracy\")\n",
    "plt.title(\"Accuracy vs Parameters\")\n",
    "plt.legend()\n",
    "\n",
    "# saving to dictionary of models and results\n",
    "models_results[\"model\"] += [model_name]\n",
    "models_results[\"params\"] += [model.best_params_]\n",
    "models_results[\"valid_acc\"] += [model.best_score_]\n",
    "\n",
    "# print accuracies and parameters\n",
    "print(\"Best validation accuracy:\", model.best_score_)\n",
    "print(\"Best parameters:\", model.best_params_)\n",
    "\n",
    "# save the model to disk\n",
    "filename = f'models/{model_name}_{scaler}.sav'\n",
    "pickle.dump(model, open(filename, 'wb'))\n",
    "\n",
    "# save best_params\n",
    "file = model.best_params_\n",
    "filepath = f'results/{model_name}_{scaler}_best_params.sav'\n",
    "pickle.dump(file, open(filepath, 'wb'))\n",
    "\n",
    "# save feature importances\n",
    "file = model.best_estimator_.feature_importances_\n",
    "filepath = f'results/{model_name}_{scaler}_feature_importances.sav'\n",
    "pickle.dump(file, open(filepath, 'wb'))"
   ]
  },
  {
   "cell_type": "markdown",
   "metadata": {},
   "source": [
    "### Decision Tree"
   ]
  },
  {
   "cell_type": "code",
   "execution_count": 32,
   "metadata": {},
   "outputs": [
    {
     "data": {
      "text/plain": [
       "GridSearchCV(cv=3, error_score='raise-deprecating',\n",
       "       estimator=DecisionTreeClassifier(class_weight=None, criterion='gini', max_depth=None,\n",
       "            max_features=None, max_leaf_nodes=None,\n",
       "            min_impurity_decrease=0.0, min_impurity_split=None,\n",
       "            min_samples_leaf=1, min_samples_split=2,\n",
       "            min_weight_fraction_leaf=0.0, presort=False, random_state=None,\n",
       "            splitter='best'),\n",
       "       fit_params=None, iid='warn', n_jobs=36,\n",
       "       param_grid={'min_samples_split': [2, 3, 4], 'max_depth': [2, 3, 4, 5]},\n",
       "       pre_dispatch='2*n_jobs', refit=True, return_train_score=True,\n",
       "       scoring=None, verbose=0)"
      ]
     },
     "execution_count": 32,
     "metadata": {},
     "output_type": "execute_result"
    }
   ],
   "source": [
    "param_grid = {'min_samples_split':[2, 3, 4], \"max_depth\":[2, 3, 4, 5]}\n",
    "\n",
    "clf = DecisionTreeClassifier()\n",
    "\n",
    "dt = GridSearchCV(clf, param_grid = param_grid, return_train_score=True, cv=3, n_jobs=n_jobs)\n",
    "dt.fit(X_train, y_train)"
   ]
  },
  {
   "cell_type": "code",
   "execution_count": 33,
   "metadata": {},
   "outputs": [
    {
     "name": "stdout",
     "output_type": "stream",
     "text": [
      "Best validation accuracy: 0.6027021321511505\n",
      "Best parameters: {'max_depth': 2, 'min_samples_split': 2}\n"
     ]
    },
    {
     "data": {
      "image/png": "[encoded data removed]",
      "text/plain": [
       "<Figure size 432x288 with 1 Axes>"
      ]
     },
     "metadata": {},
     "output_type": "display_data"
    }
   ],
   "source": [
    "# calculate results\n",
    "model_name = 'dt'\n",
    "model = dt\n",
    "results = pd.DataFrame(model.cv_results_)\n",
    "params = results.param_max_depth\n",
    "train_score = results.mean_train_score\n",
    "valid_score = results.mean_test_score\n",
    "\n",
    "# plot\n",
    "plt.semilogx()\n",
    "plt.plot(params, train_score, label=\"train\")\n",
    "plt.plot(params, valid_score, label=\"validation\")\n",
    "plt.xlabel(\"Parameters\")\n",
    "plt.ylabel(\"Accuracy\")\n",
    "plt.title(\"Accuracy vs Parameters\")\n",
    "plt.legend()\n",
    "\n",
    "# saving to dictionary of models and results\n",
    "models_results[\"model\"] += [model_name]\n",
    "models_results[\"params\"] += [model.best_params_]\n",
    "models_results[\"valid_acc\"] += [model.best_score_]\n",
    "\n",
    "# print accuracies and parameters\n",
    "print(\"Best validation accuracy:\", model.best_score_)\n",
    "print(\"Best parameters:\", model.best_params_)\n",
    "\n",
    "# save the model to disk\n",
    "filename = f'models/{model_name}_{scaler}.sav'\n",
    "pickle.dump(model, open(filename, 'wb'))\n",
    "\n",
    "# save best_params\n",
    "file = model.best_params_\n",
    "filepath = f'results/{model_name}_{scaler}_best_params.sav'\n",
    "pickle.dump(file, open(filepath, 'wb'))\n",
    "\n",
    "# save feature importances\n",
    "file = model.best_estimator_.feature_importances_\n",
    "filepath = f'results/{model_name}_{scaler}_feature_importances.sav'\n",
    "pickle.dump(file, open(filepath, 'wb'))"
   ]
  },
  {
   "cell_type": "markdown",
   "metadata": {},
   "source": [
    "### Naive Bayes"
   ]
  },
  {
   "cell_type": "code",
   "execution_count": 34,
   "metadata": {},
   "outputs": [
    {
     "data": {
      "text/plain": [
       "GridSearchCV(cv=3, error_score='raise-deprecating',\n",
       "       estimator=GaussianNB(priors=None, var_smoothing=1e-09),\n",
       "       fit_params=None, iid='warn', n_jobs=36,\n",
       "       param_grid={'var_smoothing': [1e-09, 1e-05, 0.1]},\n",
       "       pre_dispatch='2*n_jobs', refit=True, return_train_score=True,\n",
       "       scoring=None, verbose=0)"
      ]
     },
     "execution_count": 34,
     "metadata": {},
     "output_type": "execute_result"
    }
   ],
   "source": [
    "param_grid = {'var_smoothing':[1e-9, 1e-5, 1e-1]}\n",
    "clf = GaussianNB()\n",
    "\n",
    "nb = GridSearchCV(clf, param_grid = param_grid, return_train_score=True, cv=3, n_jobs=n_jobs)\n",
    "nb.fit(X_train, y_train)"
   ]
  },
  {
   "cell_type": "code",
   "execution_count": 35,
   "metadata": {},
   "outputs": [
    {
     "name": "stdout",
     "output_type": "stream",
     "text": [
      "Best validation accuracy: 0.5486594891281402\n",
      "Best parameters: {'var_smoothing': 1e-05}\n"
     ]
    },
    {
     "data": {
      "image/png": "[encoded data removed]",
      "text/plain": [
       "<Figure size 432x288 with 1 Axes>"
      ]
     },
     "metadata": {},
     "output_type": "display_data"
    }
   ],
   "source": [
    "# calculate results\n",
    "model_name = 'nb'\n",
    "model = nb\n",
    "results = pd.DataFrame(model.cv_results_)\n",
    "params = results.param_var_smoothing\n",
    "train_score = results.mean_train_score\n",
    "valid_score = results.mean_test_score\n",
    "\n",
    "# plot\n",
    "plt.semilogx()\n",
    "plt.plot(params, train_score, label=\"train\")\n",
    "plt.plot(params, valid_score, label=\"validation\")\n",
    "plt.xlabel(\"Parameters\")\n",
    "plt.ylabel(\"Accuracy\")\n",
    "plt.title(\"Accuracy vs Parameters\")\n",
    "plt.legend()\n",
    "\n",
    "# saving to dictionary of models and results\n",
    "models_results[\"model\"] += [model_name]\n",
    "models_results[\"params\"] += [model.best_params_]\n",
    "models_results[\"valid_acc\"] += [model.best_score_]\n",
    "\n",
    "# print accuracies and parameters\n",
    "print(\"Best validation accuracy:\", model.best_score_)\n",
    "print(\"Best parameters:\", model.best_params_)\n",
    "\n",
    "# save the model to disk\n",
    "filename = f'models/{model_name}_{scaler}.sav'\n",
    "pickle.dump(model, open(filename, 'wb'))\n",
    "\n",
    "# save best_params\n",
    "file = model.best_params_\n",
    "filepath = f'results/{model_name}_{scaler}_best_params.sav'\n",
    "pickle.dump(file, open(filepath, 'wb'))"
   ]
  },
  {
   "cell_type": "code",
   "execution_count": 36,
   "metadata": {},
   "outputs": [],
   "source": [
    "results = pd.DataFrame(models_results).sort_values(by=\"valid_acc\", ascending=False)\n",
    "results.drop_duplicates(subset=\"valid_acc\", inplace=True)"
   ]
  },
  {
   "cell_type": "code",
   "execution_count": 37,
   "metadata": {},
   "outputs": [],
   "source": [
    "# save to csv\n",
    "results.to_csv(f\"results/ml_results_{scaler}_pcc-{pcc}_.csv\", index=False)"
   ]
  },
  {
   "cell_type": "code",
   "execution_count": 19,
   "metadata": {},
   "outputs": [
    {
     "data": {
      "text/html": [
       "<div>\n",
       "<style scoped>\n",
       "    .dataframe tbody tr th:only-of-type {\n",
       "        vertical-align: middle;\n",
       "    }\n",
       "\n",
       "    .dataframe tbody tr th {\n",
       "        vertical-align: top;\n",
       "    }\n",
       "\n",
       "    .dataframe thead th {\n",
       "        text-align: right;\n",
       "    }\n",
       "</style>\n",
       "<table border=\"1\" class=\"dataframe\">\n",
       "  <thead>\n",
       "    <tr style=\"text-align: right;\">\n",
       "      <th></th>\n",
       "      <th>model</th>\n",
       "      <th>valid_acc</th>\n",
       "      <th>params</th>\n",
       "    </tr>\n",
       "  </thead>\n",
       "  <tbody>\n",
       "    <tr>\n",
       "      <th>0</th>\n",
       "      <td>gbm</td>\n",
       "      <td>0.630779</td>\n",
       "      <td>{'learning_rate': 0.01, 'max_depth': 5, 'n_estimators': 500}</td>\n",
       "    </tr>\n",
       "    <tr>\n",
       "      <th>1</th>\n",
       "      <td>linear_svc_l1</td>\n",
       "      <td>0.629512</td>\n",
       "      <td>{'C': 0.75, 'dual': False, 'penalty': 'l1'}</td>\n",
       "    </tr>\n",
       "    <tr>\n",
       "      <th>2</th>\n",
       "      <td>log_reg</td>\n",
       "      <td>0.628985</td>\n",
       "      <td>{'C': 0.1, 'penalty': 'l2'}</td>\n",
       "    </tr>\n",
       "    <tr>\n",
       "      <th>3</th>\n",
       "      <td>linear_svc_l2</td>\n",
       "      <td>0.628457</td>\n",
       "      <td>{'C': 0.01, 'loss': 'hinge', 'penalty': 'l2'}</td>\n",
       "    </tr>\n",
       "    <tr>\n",
       "      <th>4</th>\n",
       "      <td>svc</td>\n",
       "      <td>0.626662</td>\n",
       "      <td>{'C': 1.0}</td>\n",
       "    </tr>\n",
       "    <tr>\n",
       "      <th>5</th>\n",
       "      <td>rf</td>\n",
       "      <td>0.620013</td>\n",
       "      <td>{'max_depth': 3, 'min_samples_split': 4}</td>\n",
       "    </tr>\n",
       "    <tr>\n",
       "      <th>6</th>\n",
       "      <td>dt</td>\n",
       "      <td>0.602702</td>\n",
       "      <td>{'max_depth': 2, 'min_samples_split': 2}</td>\n",
       "    </tr>\n",
       "    <tr>\n",
       "      <th>7</th>\n",
       "      <td>nb</td>\n",
       "      <td>0.548343</td>\n",
       "      <td>{'var_smoothing': 1e-09}</td>\n",
       "    </tr>\n",
       "  </tbody>\n",
       "</table>\n",
       "</div>"
      ],
      "text/plain": [
       "           model  valid_acc  \\\n",
       "0  gbm            0.630779    \n",
       "1  linear_svc_l1  0.629512    \n",
       "2  log_reg        0.628985    \n",
       "3  linear_svc_l2  0.628457    \n",
       "4  svc            0.626662    \n",
       "5  rf             0.620013    \n",
       "6  dt             0.602702    \n",
       "7  nb             0.548343    \n",
       "\n",
       "                                                         params  \n",
       "0  {'learning_rate': 0.01, 'max_depth': 5, 'n_estimators': 500}  \n",
       "1  {'C': 0.75, 'dual': False, 'penalty': 'l1'}                   \n",
       "2  {'C': 0.1, 'penalty': 'l2'}                                   \n",
       "3  {'C': 0.01, 'loss': 'hinge', 'penalty': 'l2'}                 \n",
       "4  {'C': 1.0}                                                    \n",
       "5  {'max_depth': 3, 'min_samples_split': 4}                      \n",
       "6  {'max_depth': 2, 'min_samples_split': 2}                      \n",
       "7  {'var_smoothing': 1e-09}                                      "
      ]
     },
     "execution_count": 19,
     "metadata": {},
     "output_type": "execute_result"
    }
   ],
   "source": [
    "# results from standard scaler\n",
    "pd.set_option('display.max_colwidth', -1)\n",
    "pd.read_csv(\"results/ml_results_std_pcc-0.5_.csv\").drop_duplicates(subset=\"model\")"
   ]
  },
  {
   "cell_type": "code",
   "execution_count": 18,
   "metadata": {},
   "outputs": [
    {
     "data": {
      "text/html": [
       "<div>\n",
       "<style scoped>\n",
       "    .dataframe tbody tr th:only-of-type {\n",
       "        vertical-align: middle;\n",
       "    }\n",
       "\n",
       "    .dataframe tbody tr th {\n",
       "        vertical-align: top;\n",
       "    }\n",
       "\n",
       "    .dataframe thead th {\n",
       "        text-align: right;\n",
       "    }\n",
       "</style>\n",
       "<table border=\"1\" class=\"dataframe\">\n",
       "  <thead>\n",
       "    <tr style=\"text-align: right;\">\n",
       "      <th></th>\n",
       "      <th>model</th>\n",
       "      <th>valid_acc</th>\n",
       "      <th>params</th>\n",
       "    </tr>\n",
       "  </thead>\n",
       "  <tbody>\n",
       "    <tr>\n",
       "      <th>0</th>\n",
       "      <td>svc</td>\n",
       "      <td>0.632468</td>\n",
       "      <td>{'C': 1000}</td>\n",
       "    </tr>\n",
       "    <tr>\n",
       "      <th>1</th>\n",
       "      <td>gbm</td>\n",
       "      <td>0.631096</td>\n",
       "      <td>{'learning_rate': 0.01, 'max_depth': 3, 'n_estimators': 500}</td>\n",
       "    </tr>\n",
       "    <tr>\n",
       "      <th>2</th>\n",
       "      <td>linear_svc_l1</td>\n",
       "      <td>0.629723</td>\n",
       "      <td>{'C': 10, 'dual': False, 'penalty': 'l1'}</td>\n",
       "    </tr>\n",
       "    <tr>\n",
       "      <th>3</th>\n",
       "      <td>log_reg</td>\n",
       "      <td>0.629301</td>\n",
       "      <td>{'C': 100, 'penalty': 'l2'}</td>\n",
       "    </tr>\n",
       "    <tr>\n",
       "      <th>4</th>\n",
       "      <td>linear_svc_l2</td>\n",
       "      <td>0.629196</td>\n",
       "      <td>{'C': 0.75, 'loss': 'hinge', 'penalty': 'l2'}</td>\n",
       "    </tr>\n",
       "    <tr>\n",
       "      <th>5</th>\n",
       "      <td>rf</td>\n",
       "      <td>0.621490</td>\n",
       "      <td>{'max_depth': 5, 'min_samples_split': 2}</td>\n",
       "    </tr>\n",
       "    <tr>\n",
       "      <th>6</th>\n",
       "      <td>dt</td>\n",
       "      <td>0.602702</td>\n",
       "      <td>{'max_depth': 2, 'min_samples_split': 2}</td>\n",
       "    </tr>\n",
       "    <tr>\n",
       "      <th>7</th>\n",
       "      <td>nb</td>\n",
       "      <td>0.548659</td>\n",
       "      <td>{'var_smoothing': 1e-05}</td>\n",
       "    </tr>\n",
       "  </tbody>\n",
       "</table>\n",
       "</div>"
      ],
      "text/plain": [
       "           model  valid_acc  \\\n",
       "0  svc            0.632468    \n",
       "1  gbm            0.631096    \n",
       "2  linear_svc_l1  0.629723    \n",
       "3  log_reg        0.629301    \n",
       "4  linear_svc_l2  0.629196    \n",
       "5  rf             0.621490    \n",
       "6  dt             0.602702    \n",
       "7  nb             0.548659    \n",
       "\n",
       "                                                         params  \n",
       "0  {'C': 1000}                                                   \n",
       "1  {'learning_rate': 0.01, 'max_depth': 3, 'n_estimators': 500}  \n",
       "2  {'C': 10, 'dual': False, 'penalty': 'l1'}                     \n",
       "3  {'C': 100, 'penalty': 'l2'}                                   \n",
       "4  {'C': 0.75, 'loss': 'hinge', 'penalty': 'l2'}                 \n",
       "5  {'max_depth': 5, 'min_samples_split': 2}                      \n",
       "6  {'max_depth': 2, 'min_samples_split': 2}                      \n",
       "7  {'var_smoothing': 1e-05}                                      "
      ]
     },
     "execution_count": 18,
     "metadata": {},
     "output_type": "execute_result"
    }
   ],
   "source": [
    "# results from minmax scaler\n",
    "pd.set_option('display.max_colwidth', -1)\n",
    "pd.read_csv(\"results/ml_results_minmax_pcc-0.5_.csv\").drop_duplicates(subset=\"model\")"
   ]
  },
  {
   "cell_type": "markdown",
   "metadata": {},
   "source": [
    "### Most Predictive Features According to the Best ML Model"
   ]
  },
  {
   "cell_type": "code",
   "execution_count": 58,
   "metadata": {},
   "outputs": [
    {
     "data": {
      "image/png": "[encoded data removed]",
      "text/plain": [
       "<Figure size 576x1008 with 1 Axes>"
      ]
     },
     "metadata": {},
     "output_type": "display_data"
    }
   ],
   "source": [
    "# GBM can be used for feature importances\n",
    "filepath = f'results/gbm_{scaler}_feature_importances.sav'\n",
    "feature_importances = pickle.load(open(filepath, 'rb')).flatten()\n",
    "\n",
    "plt.figure(figsize=(8, 14))\n",
    "y = feature_importances\n",
    "inds = np.argsort(y)\n",
    "y = y[inds]\n",
    "x = feature_cols[inds]\n",
    "plt.barh(x, y)\n",
    "plt.margins(0.02)"
   ]
  },
  {
   "cell_type": "markdown",
   "metadata": {},
   "source": [
    "## Using Only Top 30 features"
   ]
  },
  {
   "cell_type": "code",
   "execution_count": 59,
   "metadata": {},
   "outputs": [],
   "source": [
    "models_results_b = {\"features\":[], \"model\":[], \"params\":[], \"valid_acc\":[]}"
   ]
  },
  {
   "cell_type": "code",
   "execution_count": 60,
   "metadata": {},
   "outputs": [
    {
     "data": {
      "text/plain": [
       "['trip_len',\n",
       " 'acceleration_z_std',\n",
       " 'Speed_skew',\n",
       " 'Speed_mean',\n",
       " 'Bearing_std',\n",
       " 'Speed_ptp',\n",
       " 'gyro_y_ptp',\n",
       " 'gyro_y_amax',\n",
       " 'acceleration_x_ptp',\n",
       " 'Speed_dominant_f',\n",
       " 'Accuracy_skew',\n",
       " 'gyro_x_max_power',\n",
       " 'gyro_z_std',\n",
       " 'Speed_amax',\n",
       " 'Accuracy_mean',\n",
       " 'gyro_y_kurtosis',\n",
       " 'acceleration_x_amax',\n",
       " 'acceleration_y_dominant_f',\n",
       " 'acceleration_y_std',\n",
       " 'Accuracy_ptp',\n",
       " 'gyro_x_kurtosis',\n",
       " 'acceleration_z_skew',\n",
       " 'Accuracy_amax',\n",
       " 'acceleration_z_ptp',\n",
       " 'gyro_z_kurtosis',\n",
       " 'acceleration_y_mean',\n",
       " 'acceleration_y_ptp',\n",
       " 'gyro_x_ptp',\n",
       " 'gyro_y_mean',\n",
       " 'gyro_x_std']"
      ]
     },
     "execution_count": 60,
     "metadata": {},
     "output_type": "execute_result"
    }
   ],
   "source": [
    "# feats from most important down\n",
    "top_feats = list(x[::-1][:30])\n",
    "top_feats"
   ]
  },
  {
   "cell_type": "code",
   "execution_count": 61,
   "metadata": {},
   "outputs": [
    {
     "data": {
      "text/plain": [
       "(9474, 30)"
      ]
     },
     "execution_count": 61,
     "metadata": {},
     "output_type": "execute_result"
    }
   ],
   "source": [
    "X_train_b = X_train[top_feats]\n",
    "X_train_b.shape"
   ]
  },
  {
   "cell_type": "markdown",
   "metadata": {},
   "source": [
    "### Linear SVC L1"
   ]
  },
  {
   "cell_type": "code",
   "execution_count": 62,
   "metadata": {},
   "outputs": [
    {
     "name": "stdout",
     "output_type": "stream",
     "text": [
      "Best validation accuracy: 0.6244458518049398\n",
      "Best parameters: {'C': 10, 'dual': False, 'penalty': 'l1'}\n"
     ]
    }
   ],
   "source": [
    "param_path = f\"results/linear_svc_l1_{scaler}_best_params.sav\"\n",
    "best_params = pickle.load(open(param_path, 'rb'))\n",
    "param_grid = {k:[v] for k, v in best_params.items()}\n",
    "\n",
    "clf = LinearSVC()\n",
    "lsvcl1 = GridSearchCV(clf, param_grid = param_grid, return_train_score=True, cv=3, n_jobs=n_jobs)\n",
    "\n",
    "model = lsvcl1\n",
    "model_name = 'linear_svc_l1_b'\n",
    "\n",
    "model.fit(X_train_b, y_train)\n",
    "\n",
    "# calculate results\n",
    "results = pd.DataFrame(model.cv_results_)\n",
    "valid_score = results.mean_test_score.values[0] \n",
    "\n",
    "# saving to dictionary of models and results\n",
    "models_results_b[\"features\"] += [top_feats]\n",
    "models_results_b[\"model\"] += [model_name]\n",
    "models_results_b[\"params\"] += [model.best_params_]\n",
    "models_results_b[\"valid_acc\"] += [model.best_score_]\n",
    "            \n",
    "model.fit(X_train_b, y_train)\n",
    "\n",
    "# save the model to disk\n",
    "filename = f'models/{model_name}_{scaler}.sav'\n",
    "pickle.dump(model, open(filename, 'wb'))\n",
    "\n",
    "# print accuracies and parameters\n",
    "print(\"Best validation accuracy:\", model.best_score_)\n",
    "print(\"Best parameters:\", model.best_params_)"
   ]
  },
  {
   "cell_type": "markdown",
   "metadata": {},
   "source": [
    "### Linear SVC L2"
   ]
  },
  {
   "cell_type": "code",
   "execution_count": 63,
   "metadata": {},
   "outputs": [
    {
     "name": "stdout",
     "output_type": "stream",
     "text": [
      "Best validation accuracy: 0.6306734219970446\n",
      "Best parameters: {'C': 0.75, 'loss': 'hinge', 'penalty': 'l2'}\n"
     ]
    }
   ],
   "source": [
    "param_path = f\"results/linear_svc_l2_{scaler}_best_params.sav\"\n",
    "best_params = pickle.load(open(param_path, 'rb'))\n",
    "param_grid = {k:[v] for k, v in best_params.items()}\n",
    "\n",
    "clf = LinearSVC()\n",
    "lsvcl2 = GridSearchCV(clf, param_grid = param_grid, return_train_score=True, cv=3, n_jobs=n_jobs)\n",
    "\n",
    "model = lsvcl2\n",
    "model_name = 'linear_svc_l2_b'\n",
    "\n",
    "model.fit(X_train_b, y_train)\n",
    "\n",
    "# calculate results\n",
    "results = pd.DataFrame(model.cv_results_)\n",
    "valid_score = results.mean_test_score.values[0] \n",
    "\n",
    "# saving to dictionary of models and results\n",
    "models_results_b[\"features\"] += [top_feats]\n",
    "models_results_b[\"model\"] += [model_name]\n",
    "models_results_b[\"params\"] += [model.best_params_]\n",
    "models_results_b[\"valid_acc\"] += [model.best_score_]\n",
    "            \n",
    "model.fit(X_train_b, y_train)\n",
    "\n",
    "# save the model to disk\n",
    "filename = f'models/{model_name}_{scaler}.sav'\n",
    "pickle.dump(model, open(filename, 'wb'))\n",
    "\n",
    "# print accuracies and parameters\n",
    "print(\"Best validation accuracy:\", model.best_score_)\n",
    "print(\"Best parameters:\", model.best_params_)"
   ]
  },
  {
   "cell_type": "markdown",
   "metadata": {},
   "source": [
    "### Nonlinear SVC"
   ]
  },
  {
   "cell_type": "code",
   "execution_count": 64,
   "metadata": {},
   "outputs": [
    {
     "name": "stdout",
     "output_type": "stream",
     "text": [
      "Best validation accuracy: 0.6325733586658222\n",
      "Best parameters: {'C': 1000}\n"
     ]
    }
   ],
   "source": [
    "param_path = f\"results/svc_{scaler}_best_params.sav\"\n",
    "best_params = pickle.load(open(param_path, 'rb'))\n",
    "param_grid = {k:[v] for k, v in best_params.items()}\n",
    "\n",
    "clf = SVC()\n",
    "svc = GridSearchCV(clf, param_grid = param_grid, return_train_score=True, cv=3, n_jobs=n_jobs)\n",
    "\n",
    "model = svc\n",
    "model_name = 'svc_b'\n",
    "\n",
    "model.fit(X_train_b, y_train)\n",
    "\n",
    "# calculate results\n",
    "results = pd.DataFrame(model.cv_results_)\n",
    "valid_score = results.mean_test_score.values[0] \n",
    "\n",
    "# saving to dictionary of models and results\n",
    "models_results_b[\"features\"] += [top_feats]\n",
    "models_results_b[\"model\"] += [model_name]\n",
    "models_results_b[\"params\"] += [model.best_params_]\n",
    "models_results_b[\"valid_acc\"] += [model.best_score_]\n",
    "            \n",
    "model.fit(X_train_b, y_train)\n",
    "\n",
    "# save the model to disk\n",
    "filename = f'models/{model_name}_{scaler}.sav'\n",
    "pickle.dump(model, open(filename, 'wb'))\n",
    "\n",
    "# print accuracies and parameters\n",
    "print(\"Best validation accuracy:\", model.best_score_)\n",
    "print(\"Best parameters:\", model.best_params_)"
   ]
  },
  {
   "cell_type": "markdown",
   "metadata": {},
   "source": [
    "### GBM"
   ]
  },
  {
   "cell_type": "code",
   "execution_count": 65,
   "metadata": {},
   "outputs": [
    {
     "name": "stdout",
     "output_type": "stream",
     "text": [
      "Best validation accuracy: 0.6293012455140384\n",
      "Best parameters: {'learning_rate': 0.01, 'max_depth': 3, 'n_estimators': 500}\n"
     ]
    }
   ],
   "source": [
    "param_path = f\"results/gbm_{scaler}_best_params.sav\"\n",
    "best_params = pickle.load(open(param_path, 'rb'))\n",
    "param_grid = {k:[v] for k, v in best_params.items()}\n",
    "\n",
    "clf = GradientBoostingClassifier()\n",
    "gbm_b = GridSearchCV(clf, param_grid = param_grid, return_train_score=True, cv=3, n_jobs=n_jobs)\n",
    "\n",
    "\n",
    "model = gbm_b\n",
    "model_name = 'gbm_b'\n",
    "\n",
    "model.fit(X_train_b, y_train)\n",
    "\n",
    "# calculate results\n",
    "results = pd.DataFrame(model.cv_results_)\n",
    "valid_score = results.mean_test_score.values[0] \n",
    "\n",
    "# saving to dictionary of models and results\n",
    "models_results_b[\"features\"] += [top_feats]\n",
    "models_results_b[\"model\"] += [model_name]\n",
    "models_results_b[\"params\"] += [model.best_params_]\n",
    "models_results_b[\"valid_acc\"] += [model.best_score_]\n",
    "            \n",
    "model.fit(X_train_b, y_train)\n",
    "\n",
    "# save the model to disk\n",
    "filename = f'models/{model_name}_{scaler}.sav'\n",
    "pickle.dump(model, open(filename, 'wb'))\n",
    "\n",
    "# print accuracies and parameters\n",
    "print(\"Best validation accuracy:\", model.best_score_)\n",
    "print(\"Best parameters:\", model.best_params_)"
   ]
  },
  {
   "cell_type": "code",
   "execution_count": 67,
   "metadata": {},
   "outputs": [
    {
     "data": {
      "text/html": [
       "<div>\n",
       "<style scoped>\n",
       "    .dataframe tbody tr th:only-of-type {\n",
       "        vertical-align: middle;\n",
       "    }\n",
       "\n",
       "    .dataframe tbody tr th {\n",
       "        vertical-align: top;\n",
       "    }\n",
       "\n",
       "    .dataframe thead th {\n",
       "        text-align: right;\n",
       "    }\n",
       "</style>\n",
       "<table border=\"1\" class=\"dataframe\">\n",
       "  <thead>\n",
       "    <tr style=\"text-align: right;\">\n",
       "      <th></th>\n",
       "      <th>features</th>\n",
       "      <th>model</th>\n",
       "      <th>params</th>\n",
       "      <th>valid_acc</th>\n",
       "    </tr>\n",
       "  </thead>\n",
       "  <tbody>\n",
       "    <tr>\n",
       "      <th>2</th>\n",
       "      <td>[trip_len, acceleration_z_std, Speed_skew, Speed_mean, Bearing_std, Speed_ptp, gyro_y_ptp, gyro_y_amax, acceleration_x_ptp, Speed_dominant_f, Accuracy_skew, gyro_x_max_power, gyro_z_std, Speed_amax, Accuracy_mean, gyro_y_kurtosis, acceleration_x_amax, acceleration_y_dominant_f, acceleration_y_std, Accuracy_ptp, gyro_x_kurtosis, acceleration_z_skew, Accuracy_amax, acceleration_z_ptp, gyro_z_kurtosis, acceleration_y_mean, acceleration_y_ptp, gyro_x_ptp, gyro_y_mean, gyro_x_std]</td>\n",
       "      <td>svc_b</td>\n",
       "      <td>{'C': 1000}</td>\n",
       "      <td>0.632573</td>\n",
       "    </tr>\n",
       "    <tr>\n",
       "      <th>1</th>\n",
       "      <td>[trip_len, acceleration_z_std, Speed_skew, Speed_mean, Bearing_std, Speed_ptp, gyro_y_ptp, gyro_y_amax, acceleration_x_ptp, Speed_dominant_f, Accuracy_skew, gyro_x_max_power, gyro_z_std, Speed_amax, Accuracy_mean, gyro_y_kurtosis, acceleration_x_amax, acceleration_y_dominant_f, acceleration_y_std, Accuracy_ptp, gyro_x_kurtosis, acceleration_z_skew, Accuracy_amax, acceleration_z_ptp, gyro_z_kurtosis, acceleration_y_mean, acceleration_y_ptp, gyro_x_ptp, gyro_y_mean, gyro_x_std]</td>\n",
       "      <td>linear_svc_l2_b</td>\n",
       "      <td>{'C': 0.75, 'loss': 'hinge', 'penalty': 'l2'}</td>\n",
       "      <td>0.630779</td>\n",
       "    </tr>\n",
       "    <tr>\n",
       "      <th>3</th>\n",
       "      <td>[trip_len, acceleration_z_std, Speed_skew, Speed_mean, Bearing_std, Speed_ptp, gyro_y_ptp, gyro_y_amax, acceleration_x_ptp, Speed_dominant_f, Accuracy_skew, gyro_x_max_power, gyro_z_std, Speed_amax, Accuracy_mean, gyro_y_kurtosis, acceleration_x_amax, acceleration_y_dominant_f, acceleration_y_std, Accuracy_ptp, gyro_x_kurtosis, acceleration_z_skew, Accuracy_amax, acceleration_z_ptp, gyro_z_kurtosis, acceleration_y_mean, acceleration_y_ptp, gyro_x_ptp, gyro_y_mean, gyro_x_std]</td>\n",
       "      <td>gbm_b</td>\n",
       "      <td>{'learning_rate': 0.01, 'max_depth': 3, 'n_estimators': 500}</td>\n",
       "      <td>0.629301</td>\n",
       "    </tr>\n",
       "    <tr>\n",
       "      <th>0</th>\n",
       "      <td>[trip_len, acceleration_z_std, Speed_skew, Speed_mean, Bearing_std, Speed_ptp, gyro_y_ptp, gyro_y_amax, acceleration_x_ptp, Speed_dominant_f, Accuracy_skew, gyro_x_max_power, gyro_z_std, Speed_amax, Accuracy_mean, gyro_y_kurtosis, acceleration_x_amax, acceleration_y_dominant_f, acceleration_y_std, Accuracy_ptp, gyro_x_kurtosis, acceleration_z_skew, Accuracy_amax, acceleration_z_ptp, gyro_z_kurtosis, acceleration_y_mean, acceleration_y_ptp, gyro_x_ptp, gyro_y_mean, gyro_x_std]</td>\n",
       "      <td>linear_svc_l1_b</td>\n",
       "      <td>{'C': 10, 'dual': False, 'penalty': 'l1'}</td>\n",
       "      <td>0.623813</td>\n",
       "    </tr>\n",
       "  </tbody>\n",
       "</table>\n",
       "</div>"
      ],
      "text/plain": [
       "                                                                                                                                                                                                                                                                                                                                                                                                                                                                                           features  \\\n",
       "2  [trip_len, acceleration_z_std, Speed_skew, Speed_mean, Bearing_std, Speed_ptp, gyro_y_ptp, gyro_y_amax, acceleration_x_ptp, Speed_dominant_f, Accuracy_skew, gyro_x_max_power, gyro_z_std, Speed_amax, Accuracy_mean, gyro_y_kurtosis, acceleration_x_amax, acceleration_y_dominant_f, acceleration_y_std, Accuracy_ptp, gyro_x_kurtosis, acceleration_z_skew, Accuracy_amax, acceleration_z_ptp, gyro_z_kurtosis, acceleration_y_mean, acceleration_y_ptp, gyro_x_ptp, gyro_y_mean, gyro_x_std]   \n",
       "1  [trip_len, acceleration_z_std, Speed_skew, Speed_mean, Bearing_std, Speed_ptp, gyro_y_ptp, gyro_y_amax, acceleration_x_ptp, Speed_dominant_f, Accuracy_skew, gyro_x_max_power, gyro_z_std, Speed_amax, Accuracy_mean, gyro_y_kurtosis, acceleration_x_amax, acceleration_y_dominant_f, acceleration_y_std, Accuracy_ptp, gyro_x_kurtosis, acceleration_z_skew, Accuracy_amax, acceleration_z_ptp, gyro_z_kurtosis, acceleration_y_mean, acceleration_y_ptp, gyro_x_ptp, gyro_y_mean, gyro_x_std]   \n",
       "3  [trip_len, acceleration_z_std, Speed_skew, Speed_mean, Bearing_std, Speed_ptp, gyro_y_ptp, gyro_y_amax, acceleration_x_ptp, Speed_dominant_f, Accuracy_skew, gyro_x_max_power, gyro_z_std, Speed_amax, Accuracy_mean, gyro_y_kurtosis, acceleration_x_amax, acceleration_y_dominant_f, acceleration_y_std, Accuracy_ptp, gyro_x_kurtosis, acceleration_z_skew, Accuracy_amax, acceleration_z_ptp, gyro_z_kurtosis, acceleration_y_mean, acceleration_y_ptp, gyro_x_ptp, gyro_y_mean, gyro_x_std]   \n",
       "0  [trip_len, acceleration_z_std, Speed_skew, Speed_mean, Bearing_std, Speed_ptp, gyro_y_ptp, gyro_y_amax, acceleration_x_ptp, Speed_dominant_f, Accuracy_skew, gyro_x_max_power, gyro_z_std, Speed_amax, Accuracy_mean, gyro_y_kurtosis, acceleration_x_amax, acceleration_y_dominant_f, acceleration_y_std, Accuracy_ptp, gyro_x_kurtosis, acceleration_z_skew, Accuracy_amax, acceleration_z_ptp, gyro_z_kurtosis, acceleration_y_mean, acceleration_y_ptp, gyro_x_ptp, gyro_y_mean, gyro_x_std]   \n",
       "\n",
       "             model  \\\n",
       "2  svc_b             \n",
       "1  linear_svc_l2_b   \n",
       "3  gbm_b             \n",
       "0  linear_svc_l1_b   \n",
       "\n",
       "                                                         params  valid_acc  \n",
       "2  {'C': 1000}                                                   0.632573   \n",
       "1  {'C': 0.75, 'loss': 'hinge', 'penalty': 'l2'}                 0.630779   \n",
       "3  {'learning_rate': 0.01, 'max_depth': 3, 'n_estimators': 500}  0.629301   \n",
       "0  {'C': 10, 'dual': False, 'penalty': 'l1'}                     0.623813   "
      ]
     },
     "execution_count": 67,
     "metadata": {},
     "output_type": "execute_result"
    }
   ],
   "source": [
    "results = pd.DataFrame(models_results_b).sort_values(by=\"valid_acc\", ascending=False)\n",
    "results.drop_duplicates(subset=\"valid_acc\", inplace=True)\n",
    "results"
   ]
  },
  {
   "cell_type": "code",
   "execution_count": 68,
   "metadata": {},
   "outputs": [],
   "source": [
    "# save to csv\n",
    "results.to_csv(f\"results/ml_results_b_{scaler}.csv\", index=False)"
   ]
  },
  {
   "cell_type": "code",
   "execution_count": 70,
   "metadata": {},
   "outputs": [
    {
     "data": {
      "text/html": [
       "<div>\n",
       "<style scoped>\n",
       "    .dataframe tbody tr th:only-of-type {\n",
       "        vertical-align: middle;\n",
       "    }\n",
       "\n",
       "    .dataframe tbody tr th {\n",
       "        vertical-align: top;\n",
       "    }\n",
       "\n",
       "    .dataframe thead th {\n",
       "        text-align: right;\n",
       "    }\n",
       "</style>\n",
       "<table border=\"1\" class=\"dataframe\">\n",
       "  <thead>\n",
       "    <tr style=\"text-align: right;\">\n",
       "      <th></th>\n",
       "      <th>features</th>\n",
       "      <th>model</th>\n",
       "      <th>params</th>\n",
       "      <th>valid_acc</th>\n",
       "    </tr>\n",
       "  </thead>\n",
       "  <tbody>\n",
       "    <tr>\n",
       "      <th>0</th>\n",
       "      <td>['trip_len', 'acceleration_z_std', 'Speed_skew', 'Speed_mean', 'Bearing_std', 'Speed_ptp', 'gyro_y_ptp', 'gyro_y_amax', 'acceleration_x_ptp', 'Speed_dominant_f', 'Accuracy_skew', 'gyro_x_max_power', 'gyro_z_std', 'Speed_amax', 'Accuracy_mean', 'gyro_y_kurtosis', 'acceleration_x_amax', 'acceleration_y_dominant_f', 'acceleration_y_std', 'Accuracy_ptp', 'gyro_x_kurtosis', 'acceleration_z_skew', 'Accuracy_amax', 'acceleration_z_ptp', 'gyro_z_kurtosis', 'acceleration_y_mean', 'acceleration_y_ptp', 'gyro_x_ptp', 'gyro_y_mean', 'gyro_x_std']</td>\n",
       "      <td>svc_b</td>\n",
       "      <td>{'C': 1000}</td>\n",
       "      <td>0.632573</td>\n",
       "    </tr>\n",
       "    <tr>\n",
       "      <th>1</th>\n",
       "      <td>['trip_len', 'acceleration_z_std', 'Speed_skew', 'Speed_mean', 'Bearing_std', 'Speed_ptp', 'gyro_y_ptp', 'gyro_y_amax', 'acceleration_x_ptp', 'Speed_dominant_f', 'Accuracy_skew', 'gyro_x_max_power', 'gyro_z_std', 'Speed_amax', 'Accuracy_mean', 'gyro_y_kurtosis', 'acceleration_x_amax', 'acceleration_y_dominant_f', 'acceleration_y_std', 'Accuracy_ptp', 'gyro_x_kurtosis', 'acceleration_z_skew', 'Accuracy_amax', 'acceleration_z_ptp', 'gyro_z_kurtosis', 'acceleration_y_mean', 'acceleration_y_ptp', 'gyro_x_ptp', 'gyro_y_mean', 'gyro_x_std']</td>\n",
       "      <td>linear_svc_l2_b</td>\n",
       "      <td>{'C': 0.75, 'loss': 'hinge', 'penalty': 'l2'}</td>\n",
       "      <td>0.630779</td>\n",
       "    </tr>\n",
       "    <tr>\n",
       "      <th>2</th>\n",
       "      <td>['trip_len', 'acceleration_z_std', 'Speed_skew', 'Speed_mean', 'Bearing_std', 'Speed_ptp', 'gyro_y_ptp', 'gyro_y_amax', 'acceleration_x_ptp', 'Speed_dominant_f', 'Accuracy_skew', 'gyro_x_max_power', 'gyro_z_std', 'Speed_amax', 'Accuracy_mean', 'gyro_y_kurtosis', 'acceleration_x_amax', 'acceleration_y_dominant_f', 'acceleration_y_std', 'Accuracy_ptp', 'gyro_x_kurtosis', 'acceleration_z_skew', 'Accuracy_amax', 'acceleration_z_ptp', 'gyro_z_kurtosis', 'acceleration_y_mean', 'acceleration_y_ptp', 'gyro_x_ptp', 'gyro_y_mean', 'gyro_x_std']</td>\n",
       "      <td>gbm_b</td>\n",
       "      <td>{'learning_rate': 0.01, 'max_depth': 3, 'n_estimators': 500}</td>\n",
       "      <td>0.629301</td>\n",
       "    </tr>\n",
       "    <tr>\n",
       "      <th>3</th>\n",
       "      <td>['trip_len', 'acceleration_z_std', 'Speed_skew', 'Speed_mean', 'Bearing_std', 'Speed_ptp', 'gyro_y_ptp', 'gyro_y_amax', 'acceleration_x_ptp', 'Speed_dominant_f', 'Accuracy_skew', 'gyro_x_max_power', 'gyro_z_std', 'Speed_amax', 'Accuracy_mean', 'gyro_y_kurtosis', 'acceleration_x_amax', 'acceleration_y_dominant_f', 'acceleration_y_std', 'Accuracy_ptp', 'gyro_x_kurtosis', 'acceleration_z_skew', 'Accuracy_amax', 'acceleration_z_ptp', 'gyro_z_kurtosis', 'acceleration_y_mean', 'acceleration_y_ptp', 'gyro_x_ptp', 'gyro_y_mean', 'gyro_x_std']</td>\n",
       "      <td>linear_svc_l1_b</td>\n",
       "      <td>{'C': 10, 'dual': False, 'penalty': 'l1'}</td>\n",
       "      <td>0.623813</td>\n",
       "    </tr>\n",
       "  </tbody>\n",
       "</table>\n",
       "</div>"
      ],
      "text/plain": [
       "                                                                                                                                                                                                                                                                                                                                                                                                                                                                                                                                                       features  \\\n",
       "0  ['trip_len', 'acceleration_z_std', 'Speed_skew', 'Speed_mean', 'Bearing_std', 'Speed_ptp', 'gyro_y_ptp', 'gyro_y_amax', 'acceleration_x_ptp', 'Speed_dominant_f', 'Accuracy_skew', 'gyro_x_max_power', 'gyro_z_std', 'Speed_amax', 'Accuracy_mean', 'gyro_y_kurtosis', 'acceleration_x_amax', 'acceleration_y_dominant_f', 'acceleration_y_std', 'Accuracy_ptp', 'gyro_x_kurtosis', 'acceleration_z_skew', 'Accuracy_amax', 'acceleration_z_ptp', 'gyro_z_kurtosis', 'acceleration_y_mean', 'acceleration_y_ptp', 'gyro_x_ptp', 'gyro_y_mean', 'gyro_x_std']   \n",
       "1  ['trip_len', 'acceleration_z_std', 'Speed_skew', 'Speed_mean', 'Bearing_std', 'Speed_ptp', 'gyro_y_ptp', 'gyro_y_amax', 'acceleration_x_ptp', 'Speed_dominant_f', 'Accuracy_skew', 'gyro_x_max_power', 'gyro_z_std', 'Speed_amax', 'Accuracy_mean', 'gyro_y_kurtosis', 'acceleration_x_amax', 'acceleration_y_dominant_f', 'acceleration_y_std', 'Accuracy_ptp', 'gyro_x_kurtosis', 'acceleration_z_skew', 'Accuracy_amax', 'acceleration_z_ptp', 'gyro_z_kurtosis', 'acceleration_y_mean', 'acceleration_y_ptp', 'gyro_x_ptp', 'gyro_y_mean', 'gyro_x_std']   \n",
       "2  ['trip_len', 'acceleration_z_std', 'Speed_skew', 'Speed_mean', 'Bearing_std', 'Speed_ptp', 'gyro_y_ptp', 'gyro_y_amax', 'acceleration_x_ptp', 'Speed_dominant_f', 'Accuracy_skew', 'gyro_x_max_power', 'gyro_z_std', 'Speed_amax', 'Accuracy_mean', 'gyro_y_kurtosis', 'acceleration_x_amax', 'acceleration_y_dominant_f', 'acceleration_y_std', 'Accuracy_ptp', 'gyro_x_kurtosis', 'acceleration_z_skew', 'Accuracy_amax', 'acceleration_z_ptp', 'gyro_z_kurtosis', 'acceleration_y_mean', 'acceleration_y_ptp', 'gyro_x_ptp', 'gyro_y_mean', 'gyro_x_std']   \n",
       "3  ['trip_len', 'acceleration_z_std', 'Speed_skew', 'Speed_mean', 'Bearing_std', 'Speed_ptp', 'gyro_y_ptp', 'gyro_y_amax', 'acceleration_x_ptp', 'Speed_dominant_f', 'Accuracy_skew', 'gyro_x_max_power', 'gyro_z_std', 'Speed_amax', 'Accuracy_mean', 'gyro_y_kurtosis', 'acceleration_x_amax', 'acceleration_y_dominant_f', 'acceleration_y_std', 'Accuracy_ptp', 'gyro_x_kurtosis', 'acceleration_z_skew', 'Accuracy_amax', 'acceleration_z_ptp', 'gyro_z_kurtosis', 'acceleration_y_mean', 'acceleration_y_ptp', 'gyro_x_ptp', 'gyro_y_mean', 'gyro_x_std']   \n",
       "\n",
       "             model  \\\n",
       "0  svc_b             \n",
       "1  linear_svc_l2_b   \n",
       "2  gbm_b             \n",
       "3  linear_svc_l1_b   \n",
       "\n",
       "                                                         params  valid_acc  \n",
       "0  {'C': 1000}                                                   0.632573   \n",
       "1  {'C': 0.75, 'loss': 'hinge', 'penalty': 'l2'}                 0.630779   \n",
       "2  {'learning_rate': 0.01, 'max_depth': 3, 'n_estimators': 500}  0.629301   \n",
       "3  {'C': 10, 'dual': False, 'penalty': 'l1'}                     0.623813   "
      ]
     },
     "execution_count": 70,
     "metadata": {},
     "output_type": "execute_result"
    }
   ],
   "source": [
    "# results from standard scaler\n",
    "pd.set_option('display.max_colwidth', -1)\n",
    "pd.read_csv(f\"results/ml_results_b_{scaler}.csv\").drop_duplicates(subset=\"model\")"
   ]
  },
  {
   "cell_type": "markdown",
   "metadata": {},
   "source": [
    "## Incremental Adding of Features from Most Predictive"
   ]
  },
  {
   "cell_type": "code",
   "execution_count": 71,
   "metadata": {},
   "outputs": [],
   "source": [
    "models_results_c = {\"features\":[], \"model\":[], \"params\":[], \"valid_acc\":[]}\n",
    "# feats from most important down\n",
    "top_feats = list(x[::-1])"
   ]
  },
  {
   "cell_type": "markdown",
   "metadata": {},
   "source": [
    "### Nonlinear SVC"
   ]
  },
  {
   "cell_type": "code",
   "execution_count": 72,
   "metadata": {},
   "outputs": [
    {
     "name": "stdout",
     "output_type": "stream",
     "text": [
      "Best validation accuracy: 0.5881359510238547\n",
      "Best validation accuracy: 0.608507494194638\n",
      "Best validation accuracy: 0.6205404264302301\n",
      "Best validation accuracy: 0.625818028287946\n",
      "Best validation accuracy: 0.6264513405108718\n",
      "Best validation accuracy: 0.6274013088452607\n",
      "Best validation accuracy: 0.6287734853282668\n",
      "Best validation accuracy: 0.6293012455140384\n",
      "Best validation accuracy: 0.630145661811273\n",
      "Best validation accuracy: 0.6306734219970446\n",
      "Best validation accuracy: 0.6307789740341989\n",
      "Best validation accuracy: 0.6308845260713531\n",
      "Best validation accuracy: 0.6345788473717543\n",
      "Best validation accuracy: 0.6346843994089086\n",
      "['trip_len', 'acceleration_z_std', 'Speed_skew', 'Speed_ptp', 'gyro_y_ptp', 'Speed_dominant_f', 'Accuracy_skew', 'gyro_x_max_power', 'Speed_amax', 'Accuracy_ptp', 'acceleration_y_mean', 'acceleration_y_max_power', 'Speed_std', 'gyro_z_ptp']\n"
     ]
    }
   ],
   "source": [
    "param_path = f\"results/svc_{scaler}_best_params.sav\"\n",
    "best_params = pickle.load(open(param_path, 'rb'))\n",
    "param_grid = {k:[v] for k, v in best_params.items()}\n",
    "\n",
    "clf = SVC()\n",
    "svc_c = GridSearchCV(clf, param_grid = param_grid, return_train_score=True, cv=3, n_jobs=n_jobs)\n",
    "\n",
    "valid_accs = []\n",
    "feats_c = []\n",
    "best_score = 0\n",
    "\n",
    "model = svc_c\n",
    "model_name = 'svc_c'\n",
    "\n",
    "# checking features one by one\n",
    "for i in range(len(top_feats)):\n",
    "    feats_c += [top_feats[i]]\n",
    "    X_train_c = X_train[feats_c]\n",
    "\n",
    "    model.fit(X_train_c, y_train)\n",
    "\n",
    "    # calculate results\n",
    "    results = pd.DataFrame(model.cv_results_)\n",
    "    valid_score = results.mean_test_score.values[0]\n",
    "\n",
    "    if valid_score > best_score:\n",
    "        best_score = valid_score\n",
    "        valid_accs.append(valid_score)\n",
    "\n",
    "        # print accuracies and parameters\n",
    "        print(\"Best validation accuracy:\", best_score)\n",
    "        \n",
    "    else:\n",
    "        feats_c = feats_c[:-1]\n",
    "\n",
    "models_results_c[\"features\"] += [feats_c]\n",
    "models_results_c[\"model\"] += [model_name]\n",
    "models_results_c[\"params\"] += [model.best_params_]\n",
    "models_results_c[\"valid_acc\"] += [best_score] \n",
    "            \n",
    "X_train_c = X_train[feats_c]\n",
    "model.fit(X_train_c, y_train)\n",
    "print(feats_c)\n",
    "\n",
    "# save the model to disk\n",
    "filename = f'models/{model_name}_{scaler}.sav'\n",
    "pickle.dump(model, open(filename, 'wb'))"
   ]
  },
  {
   "cell_type": "markdown",
   "metadata": {},
   "source": [
    "### Linear SVC L1"
   ]
  },
  {
   "cell_type": "code",
   "execution_count": 73,
   "metadata": {},
   "outputs": [
    {
     "name": "stdout",
     "output_type": "stream",
     "text": [
      "Best validation accuracy: 0.5946801773274224\n",
      "Best validation accuracy: 0.612518471606502\n",
      "Best validation accuracy: 0.6198015621701499\n",
      "Best validation accuracy: 0.6199071142073042\n",
      "Best validation accuracy: 0.621490394764619\n",
      "Best validation accuracy: 0.6223348110618535\n",
      "Best validation accuracy: 0.623179227359088\n",
      "Best validation accuracy: 0.6233903314333966\n",
      "Best validation accuracy: 0.6236014355077053\n",
      "Best validation accuracy: 0.6238125395820139\n",
      "Best validation accuracy: 0.625501372176483\n",
      "Best validation accuracy: 0.6256069242136373\n",
      "Best validation accuracy: 0.6259235803251003\n",
      "Best validation accuracy: 0.6262402364365632\n",
      "Best validation accuracy: 0.6263457884737176\n",
      "Best validation accuracy: 0.6267679966223348\n",
      "Best validation accuracy: 0.6280346210681866\n",
      "['trip_len', 'acceleration_z_std', 'Speed_skew', 'Speed_ptp', 'gyro_y_ptp', 'gyro_y_amax', 'Speed_dominant_f', 'gyro_z_std', 'Bearing_ptp', 'gyro_y_amin', 'Accuracy_std', 'acceleration_y_max_power', 'acceleration_x_max_power', 'acceleration_x_kurtosis', 'acceleration_z_kurtosis', 'acceleration_x_mean', 'gyro_z_ptp']\n"
     ]
    }
   ],
   "source": [
    "param_path = f\"results/linear_svc_l1_{scaler}_best_params.sav\"\n",
    "best_params = pickle.load(open(param_path, 'rb'))\n",
    "param_grid = {k:[v] for k, v in best_params.items()}\n",
    "\n",
    "clf = LinearSVC()\n",
    "lsvcl1_c = GridSearchCV(clf, param_grid = param_grid, return_train_score=True, cv=3, n_jobs=n_jobs)\n",
    "\n",
    "valid_accs = []\n",
    "feats_c = []\n",
    "best_score = 0\n",
    "\n",
    "model = lsvcl1_c\n",
    "model_name = 'linear_svc_l1_c'\n",
    "\n",
    "# checking features one by one\n",
    "for i in range(len(top_feats)):\n",
    "    feats_c += [top_feats[i]]\n",
    "    X_train_c = X_train[feats_c]\n",
    "\n",
    "    model.fit(X_train_c, y_train)\n",
    "\n",
    "    # calculate results\n",
    "    results = pd.DataFrame(model.cv_results_)\n",
    "    valid_score = results.mean_test_score.values[0]\n",
    "\n",
    "    if valid_score > best_score:\n",
    "        best_score = valid_score\n",
    "        valid_accs.append(valid_score)\n",
    "\n",
    "        # print accuracies and parameters\n",
    "        print(\"Best validation accuracy:\", best_score)\n",
    "        \n",
    "    else:\n",
    "        feats_c = feats_c[:-1]\n",
    "\n",
    "models_results_c[\"features\"] += [feats_c]\n",
    "models_results_c[\"model\"] += [model_name]\n",
    "models_results_c[\"params\"] += [model.best_params_]\n",
    "models_results_c[\"valid_acc\"] += [best_score] \n",
    "            \n",
    "X_train_c = X_train[feats_c]\n",
    "model.fit(X_train_c, y_train)\n",
    "print(feats_c)\n",
    "\n",
    "# save the model to disk\n",
    "filename = f'models/{model_name}_{scaler}.sav'\n",
    "pickle.dump(model, open(filename, 'wb'))"
   ]
  },
  {
   "cell_type": "markdown",
   "metadata": {},
   "source": [
    "### Linear SVC L2"
   ]
  },
  {
   "cell_type": "code",
   "execution_count": 74,
   "metadata": {},
   "outputs": [
    {
     "name": "stdout",
     "output_type": "stream",
     "text": [
      "Best validation accuracy: 0.5960523538104285\n",
      "Best validation accuracy: 0.6134684399408908\n",
      "Best validation accuracy: 0.6202237703187672\n",
      "Best validation accuracy: 0.6220181549503906\n",
      "Best validation accuracy: 0.6226514671733164\n",
      "Best validation accuracy: 0.6228625712476251\n",
      "Best validation accuracy: 0.6236014355077053\n",
      "Best validation accuracy: 0.6238125395820139\n",
      "['trip_len', 'acceleration_z_std', 'Speed_skew', 'acceleration_x_ptp', 'Speed_dominant_f', 'Speed_amax', 'gyro_y_kurtosis', 'Accuracy_ptp']\n"
     ]
    }
   ],
   "source": [
    "param_path = f\"results/linear_svc_l2_{scaler}_best_params.sav\"\n",
    "best_params = pickle.load(open(param_path, 'rb'))\n",
    "param_grid = {k:[v] for k, v in best_params.items()}\n",
    "\n",
    "clf = LinearSVC()\n",
    "lsvcl2_c = GridSearchCV(clf, param_grid = param_grid, return_train_score=True, cv=3, n_jobs=n_jobs)\n",
    "\n",
    "valid_accs = []\n",
    "feats_c = []\n",
    "best_score = 0\n",
    "\n",
    "model = lsvcl2_c\n",
    "model_name = 'linear_svc_l2_c'\n",
    "\n",
    "# checking features one by one\n",
    "for i in range(len(top_feats)):\n",
    "    feats_c += [top_feats[i]]\n",
    "    X_train_c = X_train[feats_c]\n",
    "\n",
    "    model.fit(X_train_c, y_train)\n",
    "\n",
    "    # calculate results\n",
    "    results = pd.DataFrame(model.cv_results_)\n",
    "    valid_score = results.mean_test_score.values[0]\n",
    "\n",
    "    if valid_score > best_score:\n",
    "        best_score = valid_score\n",
    "        valid_accs.append(valid_score)\n",
    "\n",
    "        # print accuracies and parameters\n",
    "        print(\"Best validation accuracy:\", best_score)\n",
    "        \n",
    "    else:\n",
    "        feats_c = feats_c[:-1]\n",
    "\n",
    "models_results_c[\"features\"] += [feats_c]\n",
    "models_results_c[\"model\"] += [model_name]\n",
    "models_results_c[\"params\"] += [model.best_params_]\n",
    "models_results_c[\"valid_acc\"] += [best_score] \n",
    "            \n",
    "X_train_c = X_train[feats_c]\n",
    "model.fit(X_train_c, y_train)\n",
    "print(feats_c)\n",
    "\n",
    "# save the model to disk\n",
    "filename = f'models/{model_name}_{scaler}.sav'\n",
    "pickle.dump(model, open(filename, 'wb'))"
   ]
  },
  {
   "cell_type": "markdown",
   "metadata": {},
   "source": [
    "### GBM"
   ]
  },
  {
   "cell_type": "code",
   "execution_count": 75,
   "metadata": {},
   "outputs": [
    {
     "name": "stdout",
     "output_type": "stream",
     "text": [
      "Best validation accuracy: 0.5901414397297868\n",
      "Best validation accuracy: 0.608190838083175\n",
      "Best validation accuracy: 0.6181127295756809\n",
      "Best validation accuracy: 0.6203293223559214\n",
      "Best validation accuracy: 0.6288790373654212\n",
      "Best validation accuracy: 0.6306734219970446\n",
      "Best validation accuracy: 0.6315178382942791\n",
      "Best validation accuracy: 0.6326789107029765\n",
      "Best validation accuracy: 0.6335233270002111\n",
      "Best validation accuracy: 0.6336288790373654\n",
      "Best validation accuracy: 0.6355288157061432\n",
      "Best validation accuracy: 0.6373232003377666\n",
      "Best validation accuracy: 0.6374287523749208\n",
      "Best validation accuracy: 0.6383787207093097\n",
      "['trip_len', 'acceleration_z_std', 'Speed_skew', 'Speed_mean', 'Speed_ptp', 'gyro_y_amax', 'Accuracy_skew', 'gyro_y_kurtosis', 'Speed_amin', 'Accuracy_dominant_f', 'Bearing_amin', 'gyro_z_dominant_f', 'acceleration_z_amax', 'gyro_z_mean']\n"
     ]
    }
   ],
   "source": [
    "param_path = f\"results/gbm_{scaler}_best_params.sav\"\n",
    "best_params = pickle.load(open(param_path, 'rb'))\n",
    "param_grid = {k:[v] for k, v in best_params.items()}\n",
    "\n",
    "clf = GradientBoostingClassifier()\n",
    "\n",
    "gbm_c = GridSearchCV(clf, param_grid = param_grid, return_train_score=True, cv=3, n_jobs=n_jobs)\n",
    "\n",
    "valid_accs = []\n",
    "feats_c = []\n",
    "best_score = 0\n",
    "\n",
    "model = gbm_c\n",
    "model_name = 'gbm_c'\n",
    "\n",
    "# checking features one by one\n",
    "for i in range(len(top_feats)):\n",
    "    feats_c += [top_feats[i]]\n",
    "    X_train_c = X_train[feats_c]\n",
    "\n",
    "    model.fit(X_train_c, y_train)\n",
    "\n",
    "    # calculate results\n",
    "    results = pd.DataFrame(model.cv_results_)\n",
    "    valid_score = results.mean_test_score.values[0]\n",
    "\n",
    "    if valid_score > best_score:\n",
    "        best_score = valid_score\n",
    "        valid_accs.append(valid_score)\n",
    "\n",
    "        # print accuracies and parameters\n",
    "        print(\"Best validation accuracy:\", best_score)\n",
    "        \n",
    "    else:\n",
    "        feats_c = feats_c[:-1]\n",
    "\n",
    "models_results_c[\"features\"] += [feats_c]\n",
    "models_results_c[\"model\"] += [model_name]\n",
    "models_results_c[\"params\"] += [model.best_params_]\n",
    "models_results_c[\"valid_acc\"] += [best_score] \n",
    "            \n",
    "X_train_c = X_train[feats_c]\n",
    "model.fit(X_train_c, y_train)\n",
    "print(feats_c)\n",
    "\n",
    "# save the model to disk\n",
    "filename = f'models/{model_name}_{scaler}.sav'\n",
    "pickle.dump(model, open(filename, 'wb'))"
   ]
  },
  {
   "cell_type": "code",
   "execution_count": 76,
   "metadata": {},
   "outputs": [
    {
     "data": {
      "text/html": [
       "<div>\n",
       "<style scoped>\n",
       "    .dataframe tbody tr th:only-of-type {\n",
       "        vertical-align: middle;\n",
       "    }\n",
       "\n",
       "    .dataframe tbody tr th {\n",
       "        vertical-align: top;\n",
       "    }\n",
       "\n",
       "    .dataframe thead th {\n",
       "        text-align: right;\n",
       "    }\n",
       "</style>\n",
       "<table border=\"1\" class=\"dataframe\">\n",
       "  <thead>\n",
       "    <tr style=\"text-align: right;\">\n",
       "      <th></th>\n",
       "      <th>model</th>\n",
       "      <th>params</th>\n",
       "      <th>valid_acc</th>\n",
       "    </tr>\n",
       "  </thead>\n",
       "  <tbody>\n",
       "    <tr>\n",
       "      <th>3</th>\n",
       "      <td>gbm_c</td>\n",
       "      <td>{'learning_rate': 0.01, 'max_depth': 3, 'n_estimators': 500}</td>\n",
       "      <td>0.638379</td>\n",
       "    </tr>\n",
       "    <tr>\n",
       "      <th>0</th>\n",
       "      <td>svc_c</td>\n",
       "      <td>{'C': 1000}</td>\n",
       "      <td>0.634684</td>\n",
       "    </tr>\n",
       "    <tr>\n",
       "      <th>1</th>\n",
       "      <td>linear_svc_l1_c</td>\n",
       "      <td>{'C': 10, 'dual': False, 'penalty': 'l1'}</td>\n",
       "      <td>0.628035</td>\n",
       "    </tr>\n",
       "    <tr>\n",
       "      <th>2</th>\n",
       "      <td>linear_svc_l2_c</td>\n",
       "      <td>{'C': 0.75, 'loss': 'hinge', 'penalty': 'l2'}</td>\n",
       "      <td>0.623813</td>\n",
       "    </tr>\n",
       "  </tbody>\n",
       "</table>\n",
       "</div>"
      ],
      "text/plain": [
       "             model  \\\n",
       "3  gbm_c             \n",
       "0  svc_c             \n",
       "1  linear_svc_l1_c   \n",
       "2  linear_svc_l2_c   \n",
       "\n",
       "                                                         params  valid_acc  \n",
       "3  {'learning_rate': 0.01, 'max_depth': 3, 'n_estimators': 500}  0.638379   \n",
       "0  {'C': 1000}                                                   0.634684   \n",
       "1  {'C': 10, 'dual': False, 'penalty': 'l1'}                     0.628035   \n",
       "2  {'C': 0.75, 'loss': 'hinge', 'penalty': 'l2'}                 0.623813   "
      ]
     },
     "execution_count": 76,
     "metadata": {},
     "output_type": "execute_result"
    }
   ],
   "source": [
    "results_c = pd.DataFrame(models_results_c).sort_values(by=\"valid_acc\", ascending=False)\n",
    "results_c.iloc[:, 1:]"
   ]
  },
  {
   "cell_type": "code",
   "execution_count": 77,
   "metadata": {},
   "outputs": [],
   "source": [
    "# save to csv\n",
    "results_c.drop_duplicates(\"model\").to_csv(f\"results/ml_results_c_{scaler}.csv\", index=False)"
   ]
  },
  {
   "cell_type": "code",
   "execution_count": 78,
   "metadata": {},
   "outputs": [
    {
     "data": {
      "text/html": [
       "<div>\n",
       "<style scoped>\n",
       "    .dataframe tbody tr th:only-of-type {\n",
       "        vertical-align: middle;\n",
       "    }\n",
       "\n",
       "    .dataframe tbody tr th {\n",
       "        vertical-align: top;\n",
       "    }\n",
       "\n",
       "    .dataframe thead th {\n",
       "        text-align: right;\n",
       "    }\n",
       "</style>\n",
       "<table border=\"1\" class=\"dataframe\">\n",
       "  <thead>\n",
       "    <tr style=\"text-align: right;\">\n",
       "      <th></th>\n",
       "      <th>features</th>\n",
       "      <th>model</th>\n",
       "      <th>params</th>\n",
       "      <th>valid_acc</th>\n",
       "    </tr>\n",
       "  </thead>\n",
       "  <tbody>\n",
       "    <tr>\n",
       "      <th>0</th>\n",
       "      <td>['trip_len', 'acceleration_z_std', 'Speed_skew', 'Speed_mean', 'Speed_ptp', 'gyro_y_amax', 'Accuracy_skew', 'gyro_y_kurtosis', 'Speed_amin', 'Accuracy_dominant_f', 'Bearing_amin', 'gyro_z_dominant_f', 'acceleration_z_amax', 'gyro_z_mean']</td>\n",
       "      <td>gbm_c</td>\n",
       "      <td>{'learning_rate': 0.01, 'max_depth': 3, 'n_estimators': 500}</td>\n",
       "      <td>0.638379</td>\n",
       "    </tr>\n",
       "    <tr>\n",
       "      <th>1</th>\n",
       "      <td>['trip_len', 'acceleration_z_std', 'Speed_skew', 'Speed_ptp', 'gyro_y_ptp', 'Speed_dominant_f', 'Accuracy_skew', 'gyro_x_max_power', 'Speed_amax', 'Accuracy_ptp', 'acceleration_y_mean', 'acceleration_y_max_power', 'Speed_std', 'gyro_z_ptp']</td>\n",
       "      <td>svc_c</td>\n",
       "      <td>{'C': 1000}</td>\n",
       "      <td>0.634684</td>\n",
       "    </tr>\n",
       "    <tr>\n",
       "      <th>2</th>\n",
       "      <td>['trip_len', 'acceleration_z_std', 'Speed_skew', 'Speed_ptp', 'gyro_y_ptp', 'gyro_y_amax', 'Speed_dominant_f', 'gyro_z_std', 'Bearing_ptp', 'gyro_y_amin', 'Accuracy_std', 'acceleration_y_max_power', 'acceleration_x_max_power', 'acceleration_x_kurtosis', 'acceleration_z_kurtosis', 'acceleration_x_mean', 'gyro_z_ptp']</td>\n",
       "      <td>linear_svc_l1_c</td>\n",
       "      <td>{'C': 10, 'dual': False, 'penalty': 'l1'}</td>\n",
       "      <td>0.628035</td>\n",
       "    </tr>\n",
       "    <tr>\n",
       "      <th>3</th>\n",
       "      <td>['trip_len', 'acceleration_z_std', 'Speed_skew', 'acceleration_x_ptp', 'Speed_dominant_f', 'Speed_amax', 'gyro_y_kurtosis', 'Accuracy_ptp']</td>\n",
       "      <td>linear_svc_l2_c</td>\n",
       "      <td>{'C': 0.75, 'loss': 'hinge', 'penalty': 'l2'}</td>\n",
       "      <td>0.623813</td>\n",
       "    </tr>\n",
       "  </tbody>\n",
       "</table>\n",
       "</div>"
      ],
      "text/plain": [
       "                                                                                                                                                                                                                                                                                                                        features  \\\n",
       "0  ['trip_len', 'acceleration_z_std', 'Speed_skew', 'Speed_mean', 'Speed_ptp', 'gyro_y_amax', 'Accuracy_skew', 'gyro_y_kurtosis', 'Speed_amin', 'Accuracy_dominant_f', 'Bearing_amin', 'gyro_z_dominant_f', 'acceleration_z_amax', 'gyro_z_mean']                                                                                  \n",
       "1  ['trip_len', 'acceleration_z_std', 'Speed_skew', 'Speed_ptp', 'gyro_y_ptp', 'Speed_dominant_f', 'Accuracy_skew', 'gyro_x_max_power', 'Speed_amax', 'Accuracy_ptp', 'acceleration_y_mean', 'acceleration_y_max_power', 'Speed_std', 'gyro_z_ptp']                                                                                \n",
       "2  ['trip_len', 'acceleration_z_std', 'Speed_skew', 'Speed_ptp', 'gyro_y_ptp', 'gyro_y_amax', 'Speed_dominant_f', 'gyro_z_std', 'Bearing_ptp', 'gyro_y_amin', 'Accuracy_std', 'acceleration_y_max_power', 'acceleration_x_max_power', 'acceleration_x_kurtosis', 'acceleration_z_kurtosis', 'acceleration_x_mean', 'gyro_z_ptp']   \n",
       "3  ['trip_len', 'acceleration_z_std', 'Speed_skew', 'acceleration_x_ptp', 'Speed_dominant_f', 'Speed_amax', 'gyro_y_kurtosis', 'Accuracy_ptp']                                                                                                                                                                                     \n",
       "\n",
       "             model  \\\n",
       "0  gbm_c             \n",
       "1  svc_c             \n",
       "2  linear_svc_l1_c   \n",
       "3  linear_svc_l2_c   \n",
       "\n",
       "                                                         params  valid_acc  \n",
       "0  {'learning_rate': 0.01, 'max_depth': 3, 'n_estimators': 500}  0.638379   \n",
       "1  {'C': 1000}                                                   0.634684   \n",
       "2  {'C': 10, 'dual': False, 'penalty': 'l1'}                     0.628035   \n",
       "3  {'C': 0.75, 'loss': 'hinge', 'penalty': 'l2'}                 0.623813   "
      ]
     },
     "execution_count": 78,
     "metadata": {},
     "output_type": "execute_result"
    }
   ],
   "source": [
    "pd.read_csv(\"results/ml_results_c_minmax.csv\")"
   ]
  },
  {
   "cell_type": "markdown",
   "metadata": {},
   "source": [
    "## Neural Networks"
   ]
  },
  {
   "cell_type": "code",
   "execution_count": 80,
   "metadata": {},
   "outputs": [],
   "source": [
    "from tensorflow import keras\n",
    "from keras.models import Sequential\n",
    "from keras.layers import Dense, Dropout\n",
    "from keras.wrappers.scikit_learn import KerasClassifier\n",
    "from keras.callbacks import ModelCheckpoint\n",
    "from sklearn.model_selection import cross_val_score\n",
    "from sklearn.preprocessing import LabelEncoder\n",
    "from sklearn.model_selection import StratifiedKFold\n",
    "from sklearn.preprocessing import StandardScaler\n",
    "from sklearn.pipeline import Pipeline\n",
    "\n",
    "seed = 42\n",
    "np.random.seed(seed)"
   ]
  },
  {
   "cell_type": "code",
   "execution_count": 81,
   "metadata": {},
   "outputs": [],
   "source": [
    "\n",
    "# model\n",
    "def mlp_class(input_dim, optimizer='adam', activation='relu', dropout=0.1):\n",
    "    \"\"\"\n",
    "    Takes in optimizer, activation, input dimensions, and dropout rate, define a deep learning classifier and returns the trained model\n",
    "    \"\"\"\n",
    "    # create model\n",
    "    model = Sequential()\n",
    "    model.add(Dense(128, input_dim=input_dim, activation=activation))\n",
    "    model.add(Dropout(dropout))\n",
    "    model.add(Dense(128, activation=activation))\n",
    "    model.add(Dropout(dropout))\n",
    "    model.add(Dense(64, activation=activation))\n",
    "    model.add(Dropout(dropout))\n",
    "    model.add(Dense(1, activation='sigmoid'))\n",
    "\n",
    "    # Compile model\n",
    "    model.compile(loss='binary_crossentropy', optimizer=optimizer, metrics=['accuracy'])\n",
    "    return model"
   ]
  },
  {
   "cell_type": "code",
   "execution_count": null,
   "metadata": {},
   "outputs": [],
   "source": [
    "# Grid search\n",
    "# evaluate model with standardized dataset\n",
    "classifier = KerasClassifier(build_fn=mlp_class, epochs=10, batch_size=5, verbose=0, optimizer=\"adam\", activation=\"relu\")\n",
    "kfold = StratifiedKFold(n_splits=3, shuffle=True, random_state=seed)\n",
    "\n",
    "# grid search\n",
    "# STD scaler\n",
    "# we have already found out previously that 5 batch size, relu activation works best\n",
    "# we found out that 0.5 dropout is better than less than 0.5 dropout before\n",
    "\n",
    "# Min max scaler, we found dropout of 0.5 to work as well\n",
    "\n",
    "parameters = {\n",
    "            'input_dim':[X_train.shape[1]],\n",
    "            'batch_size': [5],\n",
    "          'epochs': [10],\n",
    "          'optimizer': ['adam'],\n",
    "             'activation':['relu'],\n",
    "             'dropout':[0, 0.1, 0.2, 0.3, 0.4, 0.5]}\n",
    "model = GridSearchCV(estimator = classifier,\n",
    "                       param_grid = parameters,\n",
    "                       scoring = 'accuracy',\n",
    "                       cv = 3, n_jobs=n_jobs)\n",
    "\n",
    "model = model.fit(X_train, y_train)"
   ]
  },
  {
   "cell_type": "code",
   "execution_count": null,
   "metadata": {},
   "outputs": [],
   "source": [
    "results = pd.DataFrame(model.cv_results_)\n",
    "valid_score = results.mean_test_score.values[0]\n",
    "valid_score"
   ]
  },
  {
   "cell_type": "code",
   "execution_count": null,
   "metadata": {},
   "outputs": [],
   "source": [
    "# saving to dictionary of models and results\n",
    "model_name = \"nn\"\n",
    "models_results[\"model\"] += [model_name]\n",
    "models_results[\"params\"] += [model.best_params_]\n",
    "models_results[\"valid_acc\"] += [model.best_score_]"
   ]
  },
  {
   "cell_type": "code",
   "execution_count": null,
   "metadata": {},
   "outputs": [],
   "source": [
    "results = pd.DataFrame(models_results).sort_values(by=\"valid_acc\", ascending=False)\n",
    "results.drop_duplicates(subset=\"valid_acc\", inplace=True)\n",
    "results"
   ]
  },
  {
   "cell_type": "code",
   "execution_count": null,
   "metadata": {},
   "outputs": [],
   "source": [
    "# save to csv\n",
    "results.to_csv(f\"results/ml_results_{scaler}_pcc-{pcc}_with-nn.csv\", index=False)"
   ]
  },
  {
   "cell_type": "code",
   "execution_count": null,
   "metadata": {},
   "outputs": [],
   "source": [
    "# best parameters\n",
    "model.best_params_"
   ]
  },
  {
   "cell_type": "code",
   "execution_count": 90,
   "metadata": {},
   "outputs": [],
   "source": [
    "# continue training with the best params\n",
    "# train longer\n",
    "optimizer = \"adam\"\n",
    "activation = \"relu\"\n",
    "dropout = 0.5\n",
    "input_dim = X_train.shape[1]\n",
    "model = mlp_class(input_dim=input_dim, optimizer=optimizer, activation=activation, dropout=dropout)"
   ]
  },
  {
   "cell_type": "code",
   "execution_count": 91,
   "metadata": {},
   "outputs": [],
   "source": [
    "# checkpoint\n",
    "filepath = f\"models/mlp_{scaler}_{activation}_{optimizer}_dropout-{dropout}_cols-{input_dim}.hdf5\"\n",
    "checkpoint = ModelCheckpoint(filepath, monitor='val_acc', verbose=1, save_best_only=True, mode='max')\n",
    "callbacks_list = [checkpoint]"
   ]
  },
  {
   "cell_type": "code",
   "execution_count": 92,
   "metadata": {},
   "outputs": [
    {
     "name": "stdout",
     "output_type": "stream",
     "text": [
      "Train on 6347 samples, validate on 3127 samples\n",
      "Epoch 1/30\n",
      "6347/6347 [==============================] - 6s 1ms/step - loss: 0.7130 - acc: 0.5083 - val_loss: 0.6913 - val_acc: 0.5369\n",
      "\n",
      "Epoch 00001: val_acc improved from -inf to 0.53694, saving model to models/mlp_minmax_relu_adam_dropout-0.7_cols-82.hdf5\n",
      "Epoch 2/30\n",
      "6347/6347 [==============================] - 5s 839us/step - loss: 0.6973 - acc: 0.5062 - val_loss: 0.6915 - val_acc: 0.5494\n",
      "\n",
      "Epoch 00002: val_acc improved from 0.53694 to 0.54941, saving model to models/mlp_minmax_relu_adam_dropout-0.7_cols-82.hdf5\n",
      "Epoch 3/30\n",
      "6347/6347 [==============================] - 5s 835us/step - loss: 0.6915 - acc: 0.5133 - val_loss: 0.6868 - val_acc: 0.5552\n",
      "\n",
      "Epoch 00003: val_acc improved from 0.54941 to 0.55516, saving model to models/mlp_minmax_relu_adam_dropout-0.7_cols-82.hdf5\n",
      "Epoch 4/30\n",
      "6347/6347 [==============================] - 5s 839us/step - loss: 0.6879 - acc: 0.5253 - val_loss: 0.6810 - val_acc: 0.5507\n",
      "\n",
      "Epoch 00004: val_acc did not improve from 0.55516\n",
      "Epoch 5/30\n",
      "6347/6347 [==============================] - 5s 835us/step - loss: 0.6838 - acc: 0.5243 - val_loss: 0.6775 - val_acc: 0.5472\n",
      "\n",
      "Epoch 00005: val_acc did not improve from 0.55516\n",
      "Epoch 6/30\n",
      "6347/6347 [==============================] - 7s 1ms/step - loss: 0.6838 - acc: 0.5288 - val_loss: 0.6753 - val_acc: 0.5520\n",
      "\n",
      "Epoch 00006: val_acc did not improve from 0.55516\n",
      "Epoch 7/30\n",
      "6347/6347 [==============================] - 8s 1ms/step - loss: 0.6797 - acc: 0.5406 - val_loss: 0.6705 - val_acc: 0.5919\n",
      "\n",
      "Epoch 00007: val_acc improved from 0.55516 to 0.59194, saving model to models/mlp_minmax_relu_adam_dropout-0.7_cols-82.hdf5\n",
      "Epoch 8/30\n",
      "6347/6347 [==============================] - 8s 1ms/step - loss: 0.6770 - acc: 0.5557 - val_loss: 0.6667 - val_acc: 0.5612\n",
      "\n",
      "Epoch 00008: val_acc did not improve from 0.59194\n",
      "Epoch 9/30\n",
      "6347/6347 [==============================] - 8s 1ms/step - loss: 0.6793 - acc: 0.5577 - val_loss: 0.6721 - val_acc: 0.5974\n",
      "\n",
      "Epoch 00009: val_acc improved from 0.59194 to 0.59738, saving model to models/mlp_minmax_relu_adam_dropout-0.7_cols-82.hdf5\n",
      "Epoch 10/30\n",
      "6347/6347 [==============================] - 8s 1ms/step - loss: 0.6750 - acc: 0.5530 - val_loss: 0.6641 - val_acc: 0.6009\n",
      "\n",
      "Epoch 00010: val_acc improved from 0.59738 to 0.60090, saving model to models/mlp_minmax_relu_adam_dropout-0.7_cols-82.hdf5\n",
      "Epoch 11/30\n",
      "6347/6347 [==============================] - 8s 1ms/step - loss: 0.6714 - acc: 0.5533 - val_loss: 0.6572 - val_acc: 0.6054\n",
      "\n",
      "Epoch 00011: val_acc improved from 0.60090 to 0.60537, saving model to models/mlp_minmax_relu_adam_dropout-0.7_cols-82.hdf5\n",
      "Epoch 12/30\n",
      "6347/6347 [==============================] - 8s 1ms/step - loss: 0.6748 - acc: 0.5511 - val_loss: 0.6618 - val_acc: 0.6095\n",
      "\n",
      "Epoch 00012: val_acc improved from 0.60537 to 0.60953, saving model to models/mlp_minmax_relu_adam_dropout-0.7_cols-82.hdf5\n",
      "Epoch 13/30\n",
      "6347/6347 [==============================] - 8s 1ms/step - loss: 0.6717 - acc: 0.5492 - val_loss: 0.6598 - val_acc: 0.5683\n",
      "\n",
      "Epoch 00013: val_acc did not improve from 0.60953\n",
      "Epoch 14/30\n",
      "6347/6347 [==============================] - 5s 840us/step - loss: 0.6704 - acc: 0.5623 - val_loss: 0.6565 - val_acc: 0.6073\n",
      "\n",
      "Epoch 00014: val_acc did not improve from 0.60953\n",
      "Epoch 15/30\n",
      "6347/6347 [==============================] - 5s 835us/step - loss: 0.6628 - acc: 0.5598 - val_loss: 0.6615 - val_acc: 0.6178\n",
      "\n",
      "Epoch 00015: val_acc improved from 0.60953 to 0.61784, saving model to models/mlp_minmax_relu_adam_dropout-0.7_cols-82.hdf5\n",
      "Epoch 16/30\n",
      "6347/6347 [==============================] - 5s 838us/step - loss: 0.6684 - acc: 0.5551 - val_loss: 0.6542 - val_acc: 0.5964\n",
      "\n",
      "Epoch 00016: val_acc did not improve from 0.61784\n",
      "Epoch 17/30\n",
      "6347/6347 [==============================] - 6s 905us/step - loss: 0.6644 - acc: 0.5710 - val_loss: 0.6579 - val_acc: 0.5919\n",
      "\n",
      "Epoch 00017: val_acc did not improve from 0.61784\n",
      "Epoch 18/30\n",
      "6347/6347 [==============================] - 5s 838us/step - loss: 0.6630 - acc: 0.5759 - val_loss: 0.6527 - val_acc: 0.6111\n",
      "\n",
      "Epoch 00018: val_acc did not improve from 0.61784\n",
      "Epoch 19/30\n",
      "6347/6347 [==============================] - 6s 910us/step - loss: 0.6581 - acc: 0.5845 - val_loss: 0.6518 - val_acc: 0.5974\n",
      "\n",
      "Epoch 00019: val_acc did not improve from 0.61784\n",
      "Epoch 20/30\n",
      "6347/6347 [==============================] - 8s 1ms/step - loss: 0.6654 - acc: 0.5721 - val_loss: 0.6538 - val_acc: 0.6006\n",
      "\n",
      "Epoch 00020: val_acc did not improve from 0.61784\n",
      "Epoch 21/30\n",
      "6347/6347 [==============================] - 8s 1ms/step - loss: 0.6638 - acc: 0.5711 - val_loss: 0.6556 - val_acc: 0.6086\n",
      "\n",
      "Epoch 00021: val_acc did not improve from 0.61784\n",
      "Epoch 22/30\n",
      "6347/6347 [==============================] - 8s 1ms/step - loss: 0.6653 - acc: 0.5726 - val_loss: 0.6563 - val_acc: 0.6121\n",
      "\n",
      "Epoch 00022: val_acc did not improve from 0.61784\n",
      "Epoch 23/30\n",
      "6347/6347 [==============================] - 8s 1ms/step - loss: 0.6602 - acc: 0.5800 - val_loss: 0.6462 - val_acc: 0.6108\n",
      "\n",
      "Epoch 00023: val_acc did not improve from 0.61784\n",
      "Epoch 24/30\n",
      "6347/6347 [==============================] - 7s 1ms/step - loss: 0.6640 - acc: 0.5639 - val_loss: 0.6580 - val_acc: 0.6092\n",
      "\n",
      "Epoch 00024: val_acc did not improve from 0.61784\n",
      "Epoch 25/30\n",
      "6347/6347 [==============================] - 6s 910us/step - loss: 0.6631 - acc: 0.5661 - val_loss: 0.6507 - val_acc: 0.6121\n",
      "\n",
      "Epoch 00025: val_acc did not improve from 0.61784\n",
      "Epoch 26/30\n",
      "6347/6347 [==============================] - 8s 1ms/step - loss: 0.6636 - acc: 0.5784 - val_loss: 0.6540 - val_acc: 0.6185\n",
      "\n",
      "Epoch 00026: val_acc improved from 0.61784 to 0.61848, saving model to models/mlp_minmax_relu_adam_dropout-0.7_cols-82.hdf5\n",
      "Epoch 27/30\n",
      "6347/6347 [==============================] - 8s 1ms/step - loss: 0.6605 - acc: 0.5729 - val_loss: 0.6535 - val_acc: 0.6118\n",
      "\n",
      "Epoch 00027: val_acc did not improve from 0.61848\n",
      "Epoch 28/30\n",
      "6347/6347 [==============================] - 8s 1ms/step - loss: 0.6590 - acc: 0.5834 - val_loss: 0.6599 - val_acc: 0.6191\n",
      "\n",
      "Epoch 00028: val_acc improved from 0.61848 to 0.61912, saving model to models/mlp_minmax_relu_adam_dropout-0.7_cols-82.hdf5\n",
      "Epoch 29/30\n",
      "6347/6347 [==============================] - 8s 1ms/step - loss: 0.6590 - acc: 0.5770 - val_loss: 0.6490 - val_acc: 0.6067\n",
      "\n",
      "Epoch 00029: val_acc did not improve from 0.61912\n",
      "Epoch 30/30\n",
      "6347/6347 [==============================] - 7s 1ms/step - loss: 0.6573 - acc: 0.5822 - val_loss: 0.6506 - val_acc: 0.6041\n",
      "\n",
      "Epoch 00030: val_acc did not improve from 0.61912\n"
     ]
    },
    {
     "data": {
      "text/plain": [
       "<keras.callbacks.History at 0x7fc30ea7df98>"
      ]
     },
     "execution_count": 92,
     "metadata": {},
     "output_type": "execute_result"
    }
   ],
   "source": [
    "model.fit(X_train, y_train, validation_split=0.33, batch_size=5, epochs=30, callbacks=callbacks_list)"
   ]
  },
  {
   "cell_type": "code",
   "execution_count": 82,
   "metadata": {},
   "outputs": [],
   "source": [
    "# Grid search\n",
    "# evaluate model with standardized dataset\n",
    "classifier = KerasClassifier(build_fn=mlp_class, epochs=10, batch_size=5, verbose=0, optimizer=\"adam\", activation=\"relu\")\n",
    "kfold = StratifiedKFold(n_splits=3, shuffle=True, random_state=seed)\n",
    "\n",
    "# grid search\n",
    "parameters = {\n",
    "            'input_dim':[X_train.shape[1]],\n",
    "            'batch_size': [5],\n",
    "          'epochs': [30],\n",
    "          'optimizer': ['adam'],\n",
    "             'activation':['relu'],\n",
    "             'dropout':[0.5]}\n",
    "model = GridSearchCV(estimator = classifier,\n",
    "                       param_grid = parameters,\n",
    "                       scoring = 'accuracy',\n",
    "                       cv = 3, n_jobs=n_jobs)\n",
    "\n",
    "model = model.fit(X_train, y_train)\n"
   ]
  },
  {
   "cell_type": "code",
   "execution_count": 83,
   "metadata": {},
   "outputs": [
    {
     "data": {
      "text/plain": [
       "0.6185349377242981"
      ]
     },
     "execution_count": 83,
     "metadata": {},
     "output_type": "execute_result"
    }
   ],
   "source": [
    "results = pd.DataFrame(model.cv_results_)\n",
    "valid_score = results.mean_test_score.values[0]\n",
    "valid_score"
   ]
  },
  {
   "cell_type": "code",
   "execution_count": 84,
   "metadata": {},
   "outputs": [],
   "source": [
    "# saving to dictionary of models and results\n",
    "model_name = \"nn_30_epochs\"\n",
    "models_results[\"model\"] += [model_name]\n",
    "models_results[\"params\"] += [model.best_params_]\n",
    "models_results[\"valid_acc\"] += [model.best_score_]"
   ]
  },
  {
   "cell_type": "code",
   "execution_count": 85,
   "metadata": {},
   "outputs": [
    {
     "data": {
      "text/html": [
       "<div>\n",
       "<style scoped>\n",
       "    .dataframe tbody tr th:only-of-type {\n",
       "        vertical-align: middle;\n",
       "    }\n",
       "\n",
       "    .dataframe tbody tr th {\n",
       "        vertical-align: top;\n",
       "    }\n",
       "\n",
       "    .dataframe thead th {\n",
       "        text-align: right;\n",
       "    }\n",
       "</style>\n",
       "<table border=\"1\" class=\"dataframe\">\n",
       "  <thead>\n",
       "    <tr style=\"text-align: right;\">\n",
       "      <th></th>\n",
       "      <th>model</th>\n",
       "      <th>valid_acc</th>\n",
       "      <th>params</th>\n",
       "    </tr>\n",
       "  </thead>\n",
       "  <tbody>\n",
       "    <tr>\n",
       "      <th>0</th>\n",
       "      <td>nn_30_epochs</td>\n",
       "      <td>0.618535</td>\n",
       "      <td>{'activation': 'relu', 'batch_size': 5, 'dropout': 0.5, 'epochs': 30, 'input_dim': 82, 'optimizer': 'adam'}</td>\n",
       "    </tr>\n",
       "  </tbody>\n",
       "</table>\n",
       "</div>"
      ],
      "text/plain": [
       "          model  valid_acc  \\\n",
       "0  nn_30_epochs  0.618535    \n",
       "\n",
       "                                                                                                        params  \n",
       "0  {'activation': 'relu', 'batch_size': 5, 'dropout': 0.5, 'epochs': 30, 'input_dim': 82, 'optimizer': 'adam'}  "
      ]
     },
     "execution_count": 85,
     "metadata": {},
     "output_type": "execute_result"
    }
   ],
   "source": [
    "results = pd.DataFrame(models_results).sort_values(by=\"valid_acc\", ascending=False)\n",
    "results.drop_duplicates(subset=\"valid_acc\", inplace=True)\n",
    "results"
   ]
  },
  {
   "cell_type": "code",
   "execution_count": 86,
   "metadata": {},
   "outputs": [],
   "source": [
    "# save to csv\n",
    "results.to_csv(f\"results/ml_results_{scaler}_pcc-{pcc}_with-nn.csv\", index=False)"
   ]
  },
  {
   "cell_type": "code",
   "execution_count": 89,
   "metadata": {},
   "outputs": [
    {
     "data": {
      "text/html": [
       "<div>\n",
       "<style scoped>\n",
       "    .dataframe tbody tr th:only-of-type {\n",
       "        vertical-align: middle;\n",
       "    }\n",
       "\n",
       "    .dataframe tbody tr th {\n",
       "        vertical-align: top;\n",
       "    }\n",
       "\n",
       "    .dataframe thead th {\n",
       "        text-align: right;\n",
       "    }\n",
       "</style>\n",
       "<table border=\"1\" class=\"dataframe\">\n",
       "  <thead>\n",
       "    <tr style=\"text-align: right;\">\n",
       "      <th></th>\n",
       "      <th>model</th>\n",
       "      <th>valid_acc</th>\n",
       "      <th>params</th>\n",
       "    </tr>\n",
       "  </thead>\n",
       "  <tbody>\n",
       "    <tr>\n",
       "      <th>0</th>\n",
       "      <td>svc</td>\n",
       "      <td>0.632468</td>\n",
       "      <td>{'C': 1000}</td>\n",
       "    </tr>\n",
       "    <tr>\n",
       "      <th>1</th>\n",
       "      <td>gbm</td>\n",
       "      <td>0.631096</td>\n",
       "      <td>{'learning_rate': 0.01, 'max_depth': 3, 'n_estimators': 500}</td>\n",
       "    </tr>\n",
       "    <tr>\n",
       "      <th>2</th>\n",
       "      <td>linear_svc_l1</td>\n",
       "      <td>0.629723</td>\n",
       "      <td>{'C': 10, 'dual': False, 'penalty': 'l1'}</td>\n",
       "    </tr>\n",
       "    <tr>\n",
       "      <th>3</th>\n",
       "      <td>log_reg</td>\n",
       "      <td>0.629301</td>\n",
       "      <td>{'C': 100, 'penalty': 'l2'}</td>\n",
       "    </tr>\n",
       "    <tr>\n",
       "      <th>4</th>\n",
       "      <td>linear_svc_l2</td>\n",
       "      <td>0.629196</td>\n",
       "      <td>{'C': 0.75, 'loss': 'hinge', 'penalty': 'l2'}</td>\n",
       "    </tr>\n",
       "    <tr>\n",
       "      <th>5</th>\n",
       "      <td>rf</td>\n",
       "      <td>0.621490</td>\n",
       "      <td>{'max_depth': 5, 'min_samples_split': 2}</td>\n",
       "    </tr>\n",
       "    <tr>\n",
       "      <th>6</th>\n",
       "      <td>dt</td>\n",
       "      <td>0.602702</td>\n",
       "      <td>{'max_depth': 2, 'min_samples_split': 2}</td>\n",
       "    </tr>\n",
       "    <tr>\n",
       "      <th>7</th>\n",
       "      <td>nb</td>\n",
       "      <td>0.548659</td>\n",
       "      <td>{'var_smoothing': 1e-05}</td>\n",
       "    </tr>\n",
       "  </tbody>\n",
       "</table>\n",
       "</div>"
      ],
      "text/plain": [
       "           model  valid_acc  \\\n",
       "0  svc            0.632468    \n",
       "1  gbm            0.631096    \n",
       "2  linear_svc_l1  0.629723    \n",
       "3  log_reg        0.629301    \n",
       "4  linear_svc_l2  0.629196    \n",
       "5  rf             0.621490    \n",
       "6  dt             0.602702    \n",
       "7  nb             0.548659    \n",
       "\n",
       "                                                         params  \n",
       "0  {'C': 1000}                                                   \n",
       "1  {'learning_rate': 0.01, 'max_depth': 3, 'n_estimators': 500}  \n",
       "2  {'C': 10, 'dual': False, 'penalty': 'l1'}                     \n",
       "3  {'C': 100, 'penalty': 'l2'}                                   \n",
       "4  {'C': 0.75, 'loss': 'hinge', 'penalty': 'l2'}                 \n",
       "5  {'max_depth': 5, 'min_samples_split': 2}                      \n",
       "6  {'max_depth': 2, 'min_samples_split': 2}                      \n",
       "7  {'var_smoothing': 1e-05}                                      "
      ]
     },
     "execution_count": 89,
     "metadata": {},
     "output_type": "execute_result"
    }
   ],
   "source": [
    "pd.read_csv(f\"results/ml_results_minmax_pcc-{pcc}_.csv\")"
   ]
  },
  {
   "cell_type": "code",
   "execution_count": 87,
   "metadata": {},
   "outputs": [
    {
     "data": {
      "text/html": [
       "<div>\n",
       "<style scoped>\n",
       "    .dataframe tbody tr th:only-of-type {\n",
       "        vertical-align: middle;\n",
       "    }\n",
       "\n",
       "    .dataframe tbody tr th {\n",
       "        vertical-align: top;\n",
       "    }\n",
       "\n",
       "    .dataframe thead th {\n",
       "        text-align: right;\n",
       "    }\n",
       "</style>\n",
       "<table border=\"1\" class=\"dataframe\">\n",
       "  <thead>\n",
       "    <tr style=\"text-align: right;\">\n",
       "      <th></th>\n",
       "      <th>model</th>\n",
       "      <th>valid_acc</th>\n",
       "      <th>params</th>\n",
       "    </tr>\n",
       "  </thead>\n",
       "  <tbody>\n",
       "    <tr>\n",
       "      <th>0</th>\n",
       "      <td>nn_30_epochs</td>\n",
       "      <td>0.618535</td>\n",
       "      <td>{'activation': 'relu', 'batch_size': 5, 'dropout': 0.5, 'epochs': 30, 'input_dim': 82, 'optimizer': 'adam'}</td>\n",
       "    </tr>\n",
       "  </tbody>\n",
       "</table>\n",
       "</div>"
      ],
      "text/plain": [
       "          model  valid_acc  \\\n",
       "0  nn_30_epochs  0.618535    \n",
       "\n",
       "                                                                                                        params  \n",
       "0  {'activation': 'relu', 'batch_size': 5, 'dropout': 0.5, 'epochs': 30, 'input_dim': 82, 'optimizer': 'adam'}  "
      ]
     },
     "execution_count": 87,
     "metadata": {},
     "output_type": "execute_result"
    }
   ],
   "source": [
    "pd.read_csv(f\"results/ml_results_minmax_pcc-{pcc}_with-nn.csv\")"
   ]
  },
  {
   "cell_type": "code",
   "execution_count": 88,
   "metadata": {},
   "outputs": [
    {
     "data": {
      "text/html": [
       "<div>\n",
       "<style scoped>\n",
       "    .dataframe tbody tr th:only-of-type {\n",
       "        vertical-align: middle;\n",
       "    }\n",
       "\n",
       "    .dataframe tbody tr th {\n",
       "        vertical-align: top;\n",
       "    }\n",
       "\n",
       "    .dataframe thead th {\n",
       "        text-align: right;\n",
       "    }\n",
       "</style>\n",
       "<table border=\"1\" class=\"dataframe\">\n",
       "  <thead>\n",
       "    <tr style=\"text-align: right;\">\n",
       "      <th></th>\n",
       "      <th>model</th>\n",
       "      <th>valid_acc</th>\n",
       "      <th>params</th>\n",
       "    </tr>\n",
       "  </thead>\n",
       "  <tbody>\n",
       "    <tr>\n",
       "      <th>0</th>\n",
       "      <td>gbm</td>\n",
       "      <td>0.630779</td>\n",
       "      <td>{'learning_rate': 0.01, 'max_depth': 5, 'n_estimators': 500}</td>\n",
       "    </tr>\n",
       "    <tr>\n",
       "      <th>1</th>\n",
       "      <td>linear_svc_l1</td>\n",
       "      <td>0.629512</td>\n",
       "      <td>{'C': 0.75, 'dual': False, 'penalty': 'l1'}</td>\n",
       "    </tr>\n",
       "    <tr>\n",
       "      <th>2</th>\n",
       "      <td>log_reg</td>\n",
       "      <td>0.628985</td>\n",
       "      <td>{'C': 0.1, 'penalty': 'l2'}</td>\n",
       "    </tr>\n",
       "    <tr>\n",
       "      <th>3</th>\n",
       "      <td>linear_svc_l2</td>\n",
       "      <td>0.628457</td>\n",
       "      <td>{'C': 0.01, 'loss': 'hinge', 'penalty': 'l2'}</td>\n",
       "    </tr>\n",
       "    <tr>\n",
       "      <th>4</th>\n",
       "      <td>svc</td>\n",
       "      <td>0.626662</td>\n",
       "      <td>{'C': 1.0}</td>\n",
       "    </tr>\n",
       "    <tr>\n",
       "      <th>5</th>\n",
       "      <td>nn</td>\n",
       "      <td>0.623285</td>\n",
       "      <td>{'activation': 'relu', 'batch_size': 5, 'dropout': 0.5, 'epochs': 10, 'input_dim': 82, 'optimizer': 'adam'}</td>\n",
       "    </tr>\n",
       "    <tr>\n",
       "      <th>6</th>\n",
       "      <td>rf</td>\n",
       "      <td>0.620013</td>\n",
       "      <td>{'max_depth': 3, 'min_samples_split': 4}</td>\n",
       "    </tr>\n",
       "    <tr>\n",
       "      <th>7</th>\n",
       "      <td>dt</td>\n",
       "      <td>0.602702</td>\n",
       "      <td>{'max_depth': 2, 'min_samples_split': 2}</td>\n",
       "    </tr>\n",
       "    <tr>\n",
       "      <th>8</th>\n",
       "      <td>nb</td>\n",
       "      <td>0.548343</td>\n",
       "      <td>{'var_smoothing': 1e-09}</td>\n",
       "    </tr>\n",
       "  </tbody>\n",
       "</table>\n",
       "</div>"
      ],
      "text/plain": [
       "           model  valid_acc  \\\n",
       "0  gbm            0.630779    \n",
       "1  linear_svc_l1  0.629512    \n",
       "2  log_reg        0.628985    \n",
       "3  linear_svc_l2  0.628457    \n",
       "4  svc            0.626662    \n",
       "5  nn             0.623285    \n",
       "6  rf             0.620013    \n",
       "7  dt             0.602702    \n",
       "8  nb             0.548343    \n",
       "\n",
       "                                                                                                        params  \n",
       "0  {'learning_rate': 0.01, 'max_depth': 5, 'n_estimators': 500}                                                 \n",
       "1  {'C': 0.75, 'dual': False, 'penalty': 'l1'}                                                                  \n",
       "2  {'C': 0.1, 'penalty': 'l2'}                                                                                  \n",
       "3  {'C': 0.01, 'loss': 'hinge', 'penalty': 'l2'}                                                                \n",
       "4  {'C': 1.0}                                                                                                   \n",
       "5  {'activation': 'relu', 'batch_size': 5, 'dropout': 0.5, 'epochs': 10, 'input_dim': 82, 'optimizer': 'adam'}  \n",
       "6  {'max_depth': 3, 'min_samples_split': 4}                                                                     \n",
       "7  {'max_depth': 2, 'min_samples_split': 2}                                                                     \n",
       "8  {'var_smoothing': 1e-09}                                                                                     "
      ]
     },
     "execution_count": 88,
     "metadata": {},
     "output_type": "execute_result"
    }
   ],
   "source": [
    "pd.read_csv(f\"results/ml_results_std_pcc-{pcc}_with-nn.csv\")"
   ]
  }
 ],
 "metadata": {
  "kernelspec": {
   "display_name": "Python 3",
   "language": "python",
   "name": "python3"
  },
  "language_info": {
   "codemirror_mode": {
    "name": "ipython",
    "version": 3
   },
   "file_extension": ".py",
   "mimetype": "text/x-python",
   "name": "python",
   "nbconvert_exporter": "python",
   "pygments_lexer": "ipython3",
   "version": "3.6.5"
  }
 },
 "nbformat": 4,
 "nbformat_minor": 2
}
