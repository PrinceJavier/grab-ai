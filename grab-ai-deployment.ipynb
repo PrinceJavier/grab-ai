{
 "cells": [
  {
   "cell_type": "markdown",
   "metadata": {},
   "source": [
    "# Model Loading and Predicting\n",
    "by Prince Joseph Erneszer Javier"
   ]
  },
  {
   "cell_type": "code",
   "execution_count": 1,
   "metadata": {},
   "outputs": [],
   "source": [
    "import pandas as pd\n",
    "import numpy as np\n",
    "import matplotlib.pyplot as plt\n",
    "import seaborn as sns\n",
    "import glob\n",
    "import pickle\n",
    "\n",
    "from sklearn.model_selection import GridSearchCV\n",
    "from sklearn.neighbors import KNeighborsClassifier\n",
    "from sklearn.linear_model import LogisticRegression\n",
    "from sklearn.svm import SVC, LinearSVC\n",
    "from sklearn.tree import DecisionTreeClassifier\n",
    "from sklearn.ensemble import GradientBoostingClassifier, RandomForestClassifier\n",
    "from sklearn.naive_bayes import GaussianNB\n",
    "from sklearn.metrics import confusion_matrix\n",
    "from sklearn.metrics import roc_curve\n",
    "\n",
    "# Scaling\n",
    "from sklearn.preprocessing import MinMaxScaler, StandardScaler"
   ]
  },
  {
   "cell_type": "code",
   "execution_count": 2,
   "metadata": {},
   "outputs": [],
   "source": [
    "X_test = pd.read_csv(\"data/processed/X_test_5000.csv\")\n",
    "y_test = pd.read_csv(\"data/processed/y_test_5000.csv\")\n",
    "\n",
    "mmsc = MinMaxScaler()\n",
    "stdsc = StandardScaler()\n",
    "\n",
    "cols = X_test.columns\n",
    "# X_test = mmsc.fit_transform(X_test)\n",
    "X_test = stdsc.fit_transform(X_test)\n",
    "X_test = pd.DataFrame(X_test, columns = cols)"
   ]
  },
  {
   "cell_type": "code",
   "execution_count": 3,
   "metadata": {},
   "outputs": [
    {
     "data": {
      "text/html": [
       "<div>\n",
       "<style scoped>\n",
       "    .dataframe tbody tr th:only-of-type {\n",
       "        vertical-align: middle;\n",
       "    }\n",
       "\n",
       "    .dataframe tbody tr th {\n",
       "        vertical-align: top;\n",
       "    }\n",
       "\n",
       "    .dataframe thead th {\n",
       "        text-align: right;\n",
       "    }\n",
       "</style>\n",
       "<table border=\"1\" class=\"dataframe\">\n",
       "  <thead>\n",
       "    <tr style=\"text-align: right;\">\n",
       "      <th></th>\n",
       "      <th>Accuracy</th>\n",
       "      <th>Bearing</th>\n",
       "      <th>acceleration_x</th>\n",
       "      <th>acceleration_y</th>\n",
       "      <th>acceleration_z</th>\n",
       "      <th>gyro_x</th>\n",
       "      <th>gyro_y</th>\n",
       "      <th>gyro_z</th>\n",
       "      <th>second</th>\n",
       "      <th>Speed</th>\n",
       "    </tr>\n",
       "  </thead>\n",
       "  <tbody>\n",
       "    <tr>\n",
       "      <th>0</th>\n",
       "      <td>-0.086212</td>\n",
       "      <td>-0.489477</td>\n",
       "      <td>-0.262121</td>\n",
       "      <td>0.713195</td>\n",
       "      <td>0.775330</td>\n",
       "      <td>-0.000966</td>\n",
       "      <td>-0.042752</td>\n",
       "      <td>0.025827</td>\n",
       "      <td>-0.265155</td>\n",
       "      <td>-0.585301</td>\n",
       "    </tr>\n",
       "    <tr>\n",
       "      <th>1</th>\n",
       "      <td>-0.086933</td>\n",
       "      <td>-0.608333</td>\n",
       "      <td>1.423405</td>\n",
       "      <td>0.703663</td>\n",
       "      <td>0.126565</td>\n",
       "      <td>1.055288</td>\n",
       "      <td>-0.271233</td>\n",
       "      <td>-0.471773</td>\n",
       "      <td>0.610070</td>\n",
       "      <td>1.784903</td>\n",
       "    </tr>\n",
       "    <tr>\n",
       "      <th>2</th>\n",
       "      <td>-0.085824</td>\n",
       "      <td>0.863656</td>\n",
       "      <td>-0.742246</td>\n",
       "      <td>0.767292</td>\n",
       "      <td>-0.041836</td>\n",
       "      <td>-0.763919</td>\n",
       "      <td>0.465515</td>\n",
       "      <td>0.288203</td>\n",
       "      <td>-0.584871</td>\n",
       "      <td>-0.087073</td>\n",
       "    </tr>\n",
       "    <tr>\n",
       "      <th>3</th>\n",
       "      <td>-0.086933</td>\n",
       "      <td>1.192796</td>\n",
       "      <td>0.267500</td>\n",
       "      <td>0.726650</td>\n",
       "      <td>-0.146967</td>\n",
       "      <td>-0.108505</td>\n",
       "      <td>-0.033630</td>\n",
       "      <td>-0.172879</td>\n",
       "      <td>0.098523</td>\n",
       "      <td>1.386826</td>\n",
       "    </tr>\n",
       "    <tr>\n",
       "      <th>4</th>\n",
       "      <td>-0.076482</td>\n",
       "      <td>1.448795</td>\n",
       "      <td>0.242457</td>\n",
       "      <td>0.568242</td>\n",
       "      <td>0.791910</td>\n",
       "      <td>0.315045</td>\n",
       "      <td>0.046819</td>\n",
       "      <td>0.318675</td>\n",
       "      <td>-0.824659</td>\n",
       "      <td>-1.085637</td>\n",
       "    </tr>\n",
       "  </tbody>\n",
       "</table>\n",
       "</div>"
      ],
      "text/plain": [
       "   Accuracy   Bearing  acceleration_x  acceleration_y  acceleration_z  \\\n",
       "0 -0.086212 -0.489477       -0.262121        0.713195        0.775330   \n",
       "1 -0.086933 -0.608333        1.423405        0.703663        0.126565   \n",
       "2 -0.085824  0.863656       -0.742246        0.767292       -0.041836   \n",
       "3 -0.086933  1.192796        0.267500        0.726650       -0.146967   \n",
       "4 -0.076482  1.448795        0.242457        0.568242        0.791910   \n",
       "\n",
       "     gyro_x    gyro_y    gyro_z    second     Speed  \n",
       "0 -0.000966 -0.042752  0.025827 -0.265155 -0.585301  \n",
       "1  1.055288 -0.271233 -0.471773  0.610070  1.784903  \n",
       "2 -0.763919  0.465515  0.288203 -0.584871 -0.087073  \n",
       "3 -0.108505 -0.033630 -0.172879  0.098523  1.386826  \n",
       "4  0.315045  0.046819  0.318675 -0.824659 -1.085637  "
      ]
     },
     "execution_count": 3,
     "metadata": {},
     "output_type": "execute_result"
    }
   ],
   "source": [
    "X_test.head()"
   ]
  },
  {
   "cell_type": "code",
   "execution_count": 4,
   "metadata": {},
   "outputs": [
    {
     "data": {
      "text/html": [
       "<div>\n",
       "<style scoped>\n",
       "    .dataframe tbody tr th:only-of-type {\n",
       "        vertical-align: middle;\n",
       "    }\n",
       "\n",
       "    .dataframe tbody tr th {\n",
       "        vertical-align: top;\n",
       "    }\n",
       "\n",
       "    .dataframe thead th {\n",
       "        text-align: right;\n",
       "    }\n",
       "</style>\n",
       "<table border=\"1\" class=\"dataframe\">\n",
       "  <thead>\n",
       "    <tr style=\"text-align: right;\">\n",
       "      <th></th>\n",
       "      <th>label</th>\n",
       "    </tr>\n",
       "  </thead>\n",
       "  <tbody>\n",
       "    <tr>\n",
       "      <th>0</th>\n",
       "      <td>0</td>\n",
       "    </tr>\n",
       "    <tr>\n",
       "      <th>1</th>\n",
       "      <td>0</td>\n",
       "    </tr>\n",
       "    <tr>\n",
       "      <th>2</th>\n",
       "      <td>1</td>\n",
       "    </tr>\n",
       "    <tr>\n",
       "      <th>3</th>\n",
       "      <td>0</td>\n",
       "    </tr>\n",
       "    <tr>\n",
       "      <th>4</th>\n",
       "      <td>1</td>\n",
       "    </tr>\n",
       "  </tbody>\n",
       "</table>\n",
       "</div>"
      ],
      "text/plain": [
       "   label\n",
       "0      0\n",
       "1      0\n",
       "2      1\n",
       "3      0\n",
       "4      1"
      ]
     },
     "execution_count": 4,
     "metadata": {},
     "output_type": "execute_result"
    }
   ],
   "source": [
    "y_test.head()"
   ]
  },
  {
   "cell_type": "code",
   "execution_count": 5,
   "metadata": {},
   "outputs": [
    {
     "data": {
      "text/plain": [
       "((2500, 10), (2500, 1))"
      ]
     },
     "execution_count": 5,
     "metadata": {},
     "output_type": "execute_result"
    }
   ],
   "source": [
    "X_test.shape, y_test.shape"
   ]
  },
  {
   "cell_type": "code",
   "execution_count": 6,
   "metadata": {},
   "outputs": [],
   "source": [
    "# load the model from disk\n",
    "filename = \"models/gbm.sav\"\n",
    "loaded_model = pickle.load(open(filename, 'rb'))\n",
    "result = loaded_model.score(X_test, y_test)"
   ]
  },
  {
   "cell_type": "code",
   "execution_count": 7,
   "metadata": {},
   "outputs": [
    {
     "data": {
      "text/plain": [
       "0.5884"
      ]
     },
     "execution_count": 7,
     "metadata": {},
     "output_type": "execute_result"
    }
   ],
   "source": [
    "result"
   ]
  },
  {
   "cell_type": "code",
   "execution_count": 8,
   "metadata": {},
   "outputs": [],
   "source": [
    "y_pred = loaded_model.predict(X_test)"
   ]
  },
  {
   "cell_type": "code",
   "execution_count": 9,
   "metadata": {},
   "outputs": [
    {
     "name": "stdout",
     "output_type": "stream",
     "text": [
      "\n",
      "Confusion Matrix Using Best Parameters\n"
     ]
    },
    {
     "data": {
      "image/png": "[encoded data removed]",
      "text/plain": [
       "<Figure size 288x288 with 1 Axes>"
      ]
     },
     "metadata": {},
     "output_type": "display_data"
    },
    {
     "data": {
      "text/plain": [
       "(array([0.        , 0.40635179, 1.        ]),\n",
       " array([0.        , 0.58333333, 1.        ]),\n",
       " array([2, 1, 0]))"
      ]
     },
     "execution_count": 9,
     "metadata": {},
     "output_type": "execute_result"
    }
   ],
   "source": [
    "# Confusion Matrix\n",
    "print()\n",
    "print(\"Confusion Matrix Using Best Parameters\")\n",
    "cm = confusion_matrix(y_test, y_pred)\n",
    "plt.matshow(cm, cmap=plt.cm.Blues)\n",
    "for (i, j), z in np.ndenumerate(cm):\n",
    "    plt.text(j, i, '{:0.1f}'.format(z), ha='center', va='center')\n",
    "plt.xlabel(\"True\")\n",
    "plt.ylabel(\"Predicted\")\n",
    "plt.show()\n",
    "\n",
    "# ROC Curve\n",
    "# How to interpret this?\n",
    "roc_curve(y_test, y_pred)"
   ]
  },
  {
   "cell_type": "code",
   "execution_count": null,
   "metadata": {},
   "outputs": [],
   "source": []
  }
 ],
 "metadata": {
  "kernelspec": {
   "display_name": "Environment (conda_tensorflow_p36)",
   "language": "python",
   "name": "conda_tensorflow_p36"
  },
  "language_info": {
   "codemirror_mode": {
    "name": "ipython",
    "version": 3
   },
   "file_extension": ".py",
   "mimetype": "text/x-python",
   "name": "python",
   "nbconvert_exporter": "python",
   "pygments_lexer": "ipython3",
   "version": "3.6.5"
  }
 },
 "nbformat": 4,
 "nbformat_minor": 2
}
