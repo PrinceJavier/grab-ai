{
 "cells": [
  {
   "cell_type": "markdown",
   "metadata": {},
   "source": [
    "# Model Loading and Predicting\n",
    "by Prince Joseph Erneszer Javier"
   ]
  },
  {
   "cell_type": "code",
   "execution_count": 1,
   "metadata": {},
   "outputs": [],
   "source": [
    "import pandas as pd\n",
    "import numpy as np\n",
    "import matplotlib.pyplot as plt\n",
    "import seaborn as sns\n",
    "import glob\n",
    "import pickle\n",
    "\n",
    "from sklearn.model_selection import GridSearchCV\n",
    "from sklearn.neighbors import KNeighborsClassifier\n",
    "from sklearn.linear_model import LogisticRegression\n",
    "from sklearn.svm import SVC, LinearSVC\n",
    "from sklearn.tree import DecisionTreeClassifier\n",
    "from sklearn.ensemble import GradientBoostingClassifier, RandomForestClassifier\n",
    "from sklearn.naive_bayes import GaussianNB\n",
    "from sklearn.metrics import confusion_matrix\n",
    "from sklearn.metrics import roc_curve\n",
    "\n",
    "# Scaling\n",
    "from sklearn.preprocessing import MinMaxScaler, StandardScaler"
   ]
  },
  {
   "cell_type": "markdown",
   "metadata": {},
   "source": [
    "## Loading Data"
   ]
  },
  {
   "cell_type": "code",
   "execution_count": 3,
   "metadata": {},
   "outputs": [],
   "source": [
    "X_test = pd.read_csv(\"data/processed/X_test_5001.csv\")\n",
    "y_test = pd.read_csv(\"data/processed/y_test_5001.csv\")"
   ]
  },
  {
   "cell_type": "code",
   "execution_count": 4,
   "metadata": {},
   "outputs": [
    {
     "data": {
      "text/html": [
       "<div>\n",
       "<style scoped>\n",
       "    .dataframe tbody tr th:only-of-type {\n",
       "        vertical-align: middle;\n",
       "    }\n",
       "\n",
       "    .dataframe tbody tr th {\n",
       "        vertical-align: top;\n",
       "    }\n",
       "\n",
       "    .dataframe thead th {\n",
       "        text-align: right;\n",
       "    }\n",
       "</style>\n",
       "<table border=\"1\" class=\"dataframe\">\n",
       "  <thead>\n",
       "    <tr style=\"text-align: right;\">\n",
       "      <th></th>\n",
       "      <th>Accuracy_amin</th>\n",
       "      <th>Accuracy_amax</th>\n",
       "      <th>Accuracy_ptp</th>\n",
       "      <th>Accuracy_mean</th>\n",
       "      <th>Accuracy_std</th>\n",
       "      <th>Accuracy_skew</th>\n",
       "      <th>Accuracy_kurtosis</th>\n",
       "      <th>Bearing_amin</th>\n",
       "      <th>Bearing_amax</th>\n",
       "      <th>Bearing_ptp</th>\n",
       "      <th>...</th>\n",
       "      <th>gyro_z_skew</th>\n",
       "      <th>gyro_z_kurtosis</th>\n",
       "      <th>Speed_amin</th>\n",
       "      <th>Speed_amax</th>\n",
       "      <th>Speed_ptp</th>\n",
       "      <th>Speed_mean</th>\n",
       "      <th>Speed_std</th>\n",
       "      <th>Speed_skew</th>\n",
       "      <th>Speed_kurtosis</th>\n",
       "      <th>trip_len</th>\n",
       "    </tr>\n",
       "  </thead>\n",
       "  <tbody>\n",
       "    <tr>\n",
       "      <th>0</th>\n",
       "      <td>3.0</td>\n",
       "      <td>8.391</td>\n",
       "      <td>5.391</td>\n",
       "      <td>4.004431</td>\n",
       "      <td>0.970454</td>\n",
       "      <td>2.496676</td>\n",
       "      <td>6.776681</td>\n",
       "      <td>0.00000</td>\n",
       "      <td>355.000000</td>\n",
       "      <td>355.000000</td>\n",
       "      <td>...</td>\n",
       "      <td>1.570197</td>\n",
       "      <td>10.039042</td>\n",
       "      <td>0.00</td>\n",
       "      <td>21.364538</td>\n",
       "      <td>21.364538</td>\n",
       "      <td>8.715181</td>\n",
       "      <td>6.471265</td>\n",
       "      <td>0.216391</td>\n",
       "      <td>-1.230089</td>\n",
       "      <td>809.0</td>\n",
       "    </tr>\n",
       "    <tr>\n",
       "      <th>1</th>\n",
       "      <td>3.0</td>\n",
       "      <td>38.592</td>\n",
       "      <td>35.592</td>\n",
       "      <td>4.269997</td>\n",
       "      <td>2.767686</td>\n",
       "      <td>7.991289</td>\n",
       "      <td>74.241857</td>\n",
       "      <td>0.00000</td>\n",
       "      <td>359.000000</td>\n",
       "      <td>359.000000</td>\n",
       "      <td>...</td>\n",
       "      <td>2.759855</td>\n",
       "      <td>39.543976</td>\n",
       "      <td>-1.00</td>\n",
       "      <td>25.840000</td>\n",
       "      <td>26.840000</td>\n",
       "      <td>10.815727</td>\n",
       "      <td>8.694203</td>\n",
       "      <td>0.115695</td>\n",
       "      <td>-1.524800</td>\n",
       "      <td>798.0</td>\n",
       "    </tr>\n",
       "    <tr>\n",
       "      <th>2</th>\n",
       "      <td>10.0</td>\n",
       "      <td>30.000</td>\n",
       "      <td>20.000</td>\n",
       "      <td>10.028540</td>\n",
       "      <td>0.691596</td>\n",
       "      <td>27.184667</td>\n",
       "      <td>768.119159</td>\n",
       "      <td>11.47489</td>\n",
       "      <td>358.719421</td>\n",
       "      <td>347.244532</td>\n",
       "      <td>...</td>\n",
       "      <td>0.037153</td>\n",
       "      <td>4.397883</td>\n",
       "      <td>0.16</td>\n",
       "      <td>18.570000</td>\n",
       "      <td>18.410000</td>\n",
       "      <td>7.060845</td>\n",
       "      <td>5.213331</td>\n",
       "      <td>0.530168</td>\n",
       "      <td>-1.078048</td>\n",
       "      <td>911.0</td>\n",
       "    </tr>\n",
       "    <tr>\n",
       "      <th>3</th>\n",
       "      <td>3.0</td>\n",
       "      <td>8.000</td>\n",
       "      <td>5.000</td>\n",
       "      <td>3.656092</td>\n",
       "      <td>0.758157</td>\n",
       "      <td>1.950838</td>\n",
       "      <td>5.168846</td>\n",
       "      <td>38.00000</td>\n",
       "      <td>308.000000</td>\n",
       "      <td>270.000000</td>\n",
       "      <td>...</td>\n",
       "      <td>-0.476902</td>\n",
       "      <td>8.352040</td>\n",
       "      <td>0.00</td>\n",
       "      <td>20.890152</td>\n",
       "      <td>20.890152</td>\n",
       "      <td>6.778761</td>\n",
       "      <td>6.859656</td>\n",
       "      <td>0.510766</td>\n",
       "      <td>-1.189454</td>\n",
       "      <td>837.0</td>\n",
       "    </tr>\n",
       "    <tr>\n",
       "      <th>4</th>\n",
       "      <td>3.0</td>\n",
       "      <td>12.000</td>\n",
       "      <td>9.000</td>\n",
       "      <td>3.565319</td>\n",
       "      <td>0.876595</td>\n",
       "      <td>3.046777</td>\n",
       "      <td>16.636378</td>\n",
       "      <td>52.00000</td>\n",
       "      <td>276.000000</td>\n",
       "      <td>224.000000</td>\n",
       "      <td>...</td>\n",
       "      <td>-1.068978</td>\n",
       "      <td>10.420801</td>\n",
       "      <td>0.00</td>\n",
       "      <td>23.797161</td>\n",
       "      <td>23.797161</td>\n",
       "      <td>4.467340</td>\n",
       "      <td>6.733916</td>\n",
       "      <td>1.198001</td>\n",
       "      <td>-0.018637</td>\n",
       "      <td>1256.0</td>\n",
       "    </tr>\n",
       "  </tbody>\n",
       "</table>\n",
       "<p>5 rows × 64 columns</p>\n",
       "</div>"
      ],
      "text/plain": [
       "   Accuracy_amin  Accuracy_amax  Accuracy_ptp  Accuracy_mean  Accuracy_std  \\\n",
       "0            3.0          8.391         5.391       4.004431      0.970454   \n",
       "1            3.0         38.592        35.592       4.269997      2.767686   \n",
       "2           10.0         30.000        20.000      10.028540      0.691596   \n",
       "3            3.0          8.000         5.000       3.656092      0.758157   \n",
       "4            3.0         12.000         9.000       3.565319      0.876595   \n",
       "\n",
       "   Accuracy_skew  Accuracy_kurtosis  Bearing_amin  Bearing_amax  Bearing_ptp  \\\n",
       "0       2.496676           6.776681       0.00000    355.000000   355.000000   \n",
       "1       7.991289          74.241857       0.00000    359.000000   359.000000   \n",
       "2      27.184667         768.119159      11.47489    358.719421   347.244532   \n",
       "3       1.950838           5.168846      38.00000    308.000000   270.000000   \n",
       "4       3.046777          16.636378      52.00000    276.000000   224.000000   \n",
       "\n",
       "   ...  gyro_z_skew  gyro_z_kurtosis  Speed_amin  Speed_amax  Speed_ptp  \\\n",
       "0  ...     1.570197        10.039042        0.00   21.364538  21.364538   \n",
       "1  ...     2.759855        39.543976       -1.00   25.840000  26.840000   \n",
       "2  ...     0.037153         4.397883        0.16   18.570000  18.410000   \n",
       "3  ...    -0.476902         8.352040        0.00   20.890152  20.890152   \n",
       "4  ...    -1.068978        10.420801        0.00   23.797161  23.797161   \n",
       "\n",
       "   Speed_mean  Speed_std  Speed_skew  Speed_kurtosis  trip_len  \n",
       "0    8.715181   6.471265    0.216391       -1.230089     809.0  \n",
       "1   10.815727   8.694203    0.115695       -1.524800     798.0  \n",
       "2    7.060845   5.213331    0.530168       -1.078048     911.0  \n",
       "3    6.778761   6.859656    0.510766       -1.189454     837.0  \n",
       "4    4.467340   6.733916    1.198001       -0.018637    1256.0  \n",
       "\n",
       "[5 rows x 64 columns]"
      ]
     },
     "execution_count": 4,
     "metadata": {},
     "output_type": "execute_result"
    }
   ],
   "source": [
    "X_test.head()"
   ]
  },
  {
   "cell_type": "code",
   "execution_count": 5,
   "metadata": {},
   "outputs": [
    {
     "data": {
      "text/html": [
       "<div>\n",
       "<style scoped>\n",
       "    .dataframe tbody tr th:only-of-type {\n",
       "        vertical-align: middle;\n",
       "    }\n",
       "\n",
       "    .dataframe tbody tr th {\n",
       "        vertical-align: top;\n",
       "    }\n",
       "\n",
       "    .dataframe thead th {\n",
       "        text-align: right;\n",
       "    }\n",
       "</style>\n",
       "<table border=\"1\" class=\"dataframe\">\n",
       "  <thead>\n",
       "    <tr style=\"text-align: right;\">\n",
       "      <th></th>\n",
       "      <th>label</th>\n",
       "    </tr>\n",
       "  </thead>\n",
       "  <tbody>\n",
       "    <tr>\n",
       "      <th>0</th>\n",
       "      <td>0</td>\n",
       "    </tr>\n",
       "    <tr>\n",
       "      <th>1</th>\n",
       "      <td>0</td>\n",
       "    </tr>\n",
       "    <tr>\n",
       "      <th>2</th>\n",
       "      <td>1</td>\n",
       "    </tr>\n",
       "    <tr>\n",
       "      <th>3</th>\n",
       "      <td>0</td>\n",
       "    </tr>\n",
       "    <tr>\n",
       "      <th>4</th>\n",
       "      <td>1</td>\n",
       "    </tr>\n",
       "  </tbody>\n",
       "</table>\n",
       "</div>"
      ],
      "text/plain": [
       "   label\n",
       "0      0\n",
       "1      0\n",
       "2      1\n",
       "3      0\n",
       "4      1"
      ]
     },
     "execution_count": 5,
     "metadata": {},
     "output_type": "execute_result"
    }
   ],
   "source": [
    "y_test.head()"
   ]
  },
  {
   "cell_type": "code",
   "execution_count": 6,
   "metadata": {},
   "outputs": [
    {
     "data": {
      "text/plain": [
       "((2501, 64), (2501, 1))"
      ]
     },
     "execution_count": 6,
     "metadata": {},
     "output_type": "execute_result"
    }
   ],
   "source": [
    "X_test.shape, y_test.shape"
   ]
  },
  {
   "cell_type": "markdown",
   "metadata": {},
   "source": [
    "## Data Preprocessing"
   ]
  },
  {
   "cell_type": "markdown",
   "metadata": {},
   "source": [
    "### Feature Engineering"
   ]
  },
  {
   "cell_type": "code",
   "execution_count": null,
   "metadata": {},
   "outputs": [],
   "source": []
  },
  {
   "cell_type": "markdown",
   "metadata": {},
   "source": [
    "### Scaling"
   ]
  },
  {
   "cell_type": "markdown",
   "metadata": {},
   "source": [
    "## Model Predicting"
   ]
  },
  {
   "cell_type": "code",
   "execution_count": 6,
   "metadata": {},
   "outputs": [],
   "source": [
    "# load the model from disk\n",
    "filename = \"models/gbm.sav\"\n",
    "loaded_model = pickle.load(open(filename, 'rb'))\n",
    "result = loaded_model.score(X_test, y_test)"
   ]
  },
  {
   "cell_type": "code",
   "execution_count": 7,
   "metadata": {},
   "outputs": [
    {
     "data": {
      "text/plain": [
       "0.5884"
      ]
     },
     "execution_count": 7,
     "metadata": {},
     "output_type": "execute_result"
    }
   ],
   "source": [
    "result"
   ]
  },
  {
   "cell_type": "code",
   "execution_count": 8,
   "metadata": {},
   "outputs": [],
   "source": [
    "y_pred = loaded_model.predict(X_test)"
   ]
  },
  {
   "cell_type": "code",
   "execution_count": 9,
   "metadata": {},
   "outputs": [
    {
     "name": "stdout",
     "output_type": "stream",
     "text": [
      "\n",
      "Confusion Matrix Using Best Parameters\n"
     ]
    },
    {
     "data": {
      "image/png": "[encoded data removed]",
      "text/plain": [
       "<Figure size 288x288 with 1 Axes>"
      ]
     },
     "metadata": {},
     "output_type": "display_data"
    },
    {
     "data": {
      "text/plain": [
       "(array([0.        , 0.40635179, 1.        ]),\n",
       " array([0.        , 0.58333333, 1.        ]),\n",
       " array([2, 1, 0]))"
      ]
     },
     "execution_count": 9,
     "metadata": {},
     "output_type": "execute_result"
    }
   ],
   "source": [
    "# Confusion Matrix\n",
    "print()\n",
    "print(\"Confusion Matrix Using Best Parameters\")\n",
    "cm = confusion_matrix(y_test, y_pred)\n",
    "plt.matshow(cm, cmap=plt.cm.Blues)\n",
    "for (i, j), z in np.ndenumerate(cm):\n",
    "    plt.text(j, i, '{:0.1f}'.format(z), ha='center', va='center')\n",
    "plt.xlabel(\"True\")\n",
    "plt.ylabel(\"Predicted\")\n",
    "plt.show()\n",
    "\n",
    "# ROC Curve\n",
    "# How to interpret this?\n",
    "roc_curve(y_test, y_pred)"
   ]
  },
  {
   "cell_type": "code",
   "execution_count": null,
   "metadata": {},
   "outputs": [],
   "source": [
    "# Precision, Recall"
   ]
  },
  {
   "cell_type": "code",
   "execution_count": null,
   "metadata": {},
   "outputs": [],
   "source": [
    "# ROC Curve"
   ]
  }
 ],
 "metadata": {
  "kernelspec": {
   "display_name": "Environment (conda_tensorflow_p36)",
   "language": "python",
   "name": "conda_tensorflow_p36"
  },
  "language_info": {
   "codemirror_mode": {
    "name": "ipython",
    "version": 3
   },
   "file_extension": ".py",
   "mimetype": "text/x-python",
   "name": "python",
   "nbconvert_exporter": "python",
   "pygments_lexer": "ipython3",
   "version": "3.6.5"
  }
 },
 "nbformat": 4,
 "nbformat_minor": 2
}
