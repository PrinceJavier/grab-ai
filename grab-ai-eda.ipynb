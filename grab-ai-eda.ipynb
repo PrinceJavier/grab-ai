{
 "cells": [
  {
   "cell_type": "markdown",
   "metadata": {},
   "source": [
    "# Exploratory Data Analysis of Safety Dataset"
   ]
  },
  {
   "cell_type": "markdown",
   "metadata": {},
   "source": [
    "## Executive Summary"
   ]
  },
  {
   "cell_type": "markdown",
   "metadata": {},
   "source": [
    "## Introduction"
   ]
  },
  {
   "cell_type": "markdown",
   "metadata": {},
   "source": [
    "## About the Data"
   ]
  },
  {
   "cell_type": "markdown",
   "metadata": {},
   "source": [
    "## Preprocessing"
   ]
  },
  {
   "cell_type": "code",
   "execution_count": 46,
   "metadata": {},
   "outputs": [],
   "source": [
    "import pandas as pd\n",
    "import numpy as np\n",
    "import matplotlib.pyplot as plt\n",
    "import seaborn as sns\n",
    "import glob"
   ]
  },
  {
   "cell_type": "markdown",
   "metadata": {},
   "source": [
    "### Loading Using Pandas"
   ]
  },
  {
   "cell_type": "code",
   "execution_count": 2,
   "metadata": {},
   "outputs": [
    {
     "name": "stdout",
     "output_type": "stream",
     "text": [
      "data_dictionary.xlsx  features\tlabels\r\n"
     ]
    }
   ],
   "source": [
    "# check the dataset folders\n",
    "!ls data/safety/"
   ]
  },
  {
   "cell_type": "code",
   "execution_count": 3,
   "metadata": {},
   "outputs": [],
   "source": [
    "# read the data dictionary\n",
    "xl = pd.ExcelFile(\"data/safety/data_dictionary.xlsx\")"
   ]
  },
  {
   "cell_type": "code",
   "execution_count": 4,
   "metadata": {},
   "outputs": [
    {
     "data": {
      "text/plain": [
       "['telematics data', 'labels']"
      ]
     },
     "execution_count": 4,
     "metadata": {},
     "output_type": "execute_result"
    }
   ],
   "source": [
    "# sheet names\n",
    "xl.sheet_names"
   ]
  },
  {
   "cell_type": "code",
   "execution_count": 5,
   "metadata": {},
   "outputs": [
    {
     "data": {
      "text/html": [
       "<div>\n",
       "<style scoped>\n",
       "    .dataframe tbody tr th:only-of-type {\n",
       "        vertical-align: middle;\n",
       "    }\n",
       "\n",
       "    .dataframe tbody tr th {\n",
       "        vertical-align: top;\n",
       "    }\n",
       "\n",
       "    .dataframe thead th {\n",
       "        text-align: right;\n",
       "    }\n",
       "</style>\n",
       "<table border=\"1\" class=\"dataframe\">\n",
       "  <thead>\n",
       "    <tr style=\"text-align: right;\">\n",
       "      <th></th>\n",
       "      <th>Unnamed: 0</th>\n",
       "      <th>bookingID</th>\n",
       "      <th>Accuracy</th>\n",
       "      <th>Bearing</th>\n",
       "      <th>acceleration_x</th>\n",
       "      <th>acceleration_y</th>\n",
       "      <th>acceleration_z</th>\n",
       "      <th>gyro_x</th>\n",
       "      <th>gyro_y</th>\n",
       "      <th>gyro_z</th>\n",
       "      <th>second</th>\n",
       "      <th>Speed</th>\n",
       "    </tr>\n",
       "  </thead>\n",
       "  <tbody>\n",
       "    <tr>\n",
       "      <th>0</th>\n",
       "      <td>description</td>\n",
       "      <td>trip id</td>\n",
       "      <td>accuracy inferred by GPS in meters</td>\n",
       "      <td>GPS bearing</td>\n",
       "      <td>accelerometer reading in x axis (m/s2)</td>\n",
       "      <td>accelerometer reading in y axis (m/s2)</td>\n",
       "      <td>accelerometer reading in z axis (m/s2)</td>\n",
       "      <td>gyroscope reading in x axis (rad/s)</td>\n",
       "      <td>gyroscope reading in y axis (rad/s)</td>\n",
       "      <td>gyroscope reading in z axis (rad/s)</td>\n",
       "      <td>time of the record by number of seconds</td>\n",
       "      <td>speed measured by GPS in m/s</td>\n",
       "    </tr>\n",
       "    <tr>\n",
       "      <th>1</th>\n",
       "      <td>samples</td>\n",
       "      <td>1</td>\n",
       "      <td>5</td>\n",
       "      <td>303.695</td>\n",
       "      <td>-0.00636292</td>\n",
       "      <td>-0.393829</td>\n",
       "      <td>-0.922379</td>\n",
       "      <td>-0.020000606102604086,0.03205247529964867,-0.0...</td>\n",
       "      <td>NaN</td>\n",
       "      <td>NaN</td>\n",
       "      <td>0</td>\n",
       "      <td>0.57</td>\n",
       "    </tr>\n",
       "    <tr>\n",
       "      <th>2</th>\n",
       "      <td>NaN</td>\n",
       "      <td>1</td>\n",
       "      <td>10</td>\n",
       "      <td>325.39</td>\n",
       "      <td>0.183914</td>\n",
       "      <td>-0.355026</td>\n",
       "      <td>-0.92041</td>\n",
       "      <td>-0.028598887998033916,0.025720543491876274,-0....</td>\n",
       "      <td>NaN</td>\n",
       "      <td>NaN</td>\n",
       "      <td>1</td>\n",
       "      <td>0.28</td>\n",
       "    </tr>\n",
       "    <tr>\n",
       "      <th>3</th>\n",
       "      <td>NaN</td>\n",
       "      <td>1</td>\n",
       "      <td>5</td>\n",
       "      <td>303.695</td>\n",
       "      <td>-0.00636292</td>\n",
       "      <td>-0.392944</td>\n",
       "      <td>-0.922226</td>\n",
       "      <td>-0.01894040167264354,0.030980020328673762,-0.0...</td>\n",
       "      <td>NaN</td>\n",
       "      <td>NaN</td>\n",
       "      <td>2</td>\n",
       "      <td>0.57</td>\n",
       "    </tr>\n",
       "    <tr>\n",
       "      <th>4</th>\n",
       "      <td>NaN</td>\n",
       "      <td>1</td>\n",
       "      <td>10</td>\n",
       "      <td>324.23</td>\n",
       "      <td>0.165924</td>\n",
       "      <td>-0.332092</td>\n",
       "      <td>-0.920578</td>\n",
       "      <td>-0.0577245492596855,0.002558232543130116,0.014...</td>\n",
       "      <td>NaN</td>\n",
       "      <td>NaN</td>\n",
       "      <td>3</td>\n",
       "      <td>0.28</td>\n",
       "    </tr>\n",
       "  </tbody>\n",
       "</table>\n",
       "</div>"
      ],
      "text/plain": [
       "    Unnamed: 0 bookingID                            Accuracy      Bearing  \\\n",
       "0  description   trip id  accuracy inferred by GPS in meters  GPS bearing   \n",
       "1      samples         1                                   5      303.695   \n",
       "2          NaN         1                                  10       325.39   \n",
       "3          NaN         1                                   5      303.695   \n",
       "4          NaN         1                                  10       324.23   \n",
       "\n",
       "                           acceleration_x  \\\n",
       "0  accelerometer reading in x axis (m/s2)   \n",
       "1                             -0.00636292   \n",
       "2                                0.183914   \n",
       "3                             -0.00636292   \n",
       "4                                0.165924   \n",
       "\n",
       "                           acceleration_y  \\\n",
       "0  accelerometer reading in y axis (m/s2)   \n",
       "1                               -0.393829   \n",
       "2                               -0.355026   \n",
       "3                               -0.392944   \n",
       "4                               -0.332092   \n",
       "\n",
       "                           acceleration_z  \\\n",
       "0  accelerometer reading in z axis (m/s2)   \n",
       "1                               -0.922379   \n",
       "2                                -0.92041   \n",
       "3                               -0.922226   \n",
       "4                               -0.920578   \n",
       "\n",
       "                                              gyro_x  \\\n",
       "0                gyroscope reading in x axis (rad/s)   \n",
       "1  -0.020000606102604086,0.03205247529964867,-0.0...   \n",
       "2  -0.028598887998033916,0.025720543491876274,-0....   \n",
       "3  -0.01894040167264354,0.030980020328673762,-0.0...   \n",
       "4  -0.0577245492596855,0.002558232543130116,0.014...   \n",
       "\n",
       "                                gyro_y                               gyro_z  \\\n",
       "0  gyroscope reading in y axis (rad/s)  gyroscope reading in z axis (rad/s)   \n",
       "1                                  NaN                                  NaN   \n",
       "2                                  NaN                                  NaN   \n",
       "3                                  NaN                                  NaN   \n",
       "4                                  NaN                                  NaN   \n",
       "\n",
       "                                    second                         Speed  \n",
       "0  time of the record by number of seconds  speed measured by GPS in m/s  \n",
       "1                                        0                          0.57  \n",
       "2                                        1                          0.28  \n",
       "3                                        2                          0.57  \n",
       "4                                        3                          0.28  "
      ]
     },
     "execution_count": 5,
     "metadata": {},
     "output_type": "execute_result"
    }
   ],
   "source": [
    "# let's see the first sheet\n",
    "xl.parse('telematics data').head()"
   ]
  },
  {
   "cell_type": "code",
   "execution_count": 6,
   "metadata": {},
   "outputs": [
    {
     "data": {
      "text/html": [
       "<div>\n",
       "<style scoped>\n",
       "    .dataframe tbody tr th:only-of-type {\n",
       "        vertical-align: middle;\n",
       "    }\n",
       "\n",
       "    .dataframe tbody tr th {\n",
       "        vertical-align: top;\n",
       "    }\n",
       "\n",
       "    .dataframe thead th {\n",
       "        text-align: right;\n",
       "    }\n",
       "</style>\n",
       "<table border=\"1\" class=\"dataframe\">\n",
       "  <thead>\n",
       "    <tr style=\"text-align: right;\">\n",
       "      <th></th>\n",
       "      <th>bookingID</th>\n",
       "      <th>label</th>\n",
       "    </tr>\n",
       "  </thead>\n",
       "  <tbody>\n",
       "    <tr>\n",
       "      <th>0</th>\n",
       "      <td>1</td>\n",
       "      <td>1</td>\n",
       "    </tr>\n",
       "    <tr>\n",
       "      <th>1</th>\n",
       "      <td>2</td>\n",
       "      <td>0</td>\n",
       "    </tr>\n",
       "    <tr>\n",
       "      <th>2</th>\n",
       "      <td>3</td>\n",
       "      <td>0</td>\n",
       "    </tr>\n",
       "    <tr>\n",
       "      <th>3</th>\n",
       "      <td>4</td>\n",
       "      <td>0</td>\n",
       "    </tr>\n",
       "    <tr>\n",
       "      <th>4</th>\n",
       "      <td>5</td>\n",
       "      <td>1</td>\n",
       "    </tr>\n",
       "  </tbody>\n",
       "</table>\n",
       "</div>"
      ],
      "text/plain": [
       "   bookingID  label\n",
       "0          1      1\n",
       "1          2      0\n",
       "2          3      0\n",
       "3          4      0\n",
       "4          5      1"
      ]
     },
     "execution_count": 6,
     "metadata": {},
     "output_type": "execute_result"
    }
   ],
   "source": [
    "# let's see the second sheet\n",
    "xl.parse('labels').head()"
   ]
  },
  {
   "cell_type": "code",
   "execution_count": 7,
   "metadata": {},
   "outputs": [
    {
     "name": "stdout",
     "output_type": "stream",
     "text": [
      "part-00000-e6120af0-10c2-4248-97c4-81baf4304e5c-c000.csv\r\n",
      "part-00001-e6120af0-10c2-4248-97c4-81baf4304e5c-c000.csv\r\n",
      "part-00002-e6120af0-10c2-4248-97c4-81baf4304e5c-c000.csv\r\n",
      "part-00003-e6120af0-10c2-4248-97c4-81baf4304e5c-c000.csv\r\n",
      "part-00004-e6120af0-10c2-4248-97c4-81baf4304e5c-c000.csv\r\n",
      "part-00005-e6120af0-10c2-4248-97c4-81baf4304e5c-c000.csv\r\n",
      "part-00006-e6120af0-10c2-4248-97c4-81baf4304e5c-c000.csv\r\n",
      "part-00007-e6120af0-10c2-4248-97c4-81baf4304e5c-c000.csv\r\n",
      "part-00008-e6120af0-10c2-4248-97c4-81baf4304e5c-c000.csv\r\n",
      "part-00009-e6120af0-10c2-4248-97c4-81baf4304e5c-c000.csv\r\n"
     ]
    }
   ],
   "source": [
    "# let's see the contents of features and labels folder\n",
    "!ls data/safety/features\n",
    "\n",
    "# there are many csvs, we either want to run this in Pyspark \n",
    "# or we can combine them into just one Pandas dataset"
   ]
  },
  {
   "cell_type": "code",
   "execution_count": 8,
   "metadata": {},
   "outputs": [
    {
     "name": "stdout",
     "output_type": "stream",
     "text": [
      "part-00000-e9445087-aa0a-433b-a7f6-7f4c19d78ad6-c000.csv\r\n"
     ]
    }
   ],
   "source": [
    "!ls data/safety/labels"
   ]
  },
  {
   "cell_type": "code",
   "execution_count": 9,
   "metadata": {},
   "outputs": [
    {
     "data": {
      "text/html": [
       "<div>\n",
       "<style scoped>\n",
       "    .dataframe tbody tr th:only-of-type {\n",
       "        vertical-align: middle;\n",
       "    }\n",
       "\n",
       "    .dataframe tbody tr th {\n",
       "        vertical-align: top;\n",
       "    }\n",
       "\n",
       "    .dataframe thead th {\n",
       "        text-align: right;\n",
       "    }\n",
       "</style>\n",
       "<table border=\"1\" class=\"dataframe\">\n",
       "  <thead>\n",
       "    <tr style=\"text-align: right;\">\n",
       "      <th></th>\n",
       "      <th>bookingID</th>\n",
       "      <th>Accuracy</th>\n",
       "      <th>Bearing</th>\n",
       "      <th>acceleration_x</th>\n",
       "      <th>acceleration_y</th>\n",
       "      <th>acceleration_z</th>\n",
       "      <th>gyro_x</th>\n",
       "      <th>gyro_y</th>\n",
       "      <th>gyro_z</th>\n",
       "      <th>second</th>\n",
       "      <th>Speed</th>\n",
       "    </tr>\n",
       "  </thead>\n",
       "  <tbody>\n",
       "    <tr>\n",
       "      <th>0</th>\n",
       "      <td>1202590843006</td>\n",
       "      <td>3.000</td>\n",
       "      <td>353.0</td>\n",
       "      <td>1.228867</td>\n",
       "      <td>8.900100</td>\n",
       "      <td>3.986968</td>\n",
       "      <td>0.008221</td>\n",
       "      <td>0.002269</td>\n",
       "      <td>-0.009966</td>\n",
       "      <td>1362.0</td>\n",
       "      <td>0.000000</td>\n",
       "    </tr>\n",
       "    <tr>\n",
       "      <th>1</th>\n",
       "      <td>274877907034</td>\n",
       "      <td>9.293</td>\n",
       "      <td>17.0</td>\n",
       "      <td>0.032775</td>\n",
       "      <td>8.659933</td>\n",
       "      <td>4.737300</td>\n",
       "      <td>0.024629</td>\n",
       "      <td>0.004028</td>\n",
       "      <td>-0.010858</td>\n",
       "      <td>257.0</td>\n",
       "      <td>0.190000</td>\n",
       "    </tr>\n",
       "    <tr>\n",
       "      <th>2</th>\n",
       "      <td>884763263056</td>\n",
       "      <td>3.000</td>\n",
       "      <td>189.0</td>\n",
       "      <td>1.139675</td>\n",
       "      <td>9.545974</td>\n",
       "      <td>1.951334</td>\n",
       "      <td>-0.006899</td>\n",
       "      <td>-0.015080</td>\n",
       "      <td>0.001122</td>\n",
       "      <td>973.0</td>\n",
       "      <td>0.667059</td>\n",
       "    </tr>\n",
       "    <tr>\n",
       "      <th>3</th>\n",
       "      <td>1073741824054</td>\n",
       "      <td>3.900</td>\n",
       "      <td>126.0</td>\n",
       "      <td>3.871543</td>\n",
       "      <td>10.386364</td>\n",
       "      <td>-0.136474</td>\n",
       "      <td>0.001344</td>\n",
       "      <td>-0.339601</td>\n",
       "      <td>-0.017956</td>\n",
       "      <td>902.0</td>\n",
       "      <td>7.913285</td>\n",
       "    </tr>\n",
       "    <tr>\n",
       "      <th>4</th>\n",
       "      <td>1056561954943</td>\n",
       "      <td>3.900</td>\n",
       "      <td>50.0</td>\n",
       "      <td>-0.112882</td>\n",
       "      <td>10.550960</td>\n",
       "      <td>-1.560110</td>\n",
       "      <td>0.130568</td>\n",
       "      <td>-0.061697</td>\n",
       "      <td>0.161530</td>\n",
       "      <td>820.0</td>\n",
       "      <td>20.419409</td>\n",
       "    </tr>\n",
       "  </tbody>\n",
       "</table>\n",
       "</div>"
      ],
      "text/plain": [
       "       bookingID  Accuracy  Bearing  acceleration_x  acceleration_y  \\\n",
       "0  1202590843006     3.000    353.0        1.228867        8.900100   \n",
       "1   274877907034     9.293     17.0        0.032775        8.659933   \n",
       "2   884763263056     3.000    189.0        1.139675        9.545974   \n",
       "3  1073741824054     3.900    126.0        3.871543       10.386364   \n",
       "4  1056561954943     3.900     50.0       -0.112882       10.550960   \n",
       "\n",
       "   acceleration_z    gyro_x    gyro_y    gyro_z  second      Speed  \n",
       "0        3.986968  0.008221  0.002269 -0.009966  1362.0   0.000000  \n",
       "1        4.737300  0.024629  0.004028 -0.010858   257.0   0.190000  \n",
       "2        1.951334 -0.006899 -0.015080  0.001122   973.0   0.667059  \n",
       "3       -0.136474  0.001344 -0.339601 -0.017956   902.0   7.913285  \n",
       "4       -1.560110  0.130568 -0.061697  0.161530   820.0  20.419409  "
      ]
     },
     "execution_count": 9,
     "metadata": {},
     "output_type": "execute_result"
    }
   ],
   "source": [
    "# let's load one features csv, there are many csvs we either\n",
    "_ = pd.read_csv(\"data/safety/features/part-00000-e6120af0-10c2-4248-97c4-81baf4304e5c-c000.csv\")\n",
    "_.head()"
   ]
  },
  {
   "cell_type": "code",
   "execution_count": 33,
   "metadata": {},
   "outputs": [
    {
     "data": {
      "text/html": [
       "<div>\n",
       "<style scoped>\n",
       "    .dataframe tbody tr th:only-of-type {\n",
       "        vertical-align: middle;\n",
       "    }\n",
       "\n",
       "    .dataframe tbody tr th {\n",
       "        vertical-align: top;\n",
       "    }\n",
       "\n",
       "    .dataframe thead th {\n",
       "        text-align: right;\n",
       "    }\n",
       "</style>\n",
       "<table border=\"1\" class=\"dataframe\">\n",
       "  <thead>\n",
       "    <tr style=\"text-align: right;\">\n",
       "      <th></th>\n",
       "      <th>bookingID</th>\n",
       "      <th>label</th>\n",
       "    </tr>\n",
       "  </thead>\n",
       "  <tbody>\n",
       "    <tr>\n",
       "      <th>0</th>\n",
       "      <td>111669149733</td>\n",
       "      <td>0</td>\n",
       "    </tr>\n",
       "    <tr>\n",
       "      <th>1</th>\n",
       "      <td>335007449205</td>\n",
       "      <td>1</td>\n",
       "    </tr>\n",
       "    <tr>\n",
       "      <th>2</th>\n",
       "      <td>171798691856</td>\n",
       "      <td>0</td>\n",
       "    </tr>\n",
       "    <tr>\n",
       "      <th>3</th>\n",
       "      <td>1520418422900</td>\n",
       "      <td>0</td>\n",
       "    </tr>\n",
       "    <tr>\n",
       "      <th>4</th>\n",
       "      <td>798863917116</td>\n",
       "      <td>0</td>\n",
       "    </tr>\n",
       "  </tbody>\n",
       "</table>\n",
       "</div>"
      ],
      "text/plain": [
       "       bookingID  label\n",
       "0   111669149733      0\n",
       "1   335007449205      1\n",
       "2   171798691856      0\n",
       "3  1520418422900      0\n",
       "4   798863917116      0"
      ]
     },
     "execution_count": 33,
     "metadata": {},
     "output_type": "execute_result"
    }
   ],
   "source": [
    "# let's load the labels csv\n",
    "labels = pd.read_csv(\"data/safety/labels/part-00000-e9445087-aa0a-433b-a7f6-7f4c19d78ad6-c000.csv\")\n",
    "\n",
    "# drop duplicates\n",
    "labels = labels.dropna()\n",
    "\n",
    "labels.head()"
   ]
  },
  {
   "cell_type": "code",
   "execution_count": 40,
   "metadata": {},
   "outputs": [
    {
     "data": {
      "text/plain": [
       "bookingID    0\n",
       "label        0\n",
       "dtype: int64"
      ]
     },
     "execution_count": 40,
     "metadata": {},
     "output_type": "execute_result"
    }
   ],
   "source": [
    "# how many null\n",
    "labels.isnull().sum()"
   ]
  },
  {
   "cell_type": "code",
   "execution_count": 34,
   "metadata": {},
   "outputs": [
    {
     "data": {
      "text/plain": [
       "20018"
      ]
     },
     "execution_count": 34,
     "metadata": {},
     "output_type": "execute_result"
    }
   ],
   "source": [
    "# how many labels are there?\n",
    "len(labels)"
   ]
  },
  {
   "cell_type": "code",
   "execution_count": 35,
   "metadata": {},
   "outputs": [
    {
     "data": {
      "text/plain": [
       "20000"
      ]
     },
     "execution_count": 35,
     "metadata": {},
     "output_type": "execute_result"
    }
   ],
   "source": [
    "# how many unique bookings are there?\n",
    "len(labels.bookingID.unique())"
   ]
  },
  {
   "cell_type": "code",
   "execution_count": 36,
   "metadata": {},
   "outputs": [],
   "source": [
    "# load all paths into list\n",
    "paths = glob.glob(\"data/safety/features/*.csv\")\n",
    "\n",
    "# let's combine all feature into one pandas dataframe\n",
    "df_feats = pd.DataFrame()\n",
    "\n",
    "for path in paths:\n",
    "    _ = pd.read_csv(path, header=\"infer\")\n",
    "    df_feats = pd.concat([df_feats, _])"
   ]
  },
  {
   "cell_type": "code",
   "execution_count": 37,
   "metadata": {},
   "outputs": [
    {
     "data": {
      "text/html": [
       "<div>\n",
       "<style scoped>\n",
       "    .dataframe tbody tr th:only-of-type {\n",
       "        vertical-align: middle;\n",
       "    }\n",
       "\n",
       "    .dataframe tbody tr th {\n",
       "        vertical-align: top;\n",
       "    }\n",
       "\n",
       "    .dataframe thead th {\n",
       "        text-align: right;\n",
       "    }\n",
       "</style>\n",
       "<table border=\"1\" class=\"dataframe\">\n",
       "  <thead>\n",
       "    <tr style=\"text-align: right;\">\n",
       "      <th></th>\n",
       "      <th>bookingID</th>\n",
       "      <th>Accuracy</th>\n",
       "      <th>Bearing</th>\n",
       "      <th>acceleration_x</th>\n",
       "      <th>acceleration_y</th>\n",
       "      <th>acceleration_z</th>\n",
       "      <th>gyro_x</th>\n",
       "      <th>gyro_y</th>\n",
       "      <th>gyro_z</th>\n",
       "      <th>second</th>\n",
       "      <th>Speed</th>\n",
       "    </tr>\n",
       "  </thead>\n",
       "  <tbody>\n",
       "    <tr>\n",
       "      <th>0</th>\n",
       "      <td>1657857376413</td>\n",
       "      <td>10.000</td>\n",
       "      <td>128.234833</td>\n",
       "      <td>0.780280</td>\n",
       "      <td>-9.869086</td>\n",
       "      <td>-0.019440</td>\n",
       "      <td>-0.143924</td>\n",
       "      <td>-0.016662</td>\n",
       "      <td>-0.016986</td>\n",
       "      <td>497.0</td>\n",
       "      <td>16.030001</td>\n",
       "    </tr>\n",
       "    <tr>\n",
       "      <th>1</th>\n",
       "      <td>25769803913</td>\n",
       "      <td>6.000</td>\n",
       "      <td>286.368225</td>\n",
       "      <td>9.086713</td>\n",
       "      <td>0.309390</td>\n",
       "      <td>-3.506772</td>\n",
       "      <td>0.008518</td>\n",
       "      <td>-0.006350</td>\n",
       "      <td>0.003299</td>\n",
       "      <td>120.0</td>\n",
       "      <td>2.089626</td>\n",
       "    </tr>\n",
       "    <tr>\n",
       "      <th>2</th>\n",
       "      <td>1434519076946</td>\n",
       "      <td>12.136</td>\n",
       "      <td>339.000000</td>\n",
       "      <td>0.946808</td>\n",
       "      <td>9.609665</td>\n",
       "      <td>2.311615</td>\n",
       "      <td>-0.011124</td>\n",
       "      <td>-0.320435</td>\n",
       "      <td>-0.062027</td>\n",
       "      <td>76.0</td>\n",
       "      <td>5.540000</td>\n",
       "    </tr>\n",
       "    <tr>\n",
       "      <th>3</th>\n",
       "      <td>283467841697</td>\n",
       "      <td>3.000</td>\n",
       "      <td>186.000000</td>\n",
       "      <td>0.900247</td>\n",
       "      <td>7.996878</td>\n",
       "      <td>5.286559</td>\n",
       "      <td>0.000874</td>\n",
       "      <td>-0.009702</td>\n",
       "      <td>0.020248</td>\n",
       "      <td>22.0</td>\n",
       "      <td>0.276720</td>\n",
       "    </tr>\n",
       "    <tr>\n",
       "      <th>4</th>\n",
       "      <td>481036337236</td>\n",
       "      <td>3.090</td>\n",
       "      <td>18.000000</td>\n",
       "      <td>0.045000</td>\n",
       "      <td>9.882000</td>\n",
       "      <td>0.173000</td>\n",
       "      <td>0.038839</td>\n",
       "      <td>-0.284030</td>\n",
       "      <td>-0.078576</td>\n",
       "      <td>1522.0</td>\n",
       "      <td>1.306365</td>\n",
       "    </tr>\n",
       "  </tbody>\n",
       "</table>\n",
       "</div>"
      ],
      "text/plain": [
       "       bookingID  Accuracy     Bearing  acceleration_x  acceleration_y  \\\n",
       "0  1657857376413    10.000  128.234833        0.780280       -9.869086   \n",
       "1    25769803913     6.000  286.368225        9.086713        0.309390   \n",
       "2  1434519076946    12.136  339.000000        0.946808        9.609665   \n",
       "3   283467841697     3.000  186.000000        0.900247        7.996878   \n",
       "4   481036337236     3.090   18.000000        0.045000        9.882000   \n",
       "\n",
       "   acceleration_z    gyro_x    gyro_y    gyro_z  second      Speed  \n",
       "0       -0.019440 -0.143924 -0.016662 -0.016986   497.0  16.030001  \n",
       "1       -3.506772  0.008518 -0.006350  0.003299   120.0   2.089626  \n",
       "2        2.311615 -0.011124 -0.320435 -0.062027    76.0   5.540000  \n",
       "3        5.286559  0.000874 -0.009702  0.020248    22.0   0.276720  \n",
       "4        0.173000  0.038839 -0.284030 -0.078576  1522.0   1.306365  "
      ]
     },
     "execution_count": 37,
     "metadata": {},
     "output_type": "execute_result"
    }
   ],
   "source": [
    "df_feats.head()"
   ]
  },
  {
   "cell_type": "code",
   "execution_count": 38,
   "metadata": {},
   "outputs": [
    {
     "data": {
      "text/plain": [
       "(16135561, 11)"
      ]
     },
     "execution_count": 38,
     "metadata": {},
     "output_type": "execute_result"
    }
   ],
   "source": [
    "df_feats.shape"
   ]
  },
  {
   "cell_type": "code",
   "execution_count": 39,
   "metadata": {},
   "outputs": [],
   "source": [
    "# drop duplicates\n",
    "df_feats = df_feats.drop_duplicates()"
   ]
  },
  {
   "cell_type": "code",
   "execution_count": 24,
   "metadata": {},
   "outputs": [
    {
     "data": {
      "text/plain": [
       "bookingID         0\n",
       "Accuracy          0\n",
       "Bearing           0\n",
       "acceleration_x    0\n",
       "acceleration_y    0\n",
       "acceleration_z    0\n",
       "gyro_x            0\n",
       "gyro_y            0\n",
       "gyro_z            0\n",
       "second            0\n",
       "Speed             0\n",
       "dtype: int64"
      ]
     },
     "execution_count": 24,
     "metadata": {},
     "output_type": "execute_result"
    }
   ],
   "source": [
    "# count null values\n",
    "df_feats.isnull().sum()"
   ]
  },
  {
   "cell_type": "code",
   "execution_count": 30,
   "metadata": {},
   "outputs": [],
   "source": [
    "# left join with labels\n",
    "df_feats_labels = pd.merge(df_feats, labels, how=\"outer\", on=\"bookingID\")"
   ]
  },
  {
   "cell_type": "code",
   "execution_count": 31,
   "metadata": {},
   "outputs": [
    {
     "data": {
      "text/plain": [
       "(16154418, 12)"
      ]
     },
     "execution_count": 31,
     "metadata": {},
     "output_type": "execute_result"
    }
   ],
   "source": [
    "df_feats_labels.shape"
   ]
  },
  {
   "cell_type": "code",
   "execution_count": 32,
   "metadata": {},
   "outputs": [
    {
     "data": {
      "text/html": [
       "<div>\n",
       "<style scoped>\n",
       "    .dataframe tbody tr th:only-of-type {\n",
       "        vertical-align: middle;\n",
       "    }\n",
       "\n",
       "    .dataframe tbody tr th {\n",
       "        vertical-align: top;\n",
       "    }\n",
       "\n",
       "    .dataframe thead th {\n",
       "        text-align: right;\n",
       "    }\n",
       "</style>\n",
       "<table border=\"1\" class=\"dataframe\">\n",
       "  <thead>\n",
       "    <tr style=\"text-align: right;\">\n",
       "      <th></th>\n",
       "      <th>bookingID</th>\n",
       "      <th>Accuracy</th>\n",
       "      <th>Bearing</th>\n",
       "      <th>acceleration_x</th>\n",
       "      <th>acceleration_y</th>\n",
       "      <th>acceleration_z</th>\n",
       "      <th>gyro_x</th>\n",
       "      <th>gyro_y</th>\n",
       "      <th>gyro_z</th>\n",
       "      <th>second</th>\n",
       "      <th>Speed</th>\n",
       "      <th>label</th>\n",
       "    </tr>\n",
       "  </thead>\n",
       "  <tbody>\n",
       "    <tr>\n",
       "      <th>0</th>\n",
       "      <td>1657857376413</td>\n",
       "      <td>10.0</td>\n",
       "      <td>128.234833</td>\n",
       "      <td>0.780280</td>\n",
       "      <td>-9.869086</td>\n",
       "      <td>-0.019440</td>\n",
       "      <td>-0.143924</td>\n",
       "      <td>-0.016662</td>\n",
       "      <td>-0.016986</td>\n",
       "      <td>497.0</td>\n",
       "      <td>16.030001</td>\n",
       "      <td>0</td>\n",
       "    </tr>\n",
       "    <tr>\n",
       "      <th>1</th>\n",
       "      <td>1657857376413</td>\n",
       "      <td>10.0</td>\n",
       "      <td>128.288040</td>\n",
       "      <td>0.187817</td>\n",
       "      <td>-9.088657</td>\n",
       "      <td>-0.063852</td>\n",
       "      <td>-0.000822</td>\n",
       "      <td>0.150899</td>\n",
       "      <td>-0.027601</td>\n",
       "      <td>431.0</td>\n",
       "      <td>15.880000</td>\n",
       "      <td>0</td>\n",
       "    </tr>\n",
       "    <tr>\n",
       "      <th>2</th>\n",
       "      <td>1657857376413</td>\n",
       "      <td>10.0</td>\n",
       "      <td>315.971802</td>\n",
       "      <td>0.064899</td>\n",
       "      <td>-9.744971</td>\n",
       "      <td>0.713138</td>\n",
       "      <td>-0.014979</td>\n",
       "      <td>0.006265</td>\n",
       "      <td>-0.012791</td>\n",
       "      <td>267.0</td>\n",
       "      <td>1.570000</td>\n",
       "      <td>0</td>\n",
       "    </tr>\n",
       "    <tr>\n",
       "      <th>3</th>\n",
       "      <td>1657857376413</td>\n",
       "      <td>10.0</td>\n",
       "      <td>195.206451</td>\n",
       "      <td>0.115591</td>\n",
       "      <td>-8.950635</td>\n",
       "      <td>-0.126208</td>\n",
       "      <td>-0.167526</td>\n",
       "      <td>-0.018366</td>\n",
       "      <td>-0.160001</td>\n",
       "      <td>251.0</td>\n",
       "      <td>2.320000</td>\n",
       "      <td>0</td>\n",
       "    </tr>\n",
       "    <tr>\n",
       "      <th>4</th>\n",
       "      <td>1657857376413</td>\n",
       "      <td>10.0</td>\n",
       "      <td>78.804138</td>\n",
       "      <td>0.033496</td>\n",
       "      <td>-9.730914</td>\n",
       "      <td>0.436346</td>\n",
       "      <td>0.001044</td>\n",
       "      <td>0.002088</td>\n",
       "      <td>-0.011740</td>\n",
       "      <td>45.0</td>\n",
       "      <td>2.720000</td>\n",
       "      <td>0</td>\n",
       "    </tr>\n",
       "  </tbody>\n",
       "</table>\n",
       "</div>"
      ],
      "text/plain": [
       "       bookingID  Accuracy     Bearing  acceleration_x  acceleration_y  \\\n",
       "0  1657857376413      10.0  128.234833        0.780280       -9.869086   \n",
       "1  1657857376413      10.0  128.288040        0.187817       -9.088657   \n",
       "2  1657857376413      10.0  315.971802        0.064899       -9.744971   \n",
       "3  1657857376413      10.0  195.206451        0.115591       -8.950635   \n",
       "4  1657857376413      10.0   78.804138        0.033496       -9.730914   \n",
       "\n",
       "   acceleration_z    gyro_x    gyro_y    gyro_z  second      Speed  label  \n",
       "0       -0.019440 -0.143924 -0.016662 -0.016986   497.0  16.030001      0  \n",
       "1       -0.063852 -0.000822  0.150899 -0.027601   431.0  15.880000      0  \n",
       "2        0.713138 -0.014979  0.006265 -0.012791   267.0   1.570000      0  \n",
       "3       -0.126208 -0.167526 -0.018366 -0.160001   251.0   2.320000      0  \n",
       "4        0.436346  0.001044  0.002088 -0.011740    45.0   2.720000      0  "
      ]
     },
     "execution_count": 32,
     "metadata": {},
     "output_type": "execute_result"
    }
   ],
   "source": [
    "df_feats_labels.head()"
   ]
  },
  {
   "cell_type": "code",
   "execution_count": 41,
   "metadata": {},
   "outputs": [
    {
     "name": "stdout",
     "output_type": "stream",
     "text": [
      "<class 'pandas.core.frame.DataFrame'>\n",
      "Int64Index: 16154418 entries, 0 to 16154417\n",
      "Data columns (total 12 columns):\n",
      "bookingID         int64\n",
      "Accuracy          float64\n",
      "Bearing           float64\n",
      "acceleration_x    float64\n",
      "acceleration_y    float64\n",
      "acceleration_z    float64\n",
      "gyro_x            float64\n",
      "gyro_y            float64\n",
      "gyro_z            float64\n",
      "second            float64\n",
      "Speed             float64\n",
      "label             int64\n",
      "dtypes: float64(10), int64(2)\n",
      "memory usage: 1.6 GB\n"
     ]
    }
   ],
   "source": [
    "df_feats_labels.info()"
   ]
  },
  {
   "cell_type": "markdown",
   "metadata": {},
   "source": [
    "### Loading using Spark"
   ]
  },
  {
   "cell_type": "code",
   "execution_count": null,
   "metadata": {},
   "outputs": [],
   "source": [
    "# # import pyspark for parallel processing of data\n",
    "# # Import SparkContext from pyspark - used to connect to cluster\n",
    "# from pyspark import SparkContext, SQLContext\n",
    "\n",
    "# # Import SparkSession from pyspark.sql\n",
    "# from pyspark.sql import SparkSession\n",
    "\n",
    "# # other functions\n",
    "# from pyspark.sql.functions import isnan, when, count, col"
   ]
  },
  {
   "cell_type": "code",
   "execution_count": null,
   "metadata": {},
   "outputs": [],
   "source": [
    "# # sparkcontext\n",
    "# sc = SparkContext.getOrCreate()\n",
    "\n",
    "# # Create sparksession\n",
    "# # Create spark\n",
    "# spark = SparkSession.builder.getOrCreate()"
   ]
  },
  {
   "cell_type": "code",
   "execution_count": null,
   "metadata": {},
   "outputs": [],
   "source": [
    "# # creating a spark dataframe\n",
    "# feats = spark.read.csv(\"data/safety/features/*.csv\", header=True, inferSchema=True)\n",
    "\n",
    "# # create table named feats\n",
    "# feats.createOrReplaceTempView(\"feats\")\n",
    "\n",
    "# # check that the type is a dataframe\n",
    "# type(feats)"
   ]
  },
  {
   "cell_type": "code",
   "execution_count": null,
   "metadata": {},
   "outputs": [],
   "source": [
    "# # showing the first 5 items\n",
    "# feats.show(5)"
   ]
  },
  {
   "cell_type": "code",
   "execution_count": null,
   "metadata": {},
   "outputs": [],
   "source": [
    "# # showing the columns\n",
    "# feats.columns"
   ]
  },
  {
   "cell_type": "code",
   "execution_count": null,
   "metadata": {},
   "outputs": [],
   "source": [
    "# # counting how many rows\n",
    "# query = \"SELECT COUNT(*) FROM feats\"\n",
    "# spark.sql(query).show()"
   ]
  },
  {
   "cell_type": "code",
   "execution_count": null,
   "metadata": {},
   "outputs": [],
   "source": [
    "# # counting the number of unique booking IDs\n",
    "# query = \"SELECT COUNT(DISTINCT(bookingID)) FROM feats\"\n",
    "# spark.sql(query).show()"
   ]
  },
  {
   "cell_type": "code",
   "execution_count": null,
   "metadata": {},
   "outputs": [],
   "source": [
    "# # counting number of null values per column\n",
    "# feats.select([count(when(isnan(c), c)).alias(c) for c in feats.columns]).show()"
   ]
  },
  {
   "cell_type": "code",
   "execution_count": null,
   "metadata": {},
   "outputs": [],
   "source": [
    "# # load labels\n",
    "# # creating a spark dataframe\n",
    "# labels = spark.read.csv(\"data/safety/labels/*.csv\", header=True, inferSchema=True)\n",
    "\n",
    "# # create table named feats\n",
    "# labels.createOrReplaceTempView(\"labels\")\n",
    "\n",
    "# type(labels)"
   ]
  },
  {
   "cell_type": "code",
   "execution_count": null,
   "metadata": {},
   "outputs": [],
   "source": [
    "# # showing the first 5 items\n",
    "# labels.show(5)"
   ]
  },
  {
   "cell_type": "code",
   "execution_count": null,
   "metadata": {},
   "outputs": [],
   "source": [
    "# # counting how many rows\n",
    "# query = \"SELECT COUNT(*) FROM labels\"\n",
    "# spark.sql(query).show()"
   ]
  },
  {
   "cell_type": "code",
   "execution_count": null,
   "metadata": {},
   "outputs": [],
   "source": [
    "# # counting the number of unique rows\n",
    "# query = \"\"\"SELECT COUNT(*) FROM (SELECT bookingID, label, COUNT(*) as count FROM labels\n",
    "#             GROUP BY bookingID, label\n",
    "#             HAVING COUNT(*) = 1)\"\"\"\n",
    "# spark.sql(query).show()"
   ]
  },
  {
   "cell_type": "code",
   "execution_count": null,
   "metadata": {},
   "outputs": [],
   "source": [
    "# # counting the number of unique booking IDs\n",
    "# query = \"SELECT COUNT(DISTINCT(bookingID)) FROM labels\"\n",
    "# spark.sql(query).show()"
   ]
  },
  {
   "cell_type": "code",
   "execution_count": null,
   "metadata": {},
   "outputs": [],
   "source": [
    "# # counting number of null values per column\n",
    "# labels.select([count(when(isnan(c), c)).alias(c) for c in labels.columns]).show()"
   ]
  },
  {
   "cell_type": "code",
   "execution_count": null,
   "metadata": {},
   "outputs": [],
   "source": [
    "# # How do we handle the 18 others?\n",
    "# # We retain the first entry, drop the duplicates\n",
    "# labels2 = labels.dropDuplicates(subset=[\"bookingID\"])\n",
    "\n",
    "# # create table named feats\n",
    "# labels2.createOrReplaceTempView(\"labels\")"
   ]
  },
  {
   "cell_type": "code",
   "execution_count": null,
   "metadata": {},
   "outputs": [],
   "source": [
    "# # counting the number of unique rows with duplicates dropped\n",
    "# query = \"\"\"SELECT COUNT(*) FROM (SELECT bookingID, label, COUNT(*) as count FROM labels\n",
    "#             GROUP BY bookingID, label\n",
    "#             HAVING COUNT(*) = 1)\"\"\"\n",
    "# spark.sql(query).show()"
   ]
  },
  {
   "cell_type": "code",
   "execution_count": null,
   "metadata": {},
   "outputs": [],
   "source": [
    "# # Merge the features and labels datasets by bookingID\n",
    "# query = \"\"\"SELECT feats.bookingID, feats.Accuracy \n",
    "#             FROM feats\n",
    "#             LEFT JOIN labels ON labels.bookingID = feats.bookingID\"\"\"\n",
    "# spark.sql(query).show()"
   ]
  },
  {
   "cell_type": "code",
   "execution_count": null,
   "metadata": {},
   "outputs": [],
   "source": [
    "# # Merge the features and labels datasets by bookingID\n",
    "\n",
    "# # Join the DataFrames\n",
    "# flights_with_airports = flights.join(airports, on=\"dest\", how=\"leftouter\")"
   ]
  },
  {
   "cell_type": "markdown",
   "metadata": {},
   "source": [
    "## EDA"
   ]
  },
  {
   "cell_type": "code",
   "execution_count": 44,
   "metadata": {},
   "outputs": [],
   "source": [
    "basic_stats = df_feats_labels.describe().T"
   ]
  },
  {
   "cell_type": "code",
   "execution_count": 45,
   "metadata": {
    "scrolled": false
   },
   "outputs": [
    {
     "data": {
      "text/html": [
       "<div>\n",
       "<style scoped>\n",
       "    .dataframe tbody tr th:only-of-type {\n",
       "        vertical-align: middle;\n",
       "    }\n",
       "\n",
       "    .dataframe tbody tr th {\n",
       "        vertical-align: top;\n",
       "    }\n",
       "\n",
       "    .dataframe thead th {\n",
       "        text-align: right;\n",
       "    }\n",
       "</style>\n",
       "<table border=\"1\" class=\"dataframe\">\n",
       "  <thead>\n",
       "    <tr style=\"text-align: right;\">\n",
       "      <th></th>\n",
       "      <th>count</th>\n",
       "      <th>mean</th>\n",
       "      <th>std</th>\n",
       "      <th>min</th>\n",
       "      <th>25%</th>\n",
       "      <th>50%</th>\n",
       "      <th>75%</th>\n",
       "      <th>max</th>\n",
       "    </tr>\n",
       "  </thead>\n",
       "  <tbody>\n",
       "    <tr>\n",
       "      <th>bookingID</th>\n",
       "      <td>16154418.0</td>\n",
       "      <td>8.185295e+11</td>\n",
       "      <td>4.953377e+11</td>\n",
       "      <td>0.000000</td>\n",
       "      <td>3.779571e+11</td>\n",
       "      <td>8.074539e+11</td>\n",
       "      <td>1.254130e+12</td>\n",
       "      <td>1.709397e+12</td>\n",
       "    </tr>\n",
       "    <tr>\n",
       "      <th>Accuracy</th>\n",
       "      <td>16154418.0</td>\n",
       "      <td>1.160744e+01</td>\n",
       "      <td>8.686924e+01</td>\n",
       "      <td>0.750000</td>\n",
       "      <td>3.900000e+00</td>\n",
       "      <td>4.255000e+00</td>\n",
       "      <td>8.000000e+00</td>\n",
       "      <td>6.070101e+03</td>\n",
       "    </tr>\n",
       "    <tr>\n",
       "      <th>Bearing</th>\n",
       "      <td>16154418.0</td>\n",
       "      <td>1.689771e+02</td>\n",
       "      <td>1.072962e+02</td>\n",
       "      <td>0.000000</td>\n",
       "      <td>7.800000e+01</td>\n",
       "      <td>1.689621e+02</td>\n",
       "      <td>2.630000e+02</td>\n",
       "      <td>3.599995e+02</td>\n",
       "    </tr>\n",
       "    <tr>\n",
       "      <th>acceleration_x</th>\n",
       "      <td>16154418.0</td>\n",
       "      <td>6.931060e-02</td>\n",
       "      <td>1.423701e+00</td>\n",
       "      <td>-78.419685</td>\n",
       "      <td>-5.078247e-01</td>\n",
       "      <td>6.159973e-02</td>\n",
       "      <td>6.353790e-01</td>\n",
       "      <td>6.687346e+01</td>\n",
       "    </tr>\n",
       "    <tr>\n",
       "      <th>acceleration_y</th>\n",
       "      <td>16154418.0</td>\n",
       "      <td>4.464359e+00</td>\n",
       "      <td>8.132821e+00</td>\n",
       "      <td>-72.994119</td>\n",
       "      <td>-2.113992e+00</td>\n",
       "      <td>9.081207e+00</td>\n",
       "      <td>9.709685e+00</td>\n",
       "      <td>7.505589e+01</td>\n",
       "    </tr>\n",
       "    <tr>\n",
       "      <th>acceleration_z</th>\n",
       "      <td>16154418.0</td>\n",
       "      <td>8.927299e-01</td>\n",
       "      <td>3.252890e+00</td>\n",
       "      <td>-78.448420</td>\n",
       "      <td>-9.337672e-01</td>\n",
       "      <td>7.740933e-01</td>\n",
       "      <td>2.749072e+00</td>\n",
       "      <td>7.805576e+01</td>\n",
       "    </tr>\n",
       "    <tr>\n",
       "      <th>gyro_x</th>\n",
       "      <td>16154418.0</td>\n",
       "      <td>-1.713431e-03</td>\n",
       "      <td>1.445047e-01</td>\n",
       "      <td>-48.455750</td>\n",
       "      <td>-2.678341e-02</td>\n",
       "      <td>-6.442187e-04</td>\n",
       "      <td>2.330015e-02</td>\n",
       "      <td>3.983975e+01</td>\n",
       "    </tr>\n",
       "    <tr>\n",
       "      <th>gyro_y</th>\n",
       "      <td>16154418.0</td>\n",
       "      <td>2.663392e-04</td>\n",
       "      <td>3.398832e-01</td>\n",
       "      <td>-74.888610</td>\n",
       "      <td>-2.994671e-02</td>\n",
       "      <td>2.620612e-04</td>\n",
       "      <td>3.141785e-02</td>\n",
       "      <td>8.031496e+01</td>\n",
       "    </tr>\n",
       "    <tr>\n",
       "      <th>gyro_z</th>\n",
       "      <td>16154418.0</td>\n",
       "      <td>-2.538211e-04</td>\n",
       "      <td>1.480109e-01</td>\n",
       "      <td>-53.554450</td>\n",
       "      <td>-1.875904e-02</td>\n",
       "      <td>-3.490659e-05</td>\n",
       "      <td>1.823433e-02</td>\n",
       "      <td>6.630078e+01</td>\n",
       "    </tr>\n",
       "    <tr>\n",
       "      <th>second</th>\n",
       "      <td>16154418.0</td>\n",
       "      <td>3.799905e+03</td>\n",
       "      <td>1.435848e+06</td>\n",
       "      <td>0.000000</td>\n",
       "      <td>2.410000e+02</td>\n",
       "      <td>5.200000e+02</td>\n",
       "      <td>8.630000e+02</td>\n",
       "      <td>1.495797e+09</td>\n",
       "    </tr>\n",
       "    <tr>\n",
       "      <th>Speed</th>\n",
       "      <td>16154418.0</td>\n",
       "      <td>9.006626e+00</td>\n",
       "      <td>8.106292e+00</td>\n",
       "      <td>-2.000000</td>\n",
       "      <td>1.020000e+00</td>\n",
       "      <td>7.530000e+00</td>\n",
       "      <td>1.548000e+01</td>\n",
       "      <td>1.480186e+02</td>\n",
       "    </tr>\n",
       "    <tr>\n",
       "      <th>label</th>\n",
       "      <td>16154418.0</td>\n",
       "      <td>3.057288e-01</td>\n",
       "      <td>4.607154e-01</td>\n",
       "      <td>0.000000</td>\n",
       "      <td>0.000000e+00</td>\n",
       "      <td>0.000000e+00</td>\n",
       "      <td>1.000000e+00</td>\n",
       "      <td>1.000000e+00</td>\n",
       "    </tr>\n",
       "  </tbody>\n",
       "</table>\n",
       "</div>"
      ],
      "text/plain": [
       "                     count          mean           std        min  \\\n",
       "bookingID       16154418.0  8.185295e+11  4.953377e+11   0.000000   \n",
       "Accuracy        16154418.0  1.160744e+01  8.686924e+01   0.750000   \n",
       "Bearing         16154418.0  1.689771e+02  1.072962e+02   0.000000   \n",
       "acceleration_x  16154418.0  6.931060e-02  1.423701e+00 -78.419685   \n",
       "acceleration_y  16154418.0  4.464359e+00  8.132821e+00 -72.994119   \n",
       "acceleration_z  16154418.0  8.927299e-01  3.252890e+00 -78.448420   \n",
       "gyro_x          16154418.0 -1.713431e-03  1.445047e-01 -48.455750   \n",
       "gyro_y          16154418.0  2.663392e-04  3.398832e-01 -74.888610   \n",
       "gyro_z          16154418.0 -2.538211e-04  1.480109e-01 -53.554450   \n",
       "second          16154418.0  3.799905e+03  1.435848e+06   0.000000   \n",
       "Speed           16154418.0  9.006626e+00  8.106292e+00  -2.000000   \n",
       "label           16154418.0  3.057288e-01  4.607154e-01   0.000000   \n",
       "\n",
       "                         25%           50%           75%           max  \n",
       "bookingID       3.779571e+11  8.074539e+11  1.254130e+12  1.709397e+12  \n",
       "Accuracy        3.900000e+00  4.255000e+00  8.000000e+00  6.070101e+03  \n",
       "Bearing         7.800000e+01  1.689621e+02  2.630000e+02  3.599995e+02  \n",
       "acceleration_x -5.078247e-01  6.159973e-02  6.353790e-01  6.687346e+01  \n",
       "acceleration_y -2.113992e+00  9.081207e+00  9.709685e+00  7.505589e+01  \n",
       "acceleration_z -9.337672e-01  7.740933e-01  2.749072e+00  7.805576e+01  \n",
       "gyro_x         -2.678341e-02 -6.442187e-04  2.330015e-02  3.983975e+01  \n",
       "gyro_y         -2.994671e-02  2.620612e-04  3.141785e-02  8.031496e+01  \n",
       "gyro_z         -1.875904e-02 -3.490659e-05  1.823433e-02  6.630078e+01  \n",
       "second          2.410000e+02  5.200000e+02  8.630000e+02  1.495797e+09  \n",
       "Speed           1.020000e+00  7.530000e+00  1.548000e+01  1.480186e+02  \n",
       "label           0.000000e+00  0.000000e+00  1.000000e+00  1.000000e+00  "
      ]
     },
     "execution_count": 45,
     "metadata": {},
     "output_type": "execute_result"
    }
   ],
   "source": [
    "basic_stats"
   ]
  },
  {
   "cell_type": "code",
   "execution_count": 47,
   "metadata": {},
   "outputs": [
    {
     "data": {
      "text/html": [
       "<div>\n",
       "<style scoped>\n",
       "    .dataframe tbody tr th:only-of-type {\n",
       "        vertical-align: middle;\n",
       "    }\n",
       "\n",
       "    .dataframe tbody tr th {\n",
       "        vertical-align: top;\n",
       "    }\n",
       "\n",
       "    .dataframe thead th {\n",
       "        text-align: right;\n",
       "    }\n",
       "</style>\n",
       "<table border=\"1\" class=\"dataframe\">\n",
       "  <thead>\n",
       "    <tr style=\"text-align: right;\">\n",
       "      <th></th>\n",
       "      <th>bookingID</th>\n",
       "      <th>Accuracy</th>\n",
       "      <th>Bearing</th>\n",
       "      <th>acceleration_x</th>\n",
       "      <th>acceleration_y</th>\n",
       "      <th>acceleration_z</th>\n",
       "      <th>gyro_x</th>\n",
       "      <th>gyro_y</th>\n",
       "      <th>gyro_z</th>\n",
       "      <th>second</th>\n",
       "      <th>Speed</th>\n",
       "      <th>label</th>\n",
       "    </tr>\n",
       "  </thead>\n",
       "  <tbody>\n",
       "    <tr>\n",
       "      <th>0</th>\n",
       "      <td>1657857376413</td>\n",
       "      <td>10.0</td>\n",
       "      <td>128.234833</td>\n",
       "      <td>0.780280</td>\n",
       "      <td>-9.869086</td>\n",
       "      <td>-0.019440</td>\n",
       "      <td>-0.143924</td>\n",
       "      <td>-0.016662</td>\n",
       "      <td>-0.016986</td>\n",
       "      <td>497.0</td>\n",
       "      <td>16.030001</td>\n",
       "      <td>0</td>\n",
       "    </tr>\n",
       "    <tr>\n",
       "      <th>1</th>\n",
       "      <td>1657857376413</td>\n",
       "      <td>10.0</td>\n",
       "      <td>128.288040</td>\n",
       "      <td>0.187817</td>\n",
       "      <td>-9.088657</td>\n",
       "      <td>-0.063852</td>\n",
       "      <td>-0.000822</td>\n",
       "      <td>0.150899</td>\n",
       "      <td>-0.027601</td>\n",
       "      <td>431.0</td>\n",
       "      <td>15.880000</td>\n",
       "      <td>0</td>\n",
       "    </tr>\n",
       "    <tr>\n",
       "      <th>2</th>\n",
       "      <td>1657857376413</td>\n",
       "      <td>10.0</td>\n",
       "      <td>315.971802</td>\n",
       "      <td>0.064899</td>\n",
       "      <td>-9.744971</td>\n",
       "      <td>0.713138</td>\n",
       "      <td>-0.014979</td>\n",
       "      <td>0.006265</td>\n",
       "      <td>-0.012791</td>\n",
       "      <td>267.0</td>\n",
       "      <td>1.570000</td>\n",
       "      <td>0</td>\n",
       "    </tr>\n",
       "    <tr>\n",
       "      <th>3</th>\n",
       "      <td>1657857376413</td>\n",
       "      <td>10.0</td>\n",
       "      <td>195.206451</td>\n",
       "      <td>0.115591</td>\n",
       "      <td>-8.950635</td>\n",
       "      <td>-0.126208</td>\n",
       "      <td>-0.167526</td>\n",
       "      <td>-0.018366</td>\n",
       "      <td>-0.160001</td>\n",
       "      <td>251.0</td>\n",
       "      <td>2.320000</td>\n",
       "      <td>0</td>\n",
       "    </tr>\n",
       "    <tr>\n",
       "      <th>4</th>\n",
       "      <td>1657857376413</td>\n",
       "      <td>10.0</td>\n",
       "      <td>78.804138</td>\n",
       "      <td>0.033496</td>\n",
       "      <td>-9.730914</td>\n",
       "      <td>0.436346</td>\n",
       "      <td>0.001044</td>\n",
       "      <td>0.002088</td>\n",
       "      <td>-0.011740</td>\n",
       "      <td>45.0</td>\n",
       "      <td>2.720000</td>\n",
       "      <td>0</td>\n",
       "    </tr>\n",
       "  </tbody>\n",
       "</table>\n",
       "</div>"
      ],
      "text/plain": [
       "       bookingID  Accuracy     Bearing  acceleration_x  acceleration_y  \\\n",
       "0  1657857376413      10.0  128.234833        0.780280       -9.869086   \n",
       "1  1657857376413      10.0  128.288040        0.187817       -9.088657   \n",
       "2  1657857376413      10.0  315.971802        0.064899       -9.744971   \n",
       "3  1657857376413      10.0  195.206451        0.115591       -8.950635   \n",
       "4  1657857376413      10.0   78.804138        0.033496       -9.730914   \n",
       "\n",
       "   acceleration_z    gyro_x    gyro_y    gyro_z  second      Speed  label  \n",
       "0       -0.019440 -0.143924 -0.016662 -0.016986   497.0  16.030001      0  \n",
       "1       -0.063852 -0.000822  0.150899 -0.027601   431.0  15.880000      0  \n",
       "2        0.713138 -0.014979  0.006265 -0.012791   267.0   1.570000      0  \n",
       "3       -0.126208 -0.167526 -0.018366 -0.160001   251.0   2.320000      0  \n",
       "4        0.436346  0.001044  0.002088 -0.011740    45.0   2.720000      0  "
      ]
     },
     "execution_count": 47,
     "metadata": {},
     "output_type": "execute_result"
    }
   ],
   "source": [
    "df_feats_labels.head()"
   ]
  },
  {
   "cell_type": "code",
   "execution_count": null,
   "metadata": {},
   "outputs": [],
   "source": [
    "# def "
   ]
  },
  {
   "cell_type": "code",
   "execution_count": 49,
   "metadata": {},
   "outputs": [
    {
     "data": {
      "image/png": "[encoded data removed]",
      "text/plain": [
       "<Figure size 432x288 with 1 Axes>"
      ]
     },
     "metadata": {},
     "output_type": "display_data"
    }
   ],
   "source": [
    "# boxplots\n",
    "plt.semilogy()\n",
    "sns.boxplot(x=\"label\", y=\"Accuracy\", data=df_feats_labels)\n",
    "plt.show()"
   ]
  },
  {
   "cell_type": "code",
   "execution_count": null,
   "metadata": {},
   "outputs": [],
   "source": [
    "# boxplots\n",
    "data = df_feats_labels\n",
    "\n",
    "sns.distplot()\n",
    "plt.show()"
   ]
  }
 ],
 "metadata": {
  "kernelspec": {
   "display_name": "Python 3",
   "language": "python",
   "name": "python3"
  },
  "language_info": {
   "codemirror_mode": {
    "name": "ipython",
    "version": 3
   },
   "file_extension": ".py",
   "mimetype": "text/x-python",
   "name": "python",
   "nbconvert_exporter": "python",
   "pygments_lexer": "ipython3",
   "version": "3.6.5"
  }
 },
 "nbformat": 4,
 "nbformat_minor": 2
}
