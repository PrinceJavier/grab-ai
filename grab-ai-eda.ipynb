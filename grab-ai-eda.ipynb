{
 "cells": [
  {
   "cell_type": "markdown",
   "metadata": {},
   "source": [
    "# Exploratory Data Analysis of Safety Dataset"
   ]
  },
  {
   "cell_type": "markdown",
   "metadata": {},
   "source": [
    "## Executive Summary"
   ]
  },
  {
   "cell_type": "markdown",
   "metadata": {},
   "source": [
    "## Introduction"
   ]
  },
  {
   "cell_type": "markdown",
   "metadata": {},
   "source": [
    "## About the Data"
   ]
  },
  {
   "cell_type": "markdown",
   "metadata": {},
   "source": [
    "## Preprocessing"
   ]
  },
  {
   "cell_type": "code",
   "execution_count": 1,
   "metadata": {},
   "outputs": [],
   "source": [
    "import pandas as pd\n",
    "import numpy as np\n",
    "import matplotlib.pyplot as plt"
   ]
  },
  {
   "cell_type": "code",
   "execution_count": 2,
   "metadata": {},
   "outputs": [
    {
     "name": "stdout",
     "output_type": "stream",
     "text": [
      "data_dictionary.xlsx  features\tlabels\r\n"
     ]
    }
   ],
   "source": [
    "# check the dataset folders\n",
    "!ls data/safety/"
   ]
  },
  {
   "cell_type": "code",
   "execution_count": 3,
   "metadata": {},
   "outputs": [],
   "source": [
    "# read the data dictionary\n",
    "xl = pd.ExcelFile(\"data/safety/data_dictionary.xlsx\")"
   ]
  },
  {
   "cell_type": "code",
   "execution_count": 4,
   "metadata": {},
   "outputs": [
    {
     "data": {
      "text/plain": [
       "['telematics data', 'labels']"
      ]
     },
     "execution_count": 4,
     "metadata": {},
     "output_type": "execute_result"
    }
   ],
   "source": [
    "# sheet names\n",
    "xl.sheet_names"
   ]
  },
  {
   "cell_type": "code",
   "execution_count": 5,
   "metadata": {},
   "outputs": [
    {
     "data": {
      "text/html": [
       "<div>\n",
       "<style scoped>\n",
       "    .dataframe tbody tr th:only-of-type {\n",
       "        vertical-align: middle;\n",
       "    }\n",
       "\n",
       "    .dataframe tbody tr th {\n",
       "        vertical-align: top;\n",
       "    }\n",
       "\n",
       "    .dataframe thead th {\n",
       "        text-align: right;\n",
       "    }\n",
       "</style>\n",
       "<table border=\"1\" class=\"dataframe\">\n",
       "  <thead>\n",
       "    <tr style=\"text-align: right;\">\n",
       "      <th></th>\n",
       "      <th>Unnamed: 0</th>\n",
       "      <th>bookingID</th>\n",
       "      <th>Accuracy</th>\n",
       "      <th>Bearing</th>\n",
       "      <th>acceleration_x</th>\n",
       "      <th>acceleration_y</th>\n",
       "      <th>acceleration_z</th>\n",
       "      <th>gyro_x</th>\n",
       "      <th>gyro_y</th>\n",
       "      <th>gyro_z</th>\n",
       "      <th>second</th>\n",
       "      <th>Speed</th>\n",
       "    </tr>\n",
       "  </thead>\n",
       "  <tbody>\n",
       "    <tr>\n",
       "      <th>0</th>\n",
       "      <td>description</td>\n",
       "      <td>trip id</td>\n",
       "      <td>accuracy inferred by GPS in meters</td>\n",
       "      <td>GPS bearing</td>\n",
       "      <td>accelerometer reading in x axis (m/s2)</td>\n",
       "      <td>accelerometer reading in y axis (m/s2)</td>\n",
       "      <td>accelerometer reading in z axis (m/s2)</td>\n",
       "      <td>gyroscope reading in x axis (rad/s)</td>\n",
       "      <td>gyroscope reading in y axis (rad/s)</td>\n",
       "      <td>gyroscope reading in z axis (rad/s)</td>\n",
       "      <td>time of the record by number of seconds</td>\n",
       "      <td>speed measured by GPS in m/s</td>\n",
       "    </tr>\n",
       "    <tr>\n",
       "      <th>1</th>\n",
       "      <td>samples</td>\n",
       "      <td>1</td>\n",
       "      <td>5</td>\n",
       "      <td>303.695</td>\n",
       "      <td>-0.00636292</td>\n",
       "      <td>-0.393829</td>\n",
       "      <td>-0.922379</td>\n",
       "      <td>-0.020000606102604086,0.03205247529964867,-0.0...</td>\n",
       "      <td>NaN</td>\n",
       "      <td>NaN</td>\n",
       "      <td>0</td>\n",
       "      <td>0.57</td>\n",
       "    </tr>\n",
       "    <tr>\n",
       "      <th>2</th>\n",
       "      <td>NaN</td>\n",
       "      <td>1</td>\n",
       "      <td>10</td>\n",
       "      <td>325.39</td>\n",
       "      <td>0.183914</td>\n",
       "      <td>-0.355026</td>\n",
       "      <td>-0.92041</td>\n",
       "      <td>-0.028598887998033916,0.025720543491876274,-0....</td>\n",
       "      <td>NaN</td>\n",
       "      <td>NaN</td>\n",
       "      <td>1</td>\n",
       "      <td>0.28</td>\n",
       "    </tr>\n",
       "    <tr>\n",
       "      <th>3</th>\n",
       "      <td>NaN</td>\n",
       "      <td>1</td>\n",
       "      <td>5</td>\n",
       "      <td>303.695</td>\n",
       "      <td>-0.00636292</td>\n",
       "      <td>-0.392944</td>\n",
       "      <td>-0.922226</td>\n",
       "      <td>-0.01894040167264354,0.030980020328673762,-0.0...</td>\n",
       "      <td>NaN</td>\n",
       "      <td>NaN</td>\n",
       "      <td>2</td>\n",
       "      <td>0.57</td>\n",
       "    </tr>\n",
       "    <tr>\n",
       "      <th>4</th>\n",
       "      <td>NaN</td>\n",
       "      <td>1</td>\n",
       "      <td>10</td>\n",
       "      <td>324.23</td>\n",
       "      <td>0.165924</td>\n",
       "      <td>-0.332092</td>\n",
       "      <td>-0.920578</td>\n",
       "      <td>-0.0577245492596855,0.002558232543130116,0.014...</td>\n",
       "      <td>NaN</td>\n",
       "      <td>NaN</td>\n",
       "      <td>3</td>\n",
       "      <td>0.28</td>\n",
       "    </tr>\n",
       "  </tbody>\n",
       "</table>\n",
       "</div>"
      ],
      "text/plain": [
       "    Unnamed: 0 bookingID                            Accuracy      Bearing  \\\n",
       "0  description   trip id  accuracy inferred by GPS in meters  GPS bearing   \n",
       "1      samples         1                                   5      303.695   \n",
       "2          NaN         1                                  10       325.39   \n",
       "3          NaN         1                                   5      303.695   \n",
       "4          NaN         1                                  10       324.23   \n",
       "\n",
       "                           acceleration_x  \\\n",
       "0  accelerometer reading in x axis (m/s2)   \n",
       "1                             -0.00636292   \n",
       "2                                0.183914   \n",
       "3                             -0.00636292   \n",
       "4                                0.165924   \n",
       "\n",
       "                           acceleration_y  \\\n",
       "0  accelerometer reading in y axis (m/s2)   \n",
       "1                               -0.393829   \n",
       "2                               -0.355026   \n",
       "3                               -0.392944   \n",
       "4                               -0.332092   \n",
       "\n",
       "                           acceleration_z  \\\n",
       "0  accelerometer reading in z axis (m/s2)   \n",
       "1                               -0.922379   \n",
       "2                                -0.92041   \n",
       "3                               -0.922226   \n",
       "4                               -0.920578   \n",
       "\n",
       "                                              gyro_x  \\\n",
       "0                gyroscope reading in x axis (rad/s)   \n",
       "1  -0.020000606102604086,0.03205247529964867,-0.0...   \n",
       "2  -0.028598887998033916,0.025720543491876274,-0....   \n",
       "3  -0.01894040167264354,0.030980020328673762,-0.0...   \n",
       "4  -0.0577245492596855,0.002558232543130116,0.014...   \n",
       "\n",
       "                                gyro_y                               gyro_z  \\\n",
       "0  gyroscope reading in y axis (rad/s)  gyroscope reading in z axis (rad/s)   \n",
       "1                                  NaN                                  NaN   \n",
       "2                                  NaN                                  NaN   \n",
       "3                                  NaN                                  NaN   \n",
       "4                                  NaN                                  NaN   \n",
       "\n",
       "                                    second                         Speed  \n",
       "0  time of the record by number of seconds  speed measured by GPS in m/s  \n",
       "1                                        0                          0.57  \n",
       "2                                        1                          0.28  \n",
       "3                                        2                          0.57  \n",
       "4                                        3                          0.28  "
      ]
     },
     "execution_count": 5,
     "metadata": {},
     "output_type": "execute_result"
    }
   ],
   "source": [
    "# let's see the first sheet\n",
    "xl.parse('telematics data').head()"
   ]
  },
  {
   "cell_type": "code",
   "execution_count": 6,
   "metadata": {},
   "outputs": [
    {
     "data": {
      "text/html": [
       "<div>\n",
       "<style scoped>\n",
       "    .dataframe tbody tr th:only-of-type {\n",
       "        vertical-align: middle;\n",
       "    }\n",
       "\n",
       "    .dataframe tbody tr th {\n",
       "        vertical-align: top;\n",
       "    }\n",
       "\n",
       "    .dataframe thead th {\n",
       "        text-align: right;\n",
       "    }\n",
       "</style>\n",
       "<table border=\"1\" class=\"dataframe\">\n",
       "  <thead>\n",
       "    <tr style=\"text-align: right;\">\n",
       "      <th></th>\n",
       "      <th>bookingID</th>\n",
       "      <th>label</th>\n",
       "    </tr>\n",
       "  </thead>\n",
       "  <tbody>\n",
       "    <tr>\n",
       "      <th>0</th>\n",
       "      <td>1</td>\n",
       "      <td>1</td>\n",
       "    </tr>\n",
       "    <tr>\n",
       "      <th>1</th>\n",
       "      <td>2</td>\n",
       "      <td>0</td>\n",
       "    </tr>\n",
       "    <tr>\n",
       "      <th>2</th>\n",
       "      <td>3</td>\n",
       "      <td>0</td>\n",
       "    </tr>\n",
       "    <tr>\n",
       "      <th>3</th>\n",
       "      <td>4</td>\n",
       "      <td>0</td>\n",
       "    </tr>\n",
       "    <tr>\n",
       "      <th>4</th>\n",
       "      <td>5</td>\n",
       "      <td>1</td>\n",
       "    </tr>\n",
       "  </tbody>\n",
       "</table>\n",
       "</div>"
      ],
      "text/plain": [
       "   bookingID  label\n",
       "0          1      1\n",
       "1          2      0\n",
       "2          3      0\n",
       "3          4      0\n",
       "4          5      1"
      ]
     },
     "execution_count": 6,
     "metadata": {},
     "output_type": "execute_result"
    }
   ],
   "source": [
    "# let's see the second sheet\n",
    "xl.parse('labels').head()"
   ]
  },
  {
   "cell_type": "code",
   "execution_count": 7,
   "metadata": {},
   "outputs": [
    {
     "name": "stdout",
     "output_type": "stream",
     "text": [
      "part-00000-e6120af0-10c2-4248-97c4-81baf4304e5c-c000.csv\r\n",
      "part-00001-e6120af0-10c2-4248-97c4-81baf4304e5c-c000.csv\r\n",
      "part-00002-e6120af0-10c2-4248-97c4-81baf4304e5c-c000.csv\r\n",
      "part-00003-e6120af0-10c2-4248-97c4-81baf4304e5c-c000.csv\r\n",
      "part-00004-e6120af0-10c2-4248-97c4-81baf4304e5c-c000.csv\r\n",
      "part-00005-e6120af0-10c2-4248-97c4-81baf4304e5c-c000.csv\r\n",
      "part-00006-e6120af0-10c2-4248-97c4-81baf4304e5c-c000.csv\r\n",
      "part-00007-e6120af0-10c2-4248-97c4-81baf4304e5c-c000.csv\r\n",
      "part-00008-e6120af0-10c2-4248-97c4-81baf4304e5c-c000.csv\r\n",
      "part-00009-e6120af0-10c2-4248-97c4-81baf4304e5c-c000.csv\r\n"
     ]
    }
   ],
   "source": [
    "# let's see the contents of features and labels folder\n",
    "!ls data/safety/features\n",
    "\n",
    "# there are many csvs, we either want to run this in Pyspark \n",
    "# or we can combine them into just one Pandas dataset"
   ]
  },
  {
   "cell_type": "code",
   "execution_count": 8,
   "metadata": {},
   "outputs": [
    {
     "name": "stdout",
     "output_type": "stream",
     "text": [
      "part-00000-e9445087-aa0a-433b-a7f6-7f4c19d78ad6-c000.csv\r\n"
     ]
    }
   ],
   "source": [
    "!ls data/safety/labels"
   ]
  },
  {
   "cell_type": "code",
   "execution_count": 9,
   "metadata": {},
   "outputs": [
    {
     "data": {
      "text/html": [
       "<div>\n",
       "<style scoped>\n",
       "    .dataframe tbody tr th:only-of-type {\n",
       "        vertical-align: middle;\n",
       "    }\n",
       "\n",
       "    .dataframe tbody tr th {\n",
       "        vertical-align: top;\n",
       "    }\n",
       "\n",
       "    .dataframe thead th {\n",
       "        text-align: right;\n",
       "    }\n",
       "</style>\n",
       "<table border=\"1\" class=\"dataframe\">\n",
       "  <thead>\n",
       "    <tr style=\"text-align: right;\">\n",
       "      <th></th>\n",
       "      <th>bookingID</th>\n",
       "      <th>Accuracy</th>\n",
       "      <th>Bearing</th>\n",
       "      <th>acceleration_x</th>\n",
       "      <th>acceleration_y</th>\n",
       "      <th>acceleration_z</th>\n",
       "      <th>gyro_x</th>\n",
       "      <th>gyro_y</th>\n",
       "      <th>gyro_z</th>\n",
       "      <th>second</th>\n",
       "      <th>Speed</th>\n",
       "    </tr>\n",
       "  </thead>\n",
       "  <tbody>\n",
       "    <tr>\n",
       "      <th>0</th>\n",
       "      <td>1202590843006</td>\n",
       "      <td>3.000</td>\n",
       "      <td>353.0</td>\n",
       "      <td>1.228867</td>\n",
       "      <td>8.900100</td>\n",
       "      <td>3.986968</td>\n",
       "      <td>0.008221</td>\n",
       "      <td>0.002269</td>\n",
       "      <td>-0.009966</td>\n",
       "      <td>1362.0</td>\n",
       "      <td>0.000000</td>\n",
       "    </tr>\n",
       "    <tr>\n",
       "      <th>1</th>\n",
       "      <td>274877907034</td>\n",
       "      <td>9.293</td>\n",
       "      <td>17.0</td>\n",
       "      <td>0.032775</td>\n",
       "      <td>8.659933</td>\n",
       "      <td>4.737300</td>\n",
       "      <td>0.024629</td>\n",
       "      <td>0.004028</td>\n",
       "      <td>-0.010858</td>\n",
       "      <td>257.0</td>\n",
       "      <td>0.190000</td>\n",
       "    </tr>\n",
       "    <tr>\n",
       "      <th>2</th>\n",
       "      <td>884763263056</td>\n",
       "      <td>3.000</td>\n",
       "      <td>189.0</td>\n",
       "      <td>1.139675</td>\n",
       "      <td>9.545974</td>\n",
       "      <td>1.951334</td>\n",
       "      <td>-0.006899</td>\n",
       "      <td>-0.015080</td>\n",
       "      <td>0.001122</td>\n",
       "      <td>973.0</td>\n",
       "      <td>0.667059</td>\n",
       "    </tr>\n",
       "    <tr>\n",
       "      <th>3</th>\n",
       "      <td>1073741824054</td>\n",
       "      <td>3.900</td>\n",
       "      <td>126.0</td>\n",
       "      <td>3.871543</td>\n",
       "      <td>10.386364</td>\n",
       "      <td>-0.136474</td>\n",
       "      <td>0.001344</td>\n",
       "      <td>-0.339601</td>\n",
       "      <td>-0.017956</td>\n",
       "      <td>902.0</td>\n",
       "      <td>7.913285</td>\n",
       "    </tr>\n",
       "    <tr>\n",
       "      <th>4</th>\n",
       "      <td>1056561954943</td>\n",
       "      <td>3.900</td>\n",
       "      <td>50.0</td>\n",
       "      <td>-0.112882</td>\n",
       "      <td>10.550960</td>\n",
       "      <td>-1.560110</td>\n",
       "      <td>0.130568</td>\n",
       "      <td>-0.061697</td>\n",
       "      <td>0.161530</td>\n",
       "      <td>820.0</td>\n",
       "      <td>20.419409</td>\n",
       "    </tr>\n",
       "  </tbody>\n",
       "</table>\n",
       "</div>"
      ],
      "text/plain": [
       "       bookingID  Accuracy  Bearing  acceleration_x  acceleration_y  \\\n",
       "0  1202590843006     3.000    353.0        1.228867        8.900100   \n",
       "1   274877907034     9.293     17.0        0.032775        8.659933   \n",
       "2   884763263056     3.000    189.0        1.139675        9.545974   \n",
       "3  1073741824054     3.900    126.0        3.871543       10.386364   \n",
       "4  1056561954943     3.900     50.0       -0.112882       10.550960   \n",
       "\n",
       "   acceleration_z    gyro_x    gyro_y    gyro_z  second      Speed  \n",
       "0        3.986968  0.008221  0.002269 -0.009966  1362.0   0.000000  \n",
       "1        4.737300  0.024629  0.004028 -0.010858   257.0   0.190000  \n",
       "2        1.951334 -0.006899 -0.015080  0.001122   973.0   0.667059  \n",
       "3       -0.136474  0.001344 -0.339601 -0.017956   902.0   7.913285  \n",
       "4       -1.560110  0.130568 -0.061697  0.161530   820.0  20.419409  "
      ]
     },
     "execution_count": 9,
     "metadata": {},
     "output_type": "execute_result"
    }
   ],
   "source": [
    "# let's load one features csv, there are many csvs we either\n",
    "_ = pd.read_csv(\"data/safety/features/part-00000-e6120af0-10c2-4248-97c4-81baf4304e5c-c000.csv\")\n",
    "_.head()"
   ]
  },
  {
   "cell_type": "code",
   "execution_count": 10,
   "metadata": {},
   "outputs": [
    {
     "data": {
      "text/html": [
       "<div>\n",
       "<style scoped>\n",
       "    .dataframe tbody tr th:only-of-type {\n",
       "        vertical-align: middle;\n",
       "    }\n",
       "\n",
       "    .dataframe tbody tr th {\n",
       "        vertical-align: top;\n",
       "    }\n",
       "\n",
       "    .dataframe thead th {\n",
       "        text-align: right;\n",
       "    }\n",
       "</style>\n",
       "<table border=\"1\" class=\"dataframe\">\n",
       "  <thead>\n",
       "    <tr style=\"text-align: right;\">\n",
       "      <th></th>\n",
       "      <th>bookingID</th>\n",
       "      <th>label</th>\n",
       "    </tr>\n",
       "  </thead>\n",
       "  <tbody>\n",
       "    <tr>\n",
       "      <th>0</th>\n",
       "      <td>111669149733</td>\n",
       "      <td>0</td>\n",
       "    </tr>\n",
       "    <tr>\n",
       "      <th>1</th>\n",
       "      <td>335007449205</td>\n",
       "      <td>1</td>\n",
       "    </tr>\n",
       "    <tr>\n",
       "      <th>2</th>\n",
       "      <td>171798691856</td>\n",
       "      <td>0</td>\n",
       "    </tr>\n",
       "    <tr>\n",
       "      <th>3</th>\n",
       "      <td>1520418422900</td>\n",
       "      <td>0</td>\n",
       "    </tr>\n",
       "    <tr>\n",
       "      <th>4</th>\n",
       "      <td>798863917116</td>\n",
       "      <td>0</td>\n",
       "    </tr>\n",
       "  </tbody>\n",
       "</table>\n",
       "</div>"
      ],
      "text/plain": [
       "       bookingID  label\n",
       "0   111669149733      0\n",
       "1   335007449205      1\n",
       "2   171798691856      0\n",
       "3  1520418422900      0\n",
       "4   798863917116      0"
      ]
     },
     "execution_count": 10,
     "metadata": {},
     "output_type": "execute_result"
    }
   ],
   "source": [
    "# let's load the labels csv\n",
    "labels = pd.read_csv(\"data/safety/labels/part-00000-e9445087-aa0a-433b-a7f6-7f4c19d78ad6-c000.csv\")\n",
    "labels.head()"
   ]
  },
  {
   "cell_type": "code",
   "execution_count": 11,
   "metadata": {},
   "outputs": [
    {
     "data": {
      "text/plain": [
       "20018"
      ]
     },
     "execution_count": 11,
     "metadata": {},
     "output_type": "execute_result"
    }
   ],
   "source": [
    "# how many labels are there?\n",
    "len(labels)"
   ]
  },
  {
   "cell_type": "code",
   "execution_count": 12,
   "metadata": {},
   "outputs": [
    {
     "data": {
      "text/plain": [
       "20000"
      ]
     },
     "execution_count": 12,
     "metadata": {},
     "output_type": "execute_result"
    }
   ],
   "source": [
    "# how many unique bookings are there?\n",
    "len(labels.bookingID.unique())"
   ]
  },
  {
   "cell_type": "markdown",
   "metadata": {},
   "source": [
    "### Loading using Spark"
   ]
  },
  {
   "cell_type": "code",
   "execution_count": 13,
   "metadata": {},
   "outputs": [],
   "source": [
    "# import pyspark for parallel processing of data\n",
    "# Import SparkContext from pyspark - used to connect to cluster\n",
    "from pyspark import SparkContext\n",
    "\n",
    "# Import SparkSession from pyspark.sql\n",
    "from pyspark.sql import SparkSession"
   ]
  },
  {
   "cell_type": "code",
   "execution_count": 14,
   "metadata": {},
   "outputs": [],
   "source": [
    "# Create sparksession\n",
    "# Create spark\n",
    "spark = SparkSession.builder.getOrCreate()"
   ]
  },
  {
   "cell_type": "code",
   "execution_count": 15,
   "metadata": {},
   "outputs": [
    {
     "data": {
      "text/plain": [
       "pyspark.sql.dataframe.DataFrame"
      ]
     },
     "execution_count": 15,
     "metadata": {},
     "output_type": "execute_result"
    }
   ],
   "source": [
    "# creating a spark dataframe\n",
    "feats = spark.read.csv(\"data/safety/features/*.csv\", header=True, inferSchema=True)\n",
    "\n",
    "# create table named feats\n",
    "feats.createOrReplaceTempView(\"feats\")\n",
    "\n",
    "type(feats)"
   ]
  },
  {
   "cell_type": "code",
   "execution_count": 16,
   "metadata": {},
   "outputs": [
    {
     "name": "stdout",
     "output_type": "stream",
     "text": [
      "+-------------+--------+------------------+-----------------+------------------+-------------------+--------------------+--------------------+--------------------+------+------------------+\n",
      "|    bookingID|Accuracy|           Bearing|   acceleration_x|    acceleration_y|     acceleration_z|              gyro_x|              gyro_y|              gyro_z|second|             Speed|\n",
      "+-------------+--------+------------------+-----------------+------------------+-------------------+--------------------+--------------------+--------------------+------+------------------+\n",
      "|1657857376413|    10.0|128.23483276367188|0.780279541015625|-9.869085693359375| -0.019439697265625|-0.14392361689449823|-0.01666206736008...|-0.01698644038085...| 497.0|16.030000686645508|\n",
      "|  25769803913|     6.0|286.36822509765625|9.086712646484376|0.3093902587890625|-3.5067718505859378|0.008517588114400428|-0.00635030761929...|0.003299390274499...| 120.0| 2.089625835418701|\n",
      "|1434519076946|  12.136|             339.0|       0.94680786|          9.609665|           2.311615|        -0.011123657|         -0.32043457|        -0.062026978|  76.0|              5.54|\n",
      "| 283467841697|     3.0|             186.0|       0.90024734|         7.9968777|          5.2865586|         8.741482E-4|        -0.009701762|          0.02024774|  22.0|        0.27672043|\n",
      "| 481036337236|    3.09|              18.0|            0.045|             9.882|              0.173|            0.038839|            -0.28403|           -0.078576|1522.0|          1.306365|\n",
      "+-------------+--------+------------------+-----------------+------------------+-------------------+--------------------+--------------------+--------------------+------+------------------+\n",
      "only showing top 5 rows\n",
      "\n"
     ]
    }
   ],
   "source": [
    "# showing the first 5 items\n",
    "feats.show(5)"
   ]
  },
  {
   "cell_type": "code",
   "execution_count": 17,
   "metadata": {},
   "outputs": [
    {
     "data": {
      "text/plain": [
       "['bookingID',\n",
       " 'Accuracy',\n",
       " 'Bearing',\n",
       " 'acceleration_x',\n",
       " 'acceleration_y',\n",
       " 'acceleration_z',\n",
       " 'gyro_x',\n",
       " 'gyro_y',\n",
       " 'gyro_z',\n",
       " 'second',\n",
       " 'Speed']"
      ]
     },
     "execution_count": 17,
     "metadata": {},
     "output_type": "execute_result"
    }
   ],
   "source": [
    "# showing the columns\n",
    "feats.columns"
   ]
  },
  {
   "cell_type": "code",
   "execution_count": 18,
   "metadata": {},
   "outputs": [
    {
     "name": "stdout",
     "output_type": "stream",
     "text": [
      "+--------+\n",
      "|count(1)|\n",
      "+--------+\n",
      "|16135561|\n",
      "+--------+\n",
      "\n"
     ]
    }
   ],
   "source": [
    "# counting how many rows\n",
    "query = \"SELECT COUNT(*) FROM feats\"\n",
    "spark.sql(query).show()"
   ]
  },
  {
   "cell_type": "code",
   "execution_count": 19,
   "metadata": {},
   "outputs": [
    {
     "name": "stdout",
     "output_type": "stream",
     "text": [
      "+-------------------------+\n",
      "|count(DISTINCT bookingID)|\n",
      "+-------------------------+\n",
      "|                    20000|\n",
      "+-------------------------+\n",
      "\n"
     ]
    }
   ],
   "source": [
    "# counting the number of unique booking IDs\n",
    "query = \"SELECT COUNT(DISTINCT(bookingID)) FROM feats\"\n",
    "spark.sql(query).show()"
   ]
  },
  {
   "cell_type": "code",
   "execution_count": 20,
   "metadata": {},
   "outputs": [
    {
     "data": {
      "text/plain": [
       "pyspark.sql.dataframe.DataFrame"
      ]
     },
     "execution_count": 20,
     "metadata": {},
     "output_type": "execute_result"
    }
   ],
   "source": [
    "# load labels\n",
    "# creating a spark dataframe\n",
    "labels = spark.read.csv(\"data/safety/labels/*.csv\", header=True, inferSchema=True)\n",
    "\n",
    "# create table named feats\n",
    "labels.createOrReplaceTempView(\"labels\")\n",
    "\n",
    "type(labels)"
   ]
  },
  {
   "cell_type": "code",
   "execution_count": 21,
   "metadata": {},
   "outputs": [
    {
     "name": "stdout",
     "output_type": "stream",
     "text": [
      "+-------------+-----+\n",
      "|    bookingID|label|\n",
      "+-------------+-----+\n",
      "| 111669149733|    0|\n",
      "| 335007449205|    1|\n",
      "| 171798691856|    0|\n",
      "|1520418422900|    0|\n",
      "| 798863917116|    0|\n",
      "+-------------+-----+\n",
      "only showing top 5 rows\n",
      "\n"
     ]
    }
   ],
   "source": [
    "# showing the first 5 items\n",
    "labels.show(5)"
   ]
  },
  {
   "cell_type": "code",
   "execution_count": 22,
   "metadata": {},
   "outputs": [
    {
     "name": "stdout",
     "output_type": "stream",
     "text": [
      "+--------+\n",
      "|count(1)|\n",
      "+--------+\n",
      "|   20018|\n",
      "+--------+\n",
      "\n"
     ]
    }
   ],
   "source": [
    "# counting how many rows\n",
    "query = \"SELECT COUNT(*) FROM labels\"\n",
    "spark.sql(query).show()"
   ]
  },
  {
   "cell_type": "code",
   "execution_count": 28,
   "metadata": {},
   "outputs": [
    {
     "name": "stdout",
     "output_type": "stream",
     "text": [
      "+--------+\n",
      "|count(1)|\n",
      "+--------+\n",
      "|   20018|\n",
      "+--------+\n",
      "\n"
     ]
    }
   ],
   "source": [
    "# counting the number of unique rows\n",
    "query = \"\"\"SELECT COUNT(*) FROM (SELECT bookingID, label, COUNT(*) as count FROM labels\n",
    "            GROUP BY bookingID, label\n",
    "            HAVING COUNT(*) = 1)\"\"\"\n",
    "spark.sql(query).show()"
   ]
  },
  {
   "cell_type": "code",
   "execution_count": 29,
   "metadata": {},
   "outputs": [
    {
     "name": "stdout",
     "output_type": "stream",
     "text": [
      "+-------------------------+\n",
      "|count(DISTINCT bookingID)|\n",
      "+-------------------------+\n",
      "|                    20000|\n",
      "+-------------------------+\n",
      "\n"
     ]
    }
   ],
   "source": [
    "# counting the number of unique booking IDs\n",
    "query = \"SELECT COUNT(DISTINCT(bookingID)) FROM labels\"\n",
    "spark.sql(query).show()"
   ]
  },
  {
   "cell_type": "code",
   "execution_count": null,
   "metadata": {},
   "outputs": [],
   "source": [
    "# How do we handle the 18 others?"
   ]
  },
  {
   "cell_type": "code",
   "execution_count": 24,
   "metadata": {},
   "outputs": [],
   "source": [
    "# Merge the features and labels datasets by bookingID\n",
    "query = \"SELECT\""
   ]
  },
  {
   "cell_type": "markdown",
   "metadata": {},
   "source": [
    "## EDA"
   ]
  },
  {
   "cell_type": "code",
   "execution_count": null,
   "metadata": {},
   "outputs": [],
   "source": []
  }
 ],
 "metadata": {
  "kernelspec": {
   "display_name": "Python 3",
   "language": "python",
   "name": "python3"
  },
  "language_info": {
   "codemirror_mode": {
    "name": "ipython",
    "version": 3
   },
   "file_extension": ".py",
   "mimetype": "text/x-python",
   "name": "python",
   "nbconvert_exporter": "python",
   "pygments_lexer": "ipython3",
   "version": "3.6.5"
  }
 },
 "nbformat": 4,
 "nbformat_minor": 2
}
