{
 "cells": [
  {
   "cell_type": "markdown",
   "metadata": {},
   "source": [
    "# Model Loading and Testing\n",
    "by Prince Joseph Erneszer Javier"
   ]
  },
  {
   "cell_type": "markdown",
   "metadata": {},
   "source": [
    "**Notes on Virtual Machine and Environment**\n",
    "<br>Virtual Machine: AWS c5.9xlarge\n",
    "<br>Operating System: Deep Learning AMI (Ubuntu) Version 23.0\n",
    "<br>Environment: tensorflow_p36\n",
    "<br>Storage Size: 85 GB"
   ]
  },
  {
   "cell_type": "markdown",
   "metadata": {},
   "source": [
    "## Executive Summary"
   ]
  },
  {
   "cell_type": "markdown",
   "metadata": {},
   "source": [
    "In this notebook, we evaluate the performance of our trained machine learning classifier on test data for Grab AI for SEA challenge under the Safety category. We were provided Telematics data and from these data we would develop models that can predict if a driver is driving safely or not. The raw features dataset contains 16 million samples and 11 columns including the `bookingID`. There are 20,000 unique `bookingID`'s each with either 0 or 1 corresponding to safe or unsafe driving. The data were preprocessed in `grab-ai-preprocessing-eda`. The models were trained in `grab-ai-training`. In this notebook, we developed a pipeline for processing and evaluating the performance of our trained models on test data that look like the raw data provided by Grab. Finally, `grab-ai-predicting` contains the pipeline for predicting on a new dataset.\n",
    "\n",
    "To improve the generalizeability of the predictions, the average predictions of the top 2 models were used. The predictions for both min-max scaling and standard scaling were also derived, giving a total of 4 predictions per sample. The average prediction was used as the final prediction. The models for predicting are Gradient Boosting Machines and Nonlinear Support Vector Machines. These were all trained in `grab-ai-training`.\n",
    "\n",
    "Using this ensemble of ML models, we got an accuracy of around 72%, which is higher than the proportional chance criterion (accuracy by random chance) of 62%. 76% of safe driving was predicted correctly, while 58% of unsafe driving was predicted correctly."
   ]
  },
  {
   "cell_type": "markdown",
   "metadata": {},
   "source": [
    "## Introduction"
   ]
  },
  {
   "cell_type": "markdown",
   "metadata": {},
   "source": [
    "Grab AI for SEA challenge is a hackathon organized by Grab. Grab offers three challenges that can be solved using AI: Traffic Management, Computer Vision, and Safety. We tackle the Safety Challenge. The `Ride Safety` dataset was provided by Grab, which contains Telematics data (acceleration, gyroscope data, speed, etc.), `bookingID`, and labels (0 or 1 for safe or unsafe driving). The raw dataset was prepared in `grab-ai-preprocessing-eda`. The output of that notebook is used as input for machine learning classifier training. The models trained by `grab-ai-training` are evaluated on the 5% test set in this notebook."
   ]
  },
  {
   "cell_type": "markdown",
   "metadata": {},
   "source": [
    "## About the Data"
   ]
  },
  {
   "cell_type": "markdown",
   "metadata": {},
   "source": [
    "The `Ride Safety` dataset contains two folders: `features` and `labels`. `features` contains 10 CSV files which contain a total of 16 million telematics data samples. The columns in the `features` dataset as described in `data_dictionary.xlsx` are:\n",
    "\n",
    "|Column Name|Description|\n",
    "|:--|:--|\n",
    "|`bookingID`|trip id|\n",
    "|`Accuracy`|accuracy inferred by GPS in meters|\n",
    "|`Bearing`|GPS bearing|\n",
    "|`acceleration_x`|accelerometer reading in x axis (m/s2)|\n",
    "|`acceleration_y`|accelerometer reading in y axis (m/s2)|\n",
    "|`acceleration_z`|accelerometer reading in z axis (m/s2)|\n",
    "|`gyro_x`|gyroscope reading in x axis (rad/s)|\n",
    "|`gyro_y`|gyroscope reading in y axis (rad/s)|\n",
    "|`gyro_z`|gyroscope reading in z axis (rad/s)|\n",
    "|`second`|time of the record by number of seconds|\n",
    "|`Speed`|speed measured by GPS in m/s|\n",
    "\n",
    "In `grab-ai-preprocessing-eda`, the samples were aggregated and features were engineered. `bookingID` and `second` were not included as features. The following measures were calculated for each feature: min, max, range, mean, standard deviation, skewness, kurtosis, dominant frequency (from fourier transform periodogram), and maximum power (from fourier transform periodogram). An additional feature was added which is the trip length."
   ]
  },
  {
   "cell_type": "code",
   "execution_count": 1,
   "metadata": {},
   "outputs": [
    {
     "name": "stderr",
     "output_type": "stream",
     "text": [
      "Using TensorFlow backend.\n"
     ]
    }
   ],
   "source": [
    "import pandas as pd\n",
    "import numpy as np\n",
    "import matplotlib.pyplot as plt\n",
    "import pickle\n",
    "\n",
    "from sklearn.metrics import confusion_matrix\n",
    "from sklearn.metrics import accuracy_score\n",
    "from sklearn.preprocessing import MinMaxScaler, StandardScaler\n",
    "from sklearn.pipeline import Pipeline\n",
    "\n",
    "from scipy.stats import kurtosis, skew\n",
    "from scipy.signal import periodogram\n",
    "from collections import Counter\n",
    "\n",
    "from tensorflow import keras\n",
    "from keras.models import load_model\n",
    "\n",
    "seed = 42\n",
    "np.random.seed(seed)"
   ]
  },
  {
   "cell_type": "markdown",
   "metadata": {},
   "source": [
    "## Loading Data"
   ]
  },
  {
   "cell_type": "markdown",
   "metadata": {},
   "source": [
    "We first loaded the test dataset."
   ]
  },
  {
   "cell_type": "code",
   "execution_count": 2,
   "metadata": {},
   "outputs": [],
   "source": [
    "# paths of features and labels\n",
    "path_feats =\"data/processed/df_test.csv\"\n",
    "path_labels = \"data/safety/labels/part-00000-e9445087-aa0a-433b-a7f6-7f4c19d78ad6-c000.csv\"\n",
    "\n",
    "df_feats = pd.read_csv(path_feats).drop_duplicates()\n",
    "df_labels = pd.read_csv(path_labels).drop_duplicates()"
   ]
  },
  {
   "cell_type": "markdown",
   "metadata": {},
   "source": [
    "## Data Preprocessing"
   ]
  },
  {
   "cell_type": "markdown",
   "metadata": {},
   "source": [
    "### Feature Engineering"
   ]
  },
  {
   "cell_type": "markdown",
   "metadata": {},
   "source": [
    "We then engineered features similar to what we did in `grab-ai-preprocessing-eda`."
   ]
  },
  {
   "cell_type": "code",
   "execution_count": 3,
   "metadata": {},
   "outputs": [],
   "source": [
    "def dominant_f(y):\n",
    "    \"\"\"Given time series y, get frequency of maximum power\n",
    "    from periodogram\"\"\"\n",
    "    f, p = periodogram(y, scaling='spectrum')\n",
    "    ind = np.argsort(p)\n",
    "    f_max = f[ind[-1]]\n",
    "    return f_max\n",
    "\n",
    "\n",
    "def max_power(y):\n",
    "    \"\"\"Given time series y, get maximum power\"\"\"\n",
    "    f, p = periodogram(y, scaling='spectrum')\n",
    "    return p.max()"
   ]
  },
  {
   "cell_type": "code",
   "execution_count": 4,
   "metadata": {},
   "outputs": [
    {
     "name": "stderr",
     "output_type": "stream",
     "text": [
      "/home/ubuntu/anaconda3/envs/tensorflow_p36/lib/python3.6/site-packages/numpy/core/fromnumeric.py:2223: FutureWarning: Method .ptp is deprecated and will be removed in a future version. Use numpy.ptp instead.\n",
      "  return ptp(axis=axis, out=out, **kwargs)\n"
     ]
    }
   ],
   "source": [
    "# we engineer feature, aggregating feature values per bookingID\n",
    "# getting min, max, range, mean, std, skewness, and kurtosis\n",
    "\n",
    "df_engg_feats = df_feats.drop(\"second\", axis=1)\n",
    "df_engg_feats = df_engg_feats.groupby(by=\"bookingID\", as_index=True).agg(\n",
    "    [np.min, np.max, np.ptp, np.mean, np.std, skew, kurtosis, dominant_f, max_power])"
   ]
  },
  {
   "cell_type": "code",
   "execution_count": 5,
   "metadata": {},
   "outputs": [],
   "source": [
    "# flatten column names\n",
    "cols = [df_engg_feats.columns[i][0] + \"_\" + df_engg_feats.columns[i][1]\n",
    "        for i in range(len(df_engg_feats.columns))]"
   ]
  },
  {
   "cell_type": "code",
   "execution_count": 6,
   "metadata": {},
   "outputs": [],
   "source": [
    "df_engg_feats.columns = cols\n",
    "df_engg_feats.reset_index(inplace=True)"
   ]
  },
  {
   "cell_type": "code",
   "execution_count": 7,
   "metadata": {},
   "outputs": [],
   "source": [
    "# add length of each trip\n",
    "df_len = df_feats.groupby(by=\"bookingID\", as_index=True).agg(len).iloc[:, 0:1]\n",
    "df_len.columns = ['trip_len']\n",
    "df_len.reset_index(inplace=True)"
   ]
  },
  {
   "cell_type": "code",
   "execution_count": 8,
   "metadata": {},
   "outputs": [],
   "source": [
    "# merge along bookingID\n",
    "df_engg_feats_2 = pd.merge(df_engg_feats, df_len, how=\"inner\", on=\"bookingID\")"
   ]
  },
  {
   "cell_type": "code",
   "execution_count": 9,
   "metadata": {},
   "outputs": [],
   "source": [
    "# left join with labels (aggregating and feature engineering)\n",
    "df_engg_feats_labels = pd.merge(\n",
    "    df_engg_feats_2, df_labels, how=\"inner\", on=\"bookingID\")"
   ]
  },
  {
   "cell_type": "code",
   "execution_count": 10,
   "metadata": {},
   "outputs": [],
   "source": [
    "df_engg_feats_labels.drop_duplicates(subset=\"bookingID\", inplace=True)"
   ]
  },
  {
   "cell_type": "code",
   "execution_count": 11,
   "metadata": {},
   "outputs": [],
   "source": [
    "# get feature set\n",
    "X0 = df_engg_feats_2.drop([\"bookingID\"], axis=1)\n",
    "cols = X0.columns"
   ]
  },
  {
   "cell_type": "code",
   "execution_count": 12,
   "metadata": {},
   "outputs": [],
   "source": [
    "y = df_engg_feats_labels.label"
   ]
  },
  {
   "cell_type": "markdown",
   "metadata": {},
   "source": [
    "There are 252 samples under class 1 and 748 classes under class 0."
   ]
  },
  {
   "cell_type": "code",
   "execution_count": 13,
   "metadata": {},
   "outputs": [
    {
     "data": {
      "text/plain": [
       "Counter({0: 748, 1: 252})"
      ]
     },
     "execution_count": 13,
     "metadata": {},
     "output_type": "execute_result"
    }
   ],
   "source": [
    "# 0s and 1s\n",
    "Counter(y)"
   ]
  },
  {
   "cell_type": "markdown",
   "metadata": {},
   "source": [
    "The Proportional Chance Criterion or the probability of getting the right class by random chance is 62.3%."
   ]
  },
  {
   "cell_type": "code",
   "execution_count": 14,
   "metadata": {},
   "outputs": [
    {
     "data": {
      "text/plain": [
       "0.623008"
      ]
     },
     "execution_count": 14,
     "metadata": {},
     "output_type": "execute_result"
    }
   ],
   "source": [
    "# proportional chance criterion\n",
    "state_counts = Counter(y)\n",
    "df_state = pd.DataFrame.from_dict(state_counts, orient='index')\n",
    "num = (df_state[0] / df_state[0].sum())**2\n",
    "pcc = num.sum()\n",
    "pcc"
   ]
  },
  {
   "cell_type": "markdown",
   "metadata": {},
   "source": [
    "## Model Predicting"
   ]
  },
  {
   "cell_type": "markdown",
   "metadata": {},
   "source": [
    "We defined a function below that will return the predictions from multiple trained models."
   ]
  },
  {
   "cell_type": "code",
   "execution_count": 15,
   "metadata": {},
   "outputs": [],
   "source": [
    "# ensemble of top models\n",
    "\n",
    "\n",
    "def predict(scaler=\"minmax\"):\n",
    "    \"\"\"\n",
    "    Given scaler name, scale dataset and predict using pretrained models\n",
    "    Uses all features\n",
    "    Return prediction as array of 0s and 1s from all models\n",
    "    \"\"\"\n",
    "\n",
    "    # scaling\n",
    "    path = f\"scalers/{scaler}.sav\"\n",
    "    sc = pickle.load(open(path, 'rb'))\n",
    "\n",
    "    y_preds = []\n",
    "\n",
    "    # scale X\n",
    "    X = pd.DataFrame(sc.transform(X0))\n",
    "    X.columns = cols\n",
    "\n",
    "    model_names = [f\"models/{model}_{scaler}.sav\" for model in ['gbm', 'svc']]\n",
    "\n",
    "    for model_name in model_names:\n",
    "        # load the model from disk (machine learning)\n",
    "        filename = model_name\n",
    "        model = pickle.load(open(filename, 'rb'))\n",
    "        y_pred = model.predict(X)\n",
    "        print(accuracy_score(y, y_pred), model_name)\n",
    "\n",
    "        y_preds.append(y_pred)\n",
    "\n",
    "    return y_preds"
   ]
  },
  {
   "cell_type": "markdown",
   "metadata": {},
   "source": [
    "We predict on multiple models for both standard and min-max scaling. We printed the accuracy per model. Finally, we get the average value for each prediction and rounded them to 0 or 1. This will be used as the final prediction."
   ]
  },
  {
   "cell_type": "code",
   "execution_count": 16,
   "metadata": {},
   "outputs": [
    {
     "name": "stdout",
     "output_type": "stream",
     "text": [
      "0.703 models/gbm_minmax.sav\n",
      "0.694 models/svc_minmax.sav\n",
      "0.701 models/gbm_std.sav\n",
      "0.675 models/svc_std.sav\n"
     ]
    }
   ],
   "source": [
    "y_pred_minmax = predict(\"minmax\")\n",
    "y_pred_std = predict(\"std\")\n",
    "\n",
    "# concatenate results from std and minmax models\n",
    "y_pred_all = y_pred_std + y_pred_minmax\n",
    "\n",
    "# get average of all values\n",
    "y_pred = np.round(np.array([np.array(i).flatten()\n",
    "                            for i in y_pred_all]).mean(axis=0), 0)"
   ]
  },
  {
   "cell_type": "markdown",
   "metadata": {},
   "source": [
    "Our accuracy using the ensemble of models is 71%."
   ]
  },
  {
   "cell_type": "code",
   "execution_count": 17,
   "metadata": {},
   "outputs": [
    {
     "data": {
      "text/plain": [
       "0.718"
      ]
     },
     "execution_count": 17,
     "metadata": {},
     "output_type": "execute_result"
    }
   ],
   "source": [
    "# Evaluation\n",
    "accuracy_score(y, y_pred)"
   ]
  },
  {
   "cell_type": "markdown",
   "metadata": {},
   "source": [
    "We finally plot a confusion matrix comparing the true values and predicted values. We see that 75% of samples with 0 class were predicted correctly while 60% of samples with 1 class were predicted correctly. `grab-ai-predicting` contains the pipeline for predicting safe driving on new datasets."
   ]
  },
  {
   "cell_type": "code",
   "execution_count": 18,
   "metadata": {
    "scrolled": false
   },
   "outputs": [
    {
     "name": "stdout",
     "output_type": "stream",
     "text": [
      "Confusion matrix, without normalization\n",
      "[[572 176]\n",
      " [106 146]]\n",
      "Normalized confusion matrix\n",
      "[[0.76 0.24]\n",
      " [0.42 0.58]]\n"
     ]
    },
    {
     "data": {
      "image/png": "[encoded data removed]",
      "text/plain": [
       "<Figure size 432x288 with 2 Axes>"
      ]
     },
     "metadata": {},
     "output_type": "display_data"
    },
    {
     "data": {
      "image/png": "[encoded data removed]",
      "text/plain": [
       "<Figure size 432x288 with 2 Axes>"
      ]
     },
     "metadata": {},
     "output_type": "display_data"
    }
   ],
   "source": [
    "def plot_confusion_matrix(y_true, y_pred, classes,\n",
    "                          normalize=False,\n",
    "                          title=None,\n",
    "                          cmap=plt.cm.Blues):\n",
    "    \"\"\"\n",
    "    This function prints and plots the confusion matrix.\n",
    "    Normalization can be applied by setting `normalize=True`.\n",
    "    \"\"\"\n",
    "    if not title:\n",
    "        if normalize:\n",
    "            title = 'Normalized confusion matrix'\n",
    "        else:\n",
    "            title = 'Confusion matrix, without normalization'\n",
    "\n",
    "    # Compute confusion matrix\n",
    "    cm = confusion_matrix(y_true, y_pred)\n",
    "    # Only use the labels that appear in the data\n",
    "    classes = [0, 1]\n",
    "    if normalize:\n",
    "        cm = cm.astype('float') / cm.sum(axis=1)[:, np.newaxis]\n",
    "        print(\"Normalized confusion matrix\")\n",
    "    else:\n",
    "        print('Confusion matrix, without normalization')\n",
    "\n",
    "    print(cm)\n",
    "\n",
    "    fig, ax = plt.subplots()\n",
    "    im = ax.imshow(cm, interpolation='nearest', cmap=cmap)\n",
    "    ax.figure.colorbar(im, ax=ax)\n",
    "    # We want to show all ticks...\n",
    "    ax.set(xticks=np.arange(cm.shape[1]),\n",
    "           yticks=np.arange(cm.shape[0]),\n",
    "           # ... and label them with the respective list entries\n",
    "           xticklabels=classes, yticklabels=classes,\n",
    "           title=title,\n",
    "           ylabel='True label',\n",
    "           xlabel='Predicted label')\n",
    "\n",
    "    # Rotate the tick labels and set their alignment.\n",
    "    plt.setp(ax.get_xticklabels(), rotation=45, ha=\"right\",\n",
    "             rotation_mode=\"anchor\")\n",
    "\n",
    "    # Loop over data dimensions and create text annotations.\n",
    "    fmt = '.2f' if normalize else 'd'\n",
    "    thresh = cm.max() / 2.\n",
    "    for i in range(cm.shape[0]):\n",
    "        for j in range(cm.shape[1]):\n",
    "            ax.text(j, i, format(cm[i, j], fmt),\n",
    "                    ha=\"center\", va=\"center\",\n",
    "                    color=\"white\" if cm[i, j] > thresh else \"black\")\n",
    "    fig.tight_layout()\n",
    "    return ax\n",
    "\n",
    "\n",
    "np.set_printoptions(precision=2)\n",
    "\n",
    "class_names = [0, 1]\n",
    "\n",
    "# Plot non-normalized confusion matrix\n",
    "plot_confusion_matrix(y, y_pred, classes=class_names,\n",
    "                      title='Confusion matrix, without normalization')\n",
    "\n",
    "# Plot normalized confusion matrix\n",
    "plot_confusion_matrix(y, y_pred, classes=class_names, normalize=True,\n",
    "                      title='Normalized confusion matrix')\n",
    "\n",
    "plt.show()"
   ]
  },
  {
   "cell_type": "code",
   "execution_count": null,
   "metadata": {},
   "outputs": [],
   "source": []
  }
 ],
 "metadata": {
  "hide_input": false,
  "kernelspec": {
   "display_name": "Environment (conda_tensorflow_p36)",
   "language": "python",
   "name": "conda_tensorflow_p36"
  },
  "language_info": {
   "codemirror_mode": {
    "name": "ipython",
    "version": 3
   },
   "file_extension": ".py",
   "mimetype": "text/x-python",
   "name": "python",
   "nbconvert_exporter": "python",
   "pygments_lexer": "ipython3",
   "version": "3.6.5"
  },
  "latex_envs": {
   "LaTeX_envs_menu_present": true,
   "autoclose": false,
   "autocomplete": true,
   "bibliofile": "biblio.bib",
   "cite_by": "apalike",
   "current_citInitial": 1,
   "eqLabelWithNumbers": true,
   "eqNumInitial": 1,
   "hotkeys": {
    "equation": "Ctrl-E",
    "itemize": "Ctrl-I"
   },
   "labels_anchors": false,
   "latex_user_defs": false,
   "report_style_numbering": false,
   "user_envs_cfg": false
  },
  "toc": {
   "base_numbering": 1,
   "nav_menu": {},
   "number_sections": true,
   "sideBar": true,
   "skip_h1_title": false,
   "title_cell": "Table of Contents",
   "title_sidebar": "Contents",
   "toc_cell": false,
   "toc_position": {},
   "toc_section_display": true,
   "toc_window_display": false
  }
 },
 "nbformat": 4,
 "nbformat_minor": 2
}
